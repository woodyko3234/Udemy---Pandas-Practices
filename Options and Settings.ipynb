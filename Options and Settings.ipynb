{
 "cells": [
  {
   "cell_type": "code",
   "execution_count": 1,
   "metadata": {
    "collapsed": true
   },
   "outputs": [],
   "source": [
    "import pandas as pd\n",
    "import numpy as np"
   ]
  },
  {
   "cell_type": "code",
   "execution_count": 2,
   "metadata": {},
   "outputs": [
    {
     "data": {
      "text/plain": [
       "'0.23.0'"
      ]
     },
     "execution_count": 2,
     "metadata": {},
     "output_type": "execute_result"
    }
   ],
   "source": [
    "pd.__version__"
   ]
  },
  {
   "cell_type": "markdown",
   "metadata": {},
   "source": [
    "## Changing Options with Attributes and Dot Syntax"
   ]
  },
  {
   "cell_type": "code",
   "execution_count": 3,
   "metadata": {},
   "outputs": [
    {
     "data": {
      "text/html": [
       "<div>\n",
       "<style scoped>\n",
       "    .dataframe tbody tr th:only-of-type {\n",
       "        vertical-align: middle;\n",
       "    }\n",
       "\n",
       "    .dataframe tbody tr th {\n",
       "        vertical-align: top;\n",
       "    }\n",
       "\n",
       "    .dataframe thead th {\n",
       "        text-align: right;\n",
       "    }\n",
       "</style>\n",
       "<table border=\"1\" class=\"dataframe\">\n",
       "  <thead>\n",
       "    <tr style=\"text-align: right;\">\n",
       "      <th></th>\n",
       "      <th>0</th>\n",
       "      <th>1</th>\n",
       "      <th>2</th>\n",
       "      <th>3</th>\n",
       "      <th>4</th>\n",
       "      <th>5</th>\n",
       "      <th>6</th>\n",
       "      <th>7</th>\n",
       "      <th>8</th>\n",
       "      <th>9</th>\n",
       "      <th>...</th>\n",
       "      <th>40</th>\n",
       "      <th>41</th>\n",
       "      <th>42</th>\n",
       "      <th>43</th>\n",
       "      <th>44</th>\n",
       "      <th>45</th>\n",
       "      <th>46</th>\n",
       "      <th>47</th>\n",
       "      <th>48</th>\n",
       "      <th>49</th>\n",
       "    </tr>\n",
       "  </thead>\n",
       "  <tbody>\n",
       "    <tr>\n",
       "      <th>998</th>\n",
       "      <td>43</td>\n",
       "      <td>37</td>\n",
       "      <td>72</td>\n",
       "      <td>16</td>\n",
       "      <td>29</td>\n",
       "      <td>8</td>\n",
       "      <td>61</td>\n",
       "      <td>79</td>\n",
       "      <td>63</td>\n",
       "      <td>38</td>\n",
       "      <td>...</td>\n",
       "      <td>58</td>\n",
       "      <td>57</td>\n",
       "      <td>16</td>\n",
       "      <td>5</td>\n",
       "      <td>75</td>\n",
       "      <td>86</td>\n",
       "      <td>61</td>\n",
       "      <td>43</td>\n",
       "      <td>93</td>\n",
       "      <td>75</td>\n",
       "    </tr>\n",
       "    <tr>\n",
       "      <th>999</th>\n",
       "      <td>75</td>\n",
       "      <td>12</td>\n",
       "      <td>2</td>\n",
       "      <td>9</td>\n",
       "      <td>15</td>\n",
       "      <td>2</td>\n",
       "      <td>50</td>\n",
       "      <td>24</td>\n",
       "      <td>93</td>\n",
       "      <td>49</td>\n",
       "      <td>...</td>\n",
       "      <td>31</td>\n",
       "      <td>6</td>\n",
       "      <td>46</td>\n",
       "      <td>74</td>\n",
       "      <td>73</td>\n",
       "      <td>9</td>\n",
       "      <td>70</td>\n",
       "      <td>66</td>\n",
       "      <td>49</td>\n",
       "      <td>70</td>\n",
       "    </tr>\n",
       "  </tbody>\n",
       "</table>\n",
       "<p>2 rows × 50 columns</p>\n",
       "</div>"
      ],
      "text/plain": [
       "     0   1   2   3   4   5   6   7   8   9  ...  40  41  42  43  44  45  46  \\\n",
       "998  43  37  72  16  29   8  61  79  63  38 ...  58  57  16   5  75  86  61   \n",
       "999  75  12   2   9  15   2  50  24  93  49 ...  31   6  46  74  73   9  70   \n",
       "\n",
       "     47  48  49  \n",
       "998  43  93  75  \n",
       "999  66  49  70  \n",
       "\n",
       "[2 rows x 50 columns]"
      ]
     },
     "execution_count": 3,
     "metadata": {},
     "output_type": "execute_result"
    }
   ],
   "source": [
    "data = np.random.randint(0, 100, [1000, 50])\n",
    "df = pd.DataFrame(data)\n",
    "df.tail(2)"
   ]
  },
  {
   "cell_type": "code",
   "execution_count": 4,
   "metadata": {
    "collapsed": true
   },
   "outputs": [],
   "source": [
    "pd.options.display.max_rows = 4"
   ]
  },
  {
   "cell_type": "code",
   "execution_count": 5,
   "metadata": {
    "collapsed": true
   },
   "outputs": [],
   "source": [
    "pd.options.display.max_columns = 8"
   ]
  },
  {
   "cell_type": "code",
   "execution_count": 6,
   "metadata": {},
   "outputs": [
    {
     "data": {
      "text/html": [
       "<div>\n",
       "<style scoped>\n",
       "    .dataframe tbody tr th:only-of-type {\n",
       "        vertical-align: middle;\n",
       "    }\n",
       "\n",
       "    .dataframe tbody tr th {\n",
       "        vertical-align: top;\n",
       "    }\n",
       "\n",
       "    .dataframe thead th {\n",
       "        text-align: right;\n",
       "    }\n",
       "</style>\n",
       "<table border=\"1\" class=\"dataframe\">\n",
       "  <thead>\n",
       "    <tr style=\"text-align: right;\">\n",
       "      <th></th>\n",
       "      <th>0</th>\n",
       "      <th>1</th>\n",
       "      <th>2</th>\n",
       "      <th>3</th>\n",
       "      <th>...</th>\n",
       "      <th>46</th>\n",
       "      <th>47</th>\n",
       "      <th>48</th>\n",
       "      <th>49</th>\n",
       "    </tr>\n",
       "  </thead>\n",
       "  <tbody>\n",
       "    <tr>\n",
       "      <th>0</th>\n",
       "      <td>7</td>\n",
       "      <td>60</td>\n",
       "      <td>92</td>\n",
       "      <td>52</td>\n",
       "      <td>...</td>\n",
       "      <td>15</td>\n",
       "      <td>79</td>\n",
       "      <td>47</td>\n",
       "      <td>26</td>\n",
       "    </tr>\n",
       "    <tr>\n",
       "      <th>1</th>\n",
       "      <td>6</td>\n",
       "      <td>27</td>\n",
       "      <td>20</td>\n",
       "      <td>3</td>\n",
       "      <td>...</td>\n",
       "      <td>89</td>\n",
       "      <td>79</td>\n",
       "      <td>97</td>\n",
       "      <td>85</td>\n",
       "    </tr>\n",
       "    <tr>\n",
       "      <th>...</th>\n",
       "      <td>...</td>\n",
       "      <td>...</td>\n",
       "      <td>...</td>\n",
       "      <td>...</td>\n",
       "      <td>...</td>\n",
       "      <td>...</td>\n",
       "      <td>...</td>\n",
       "      <td>...</td>\n",
       "      <td>...</td>\n",
       "    </tr>\n",
       "    <tr>\n",
       "      <th>998</th>\n",
       "      <td>43</td>\n",
       "      <td>37</td>\n",
       "      <td>72</td>\n",
       "      <td>16</td>\n",
       "      <td>...</td>\n",
       "      <td>61</td>\n",
       "      <td>43</td>\n",
       "      <td>93</td>\n",
       "      <td>75</td>\n",
       "    </tr>\n",
       "    <tr>\n",
       "      <th>999</th>\n",
       "      <td>75</td>\n",
       "      <td>12</td>\n",
       "      <td>2</td>\n",
       "      <td>9</td>\n",
       "      <td>...</td>\n",
       "      <td>70</td>\n",
       "      <td>66</td>\n",
       "      <td>49</td>\n",
       "      <td>70</td>\n",
       "    </tr>\n",
       "  </tbody>\n",
       "</table>\n",
       "<p>1000 rows × 50 columns</p>\n",
       "</div>"
      ],
      "text/plain": [
       "     0   1   2   3  ...  46  47  48  49\n",
       "0     7  60  92  52 ...  15  79  47  26\n",
       "1     6  27  20   3 ...  89  79  97  85\n",
       "..   ..  ..  ..  .. ...  ..  ..  ..  ..\n",
       "998  43  37  72  16 ...  61  43  93  75\n",
       "999  75  12   2   9 ...  70  66  49  70\n",
       "\n",
       "[1000 rows x 50 columns]"
      ]
     },
     "execution_count": 6,
     "metadata": {},
     "output_type": "execute_result"
    }
   ],
   "source": [
    "df"
   ]
  },
  {
   "cell_type": "markdown",
   "metadata": {},
   "source": [
    "## Changing `pandas` Options with Methods"
   ]
  },
  {
   "cell_type": "code",
   "execution_count": 8,
   "metadata": {},
   "outputs": [
    {
     "data": {
      "text/html": [
       "<div>\n",
       "<style scoped>\n",
       "    .dataframe tbody tr th:only-of-type {\n",
       "        vertical-align: middle;\n",
       "    }\n",
       "\n",
       "    .dataframe tbody tr th {\n",
       "        vertical-align: top;\n",
       "    }\n",
       "\n",
       "    .dataframe thead th {\n",
       "        text-align: right;\n",
       "    }\n",
       "</style>\n",
       "<table border=\"1\" class=\"dataframe\">\n",
       "  <thead>\n",
       "    <tr style=\"text-align: right;\">\n",
       "      <th></th>\n",
       "      <th>0</th>\n",
       "      <th>1</th>\n",
       "      <th>2</th>\n",
       "      <th>3</th>\n",
       "      <th>...</th>\n",
       "      <th>46</th>\n",
       "      <th>47</th>\n",
       "      <th>48</th>\n",
       "      <th>49</th>\n",
       "    </tr>\n",
       "  </thead>\n",
       "  <tbody>\n",
       "    <tr>\n",
       "      <th>998</th>\n",
       "      <td>52</td>\n",
       "      <td>28</td>\n",
       "      <td>68</td>\n",
       "      <td>25</td>\n",
       "      <td>...</td>\n",
       "      <td>97</td>\n",
       "      <td>79</td>\n",
       "      <td>36</td>\n",
       "      <td>69</td>\n",
       "    </tr>\n",
       "    <tr>\n",
       "      <th>999</th>\n",
       "      <td>27</td>\n",
       "      <td>18</td>\n",
       "      <td>63</td>\n",
       "      <td>44</td>\n",
       "      <td>...</td>\n",
       "      <td>36</td>\n",
       "      <td>59</td>\n",
       "      <td>71</td>\n",
       "      <td>32</td>\n",
       "    </tr>\n",
       "  </tbody>\n",
       "</table>\n",
       "<p>2 rows × 50 columns</p>\n",
       "</div>"
      ],
      "text/plain": [
       "     0   1   2   3  ...  46  47  48  49\n",
       "998  52  28  68  25 ...  97  79  36  69\n",
       "999  27  18  63  44 ...  36  59  71  32\n",
       "\n",
       "[2 rows x 50 columns]"
      ]
     },
     "execution_count": 8,
     "metadata": {},
     "output_type": "execute_result"
    }
   ],
   "source": [
    "data = np.random.randint(0, 100, [1000, 50])\n",
    "df = pd.DataFrame(data)\n",
    "df.tail(2)"
   ]
  },
  {
   "cell_type": "code",
   "execution_count": 10,
   "metadata": {},
   "outputs": [
    {
     "data": {
      "text/plain": [
       "4"
      ]
     },
     "execution_count": 10,
     "metadata": {},
     "output_type": "execute_result"
    }
   ],
   "source": [
    "pd.get_option(\"max_rows\")"
   ]
  },
  {
   "cell_type": "code",
   "execution_count": 11,
   "metadata": {},
   "outputs": [
    {
     "data": {
      "text/plain": [
       "8"
      ]
     },
     "execution_count": 11,
     "metadata": {},
     "output_type": "execute_result"
    }
   ],
   "source": [
    "pd.get_option(\"max_columns\")"
   ]
  },
  {
   "cell_type": "code",
   "execution_count": 12,
   "metadata": {
    "collapsed": true
   },
   "outputs": [],
   "source": [
    "pd.set_option(\"max_columns\", 20)"
   ]
  },
  {
   "cell_type": "code",
   "execution_count": 13,
   "metadata": {
    "collapsed": true
   },
   "outputs": [],
   "source": [
    "pd.options.display.max_columns = 10"
   ]
  },
  {
   "cell_type": "code",
   "execution_count": 14,
   "metadata": {},
   "outputs": [
    {
     "data": {
      "text/plain": [
       "10"
      ]
     },
     "execution_count": 14,
     "metadata": {},
     "output_type": "execute_result"
    }
   ],
   "source": [
    "pd.get_option(\"mAX_columns\")"
   ]
  },
  {
   "cell_type": "code",
   "execution_count": 15,
   "metadata": {
    "collapsed": true
   },
   "outputs": [],
   "source": [
    "pd.reset_option(\"max_columns\")"
   ]
  },
  {
   "cell_type": "code",
   "execution_count": 16,
   "metadata": {},
   "outputs": [
    {
     "data": {
      "text/plain": [
       "20"
      ]
     },
     "execution_count": 16,
     "metadata": {},
     "output_type": "execute_result"
    }
   ],
   "source": [
    "pd.get_option(\"max_columns\")"
   ]
  },
  {
   "cell_type": "code",
   "execution_count": 17,
   "metadata": {},
   "outputs": [
    {
     "name": "stdout",
     "output_type": "stream",
     "text": [
      "display.max_columns : int\n",
      "    If max_cols is exceeded, switch to truncate view. Depending on\n",
      "    `large_repr`, objects are either centrally truncated or printed as\n",
      "    a summary view. 'None' value means unlimited.\n",
      "\n",
      "    In case python/IPython is running in a terminal and `large_repr`\n",
      "    equals 'truncate' this can be set to 0 and pandas will auto-detect\n",
      "    the width of the terminal and print a truncated object which fits\n",
      "    the screen width. The IPython notebook, IPython qtconsole, or IDLE\n",
      "    do not run in a terminal and hence it is not possible to do\n",
      "    correct auto-detection.\n",
      "    [default: 20] [currently: 20]\n",
      "\n",
      "\n"
     ]
    }
   ],
   "source": [
    "pd.describe_option(\"max_columns\")"
   ]
  },
  {
   "cell_type": "markdown",
   "metadata": {},
   "source": [
    "## The `precision` Option"
   ]
  },
  {
   "cell_type": "code",
   "execution_count": 58,
   "metadata": {},
   "outputs": [
    {
     "data": {
      "text/html": [
       "<div>\n",
       "<table border=\"1\" class=\"dataframe\">\n",
       "  <thead>\n",
       "    <tr style=\"text-align: right;\">\n",
       "      <th></th>\n",
       "      <th>0</th>\n",
       "      <th>1</th>\n",
       "      <th>2</th>\n",
       "      <th>3</th>\n",
       "      <th>4</th>\n",
       "    </tr>\n",
       "  </thead>\n",
       "  <tbody>\n",
       "    <tr>\n",
       "      <th>0</th>\n",
       "      <td>-0.295331</td>\n",
       "      <td>0.297070</td>\n",
       "      <td>0.414826</td>\n",
       "      <td>0.470304</td>\n",
       "      <td>-0.824621</td>\n",
       "    </tr>\n",
       "    <tr>\n",
       "      <th>1</th>\n",
       "      <td>1.640154</td>\n",
       "      <td>-3.218202</td>\n",
       "      <td>0.911258</td>\n",
       "      <td>-0.117271</td>\n",
       "      <td>-0.128362</td>\n",
       "    </tr>\n",
       "    <tr>\n",
       "      <th>2</th>\n",
       "      <td>1.207132</td>\n",
       "      <td>1.173281</td>\n",
       "      <td>0.857209</td>\n",
       "      <td>-0.482647</td>\n",
       "      <td>-0.771982</td>\n",
       "    </tr>\n",
       "    <tr>\n",
       "      <th>3</th>\n",
       "      <td>-0.171130</td>\n",
       "      <td>0.303083</td>\n",
       "      <td>-0.572508</td>\n",
       "      <td>-1.133498</td>\n",
       "      <td>-1.233743</td>\n",
       "    </tr>\n",
       "    <tr>\n",
       "      <th>4</th>\n",
       "      <td>0.479362</td>\n",
       "      <td>1.370951</td>\n",
       "      <td>1.879856</td>\n",
       "      <td>-1.352938</td>\n",
       "      <td>-0.759176</td>\n",
       "    </tr>\n",
       "  </tbody>\n",
       "</table>\n",
       "</div>"
      ],
      "text/plain": [
       "          0         1         2         3         4\n",
       "0 -0.295331  0.297070  0.414826  0.470304 -0.824621\n",
       "1  1.640154 -3.218202  0.911258 -0.117271 -0.128362\n",
       "2  1.207132  1.173281  0.857209 -0.482647 -0.771982\n",
       "3 -0.171130  0.303083 -0.572508 -1.133498 -1.233743\n",
       "4  0.479362  1.370951  1.879856 -1.352938 -0.759176"
      ]
     },
     "execution_count": 58,
     "metadata": {},
     "output_type": "execute_result"
    }
   ],
   "source": [
    "df = pd.DataFrame(np.random.randn(5, 5))\n",
    "df"
   ]
  },
  {
   "cell_type": "code",
   "execution_count": 59,
   "metadata": {},
   "outputs": [
    {
     "data": {
      "text/plain": [
       "6"
      ]
     },
     "execution_count": 59,
     "metadata": {},
     "output_type": "execute_result"
    }
   ],
   "source": [
    "pd.get_option(\"precision\")"
   ]
  },
  {
   "cell_type": "code",
   "execution_count": 60,
   "metadata": {
    "collapsed": true
   },
   "outputs": [],
   "source": [
    "pd.set_option(\"precision\", 2)"
   ]
  },
  {
   "cell_type": "code",
   "execution_count": 63,
   "metadata": {},
   "outputs": [
    {
     "data": {
      "text/html": [
       "<div>\n",
       "<table border=\"1\" class=\"dataframe\">\n",
       "  <thead>\n",
       "    <tr style=\"text-align: right;\">\n",
       "      <th></th>\n",
       "      <th>0</th>\n",
       "      <th>1</th>\n",
       "      <th>2</th>\n",
       "      <th>3</th>\n",
       "      <th>4</th>\n",
       "    </tr>\n",
       "  </thead>\n",
       "  <tbody>\n",
       "    <tr>\n",
       "      <th>0</th>\n",
       "      <td>-0.295331</td>\n",
       "      <td>0.297070</td>\n",
       "      <td>0.414826</td>\n",
       "      <td>0.470304</td>\n",
       "      <td>-0.824621</td>\n",
       "    </tr>\n",
       "    <tr>\n",
       "      <th>1</th>\n",
       "      <td>1.640154</td>\n",
       "      <td>-3.218202</td>\n",
       "      <td>0.911258</td>\n",
       "      <td>-0.117271</td>\n",
       "      <td>-0.128362</td>\n",
       "    </tr>\n",
       "    <tr>\n",
       "      <th>2</th>\n",
       "      <td>1.207132</td>\n",
       "      <td>1.173281</td>\n",
       "      <td>0.857209</td>\n",
       "      <td>-0.482647</td>\n",
       "      <td>-0.771982</td>\n",
       "    </tr>\n",
       "    <tr>\n",
       "      <th>3</th>\n",
       "      <td>-0.171130</td>\n",
       "      <td>0.303083</td>\n",
       "      <td>-0.572508</td>\n",
       "      <td>-1.133498</td>\n",
       "      <td>-1.233743</td>\n",
       "    </tr>\n",
       "    <tr>\n",
       "      <th>4</th>\n",
       "      <td>0.479362</td>\n",
       "      <td>1.370951</td>\n",
       "      <td>1.879856</td>\n",
       "      <td>-1.352938</td>\n",
       "      <td>-0.759176</td>\n",
       "    </tr>\n",
       "  </tbody>\n",
       "</table>\n",
       "</div>"
      ],
      "text/plain": [
       "          0         1         2         3         4\n",
       "0 -0.295331  0.297070  0.414826  0.470304 -0.824621\n",
       "1  1.640154 -3.218202  0.911258 -0.117271 -0.128362\n",
       "2  1.207132  1.173281  0.857209 -0.482647 -0.771982\n",
       "3 -0.171130  0.303083 -0.572508 -1.133498 -1.233743\n",
       "4  0.479362  1.370951  1.879856 -1.352938 -0.759176"
      ]
     },
     "execution_count": 63,
     "metadata": {},
     "output_type": "execute_result"
    }
   ],
   "source": [
    "df"
   ]
  },
  {
   "cell_type": "code",
   "execution_count": 62,
   "metadata": {
    "collapsed": true
   },
   "outputs": [],
   "source": [
    "pd.reset_option(\"precision\")"
   ]
  },
  {
   "cell_type": "markdown",
   "metadata": {},
   "source": [
    "## The `chop_threshold()` Option"
   ]
  },
  {
   "cell_type": "code",
   "execution_count": 66,
   "metadata": {},
   "outputs": [
    {
     "data": {
      "text/html": [
       "<div>\n",
       "<table border=\"1\" class=\"dataframe\">\n",
       "  <thead>\n",
       "    <tr style=\"text-align: right;\">\n",
       "      <th></th>\n",
       "      <th>0</th>\n",
       "      <th>1</th>\n",
       "      <th>2</th>\n",
       "      <th>3</th>\n",
       "      <th>4</th>\n",
       "      <th>5</th>\n",
       "      <th>6</th>\n",
       "      <th>7</th>\n",
       "      <th>8</th>\n",
       "      <th>9</th>\n",
       "    </tr>\n",
       "  </thead>\n",
       "  <tbody>\n",
       "    <tr>\n",
       "      <th>0</th>\n",
       "      <td>-0.818364</td>\n",
       "      <td>1.446785</td>\n",
       "      <td>-0.055697</td>\n",
       "      <td>-2.087401</td>\n",
       "      <td>1.704296</td>\n",
       "      <td>1.717609</td>\n",
       "      <td>0.286678</td>\n",
       "      <td>0.204999</td>\n",
       "      <td>-1.165320</td>\n",
       "      <td>-0.303707</td>\n",
       "    </tr>\n",
       "    <tr>\n",
       "      <th>1</th>\n",
       "      <td>-2.464529</td>\n",
       "      <td>0.388007</td>\n",
       "      <td>-0.892435</td>\n",
       "      <td>-0.250245</td>\n",
       "      <td>1.326964</td>\n",
       "      <td>-0.118699</td>\n",
       "      <td>1.306609</td>\n",
       "      <td>-1.327144</td>\n",
       "      <td>0.624324</td>\n",
       "      <td>-0.337857</td>\n",
       "    </tr>\n",
       "    <tr>\n",
       "      <th>2</th>\n",
       "      <td>-1.508188</td>\n",
       "      <td>0.939835</td>\n",
       "      <td>0.508410</td>\n",
       "      <td>-0.124418</td>\n",
       "      <td>1.193116</td>\n",
       "      <td>-0.856065</td>\n",
       "      <td>1.229839</td>\n",
       "      <td>0.180405</td>\n",
       "      <td>0.378934</td>\n",
       "      <td>-0.351979</td>\n",
       "    </tr>\n",
       "    <tr>\n",
       "      <th>3</th>\n",
       "      <td>-0.544843</td>\n",
       "      <td>1.264628</td>\n",
       "      <td>0.211928</td>\n",
       "      <td>-0.712001</td>\n",
       "      <td>1.696700</td>\n",
       "      <td>-0.493213</td>\n",
       "      <td>-1.858851</td>\n",
       "      <td>-0.249558</td>\n",
       "      <td>0.992940</td>\n",
       "      <td>0.375184</td>\n",
       "    </tr>\n",
       "    <tr>\n",
       "      <th>4</th>\n",
       "      <td>-1.467734</td>\n",
       "      <td>0.678502</td>\n",
       "      <td>-1.172858</td>\n",
       "      <td>0.149993</td>\n",
       "      <td>0.266336</td>\n",
       "      <td>1.294089</td>\n",
       "      <td>3.777307</td>\n",
       "      <td>1.615438</td>\n",
       "      <td>1.100312</td>\n",
       "      <td>-0.151928</td>\n",
       "    </tr>\n",
       "    <tr>\n",
       "      <th>5</th>\n",
       "      <td>-1.135749</td>\n",
       "      <td>0.144889</td>\n",
       "      <td>-0.632217</td>\n",
       "      <td>-0.306317</td>\n",
       "      <td>-0.387950</td>\n",
       "      <td>0.158375</td>\n",
       "      <td>0.411669</td>\n",
       "      <td>0.244311</td>\n",
       "      <td>-0.475423</td>\n",
       "      <td>-0.325315</td>\n",
       "    </tr>\n",
       "    <tr>\n",
       "      <th>6</th>\n",
       "      <td>0.244639</td>\n",
       "      <td>-1.070850</td>\n",
       "      <td>-0.418969</td>\n",
       "      <td>0.414589</td>\n",
       "      <td>0.294766</td>\n",
       "      <td>-1.887719</td>\n",
       "      <td>-0.509860</td>\n",
       "      <td>-1.146085</td>\n",
       "      <td>-1.192093</td>\n",
       "      <td>-0.735611</td>\n",
       "    </tr>\n",
       "    <tr>\n",
       "      <th>7</th>\n",
       "      <td>-0.741170</td>\n",
       "      <td>0.206655</td>\n",
       "      <td>0.753040</td>\n",
       "      <td>0.220852</td>\n",
       "      <td>-0.466147</td>\n",
       "      <td>1.373308</td>\n",
       "      <td>-1.228541</td>\n",
       "      <td>0.902801</td>\n",
       "      <td>-0.371614</td>\n",
       "      <td>-0.321379</td>\n",
       "    </tr>\n",
       "    <tr>\n",
       "      <th>8</th>\n",
       "      <td>0.362392</td>\n",
       "      <td>-0.916309</td>\n",
       "      <td>-1.222503</td>\n",
       "      <td>3.436910</td>\n",
       "      <td>0.418116</td>\n",
       "      <td>-0.802884</td>\n",
       "      <td>-0.004632</td>\n",
       "      <td>0.451785</td>\n",
       "      <td>-0.908589</td>\n",
       "      <td>-2.361635</td>\n",
       "    </tr>\n",
       "    <tr>\n",
       "      <th>9</th>\n",
       "      <td>-1.065529</td>\n",
       "      <td>-0.365192</td>\n",
       "      <td>0.402636</td>\n",
       "      <td>-0.505971</td>\n",
       "      <td>1.606791</td>\n",
       "      <td>-0.270967</td>\n",
       "      <td>-0.912278</td>\n",
       "      <td>0.555473</td>\n",
       "      <td>-0.380102</td>\n",
       "      <td>0.353819</td>\n",
       "    </tr>\n",
       "  </tbody>\n",
       "</table>\n",
       "</div>"
      ],
      "text/plain": [
       "          0         1         2         3         4         5         6  \\\n",
       "0 -0.818364  1.446785 -0.055697 -2.087401  1.704296  1.717609  0.286678   \n",
       "1 -2.464529  0.388007 -0.892435 -0.250245  1.326964 -0.118699  1.306609   \n",
       "2 -1.508188  0.939835  0.508410 -0.124418  1.193116 -0.856065  1.229839   \n",
       "3 -0.544843  1.264628  0.211928 -0.712001  1.696700 -0.493213 -1.858851   \n",
       "4 -1.467734  0.678502 -1.172858  0.149993  0.266336  1.294089  3.777307   \n",
       "5 -1.135749  0.144889 -0.632217 -0.306317 -0.387950  0.158375  0.411669   \n",
       "6  0.244639 -1.070850 -0.418969  0.414589  0.294766 -1.887719 -0.509860   \n",
       "7 -0.741170  0.206655  0.753040  0.220852 -0.466147  1.373308 -1.228541   \n",
       "8  0.362392 -0.916309 -1.222503  3.436910  0.418116 -0.802884 -0.004632   \n",
       "9 -1.065529 -0.365192  0.402636 -0.505971  1.606791 -0.270967 -0.912278   \n",
       "\n",
       "          7         8         9  \n",
       "0  0.204999 -1.165320 -0.303707  \n",
       "1 -1.327144  0.624324 -0.337857  \n",
       "2  0.180405  0.378934 -0.351979  \n",
       "3 -0.249558  0.992940  0.375184  \n",
       "4  1.615438  1.100312 -0.151928  \n",
       "5  0.244311 -0.475423 -0.325315  \n",
       "6 -1.146085 -1.192093 -0.735611  \n",
       "7  0.902801 -0.371614 -0.321379  \n",
       "8  0.451785 -0.908589 -2.361635  \n",
       "9  0.555473 -0.380102  0.353819  "
      ]
     },
     "execution_count": 66,
     "metadata": {},
     "output_type": "execute_result"
    }
   ],
   "source": [
    "df = pd.DataFrame(np.random.randn(10, 10))\n",
    "df"
   ]
  },
  {
   "cell_type": "code",
   "execution_count": 69,
   "metadata": {
    "collapsed": true
   },
   "outputs": [],
   "source": [
    "pd.set_option(\"chop_threshold\", 1)"
   ]
  },
  {
   "cell_type": "code",
   "execution_count": 71,
   "metadata": {
    "collapsed": true
   },
   "outputs": [],
   "source": [
    "pd.reset_option(\"chop_threshold\")"
   ]
  },
  {
   "cell_type": "code",
   "execution_count": 72,
   "metadata": {},
   "outputs": [
    {
     "data": {
      "text/html": [
       "<div>\n",
       "<table border=\"1\" class=\"dataframe\">\n",
       "  <thead>\n",
       "    <tr style=\"text-align: right;\">\n",
       "      <th></th>\n",
       "      <th>0</th>\n",
       "      <th>1</th>\n",
       "      <th>2</th>\n",
       "      <th>3</th>\n",
       "      <th>4</th>\n",
       "      <th>5</th>\n",
       "      <th>6</th>\n",
       "      <th>7</th>\n",
       "      <th>8</th>\n",
       "      <th>9</th>\n",
       "    </tr>\n",
       "  </thead>\n",
       "  <tbody>\n",
       "    <tr>\n",
       "      <th>0</th>\n",
       "      <td>-0.818364</td>\n",
       "      <td>1.446785</td>\n",
       "      <td>-0.055697</td>\n",
       "      <td>-2.087401</td>\n",
       "      <td>1.704296</td>\n",
       "      <td>1.717609</td>\n",
       "      <td>0.286678</td>\n",
       "      <td>0.204999</td>\n",
       "      <td>-1.165320</td>\n",
       "      <td>-0.303707</td>\n",
       "    </tr>\n",
       "    <tr>\n",
       "      <th>1</th>\n",
       "      <td>-2.464529</td>\n",
       "      <td>0.388007</td>\n",
       "      <td>-0.892435</td>\n",
       "      <td>-0.250245</td>\n",
       "      <td>1.326964</td>\n",
       "      <td>-0.118699</td>\n",
       "      <td>1.306609</td>\n",
       "      <td>-1.327144</td>\n",
       "      <td>0.624324</td>\n",
       "      <td>-0.337857</td>\n",
       "    </tr>\n",
       "    <tr>\n",
       "      <th>2</th>\n",
       "      <td>-1.508188</td>\n",
       "      <td>0.939835</td>\n",
       "      <td>0.508410</td>\n",
       "      <td>-0.124418</td>\n",
       "      <td>1.193116</td>\n",
       "      <td>-0.856065</td>\n",
       "      <td>1.229839</td>\n",
       "      <td>0.180405</td>\n",
       "      <td>0.378934</td>\n",
       "      <td>-0.351979</td>\n",
       "    </tr>\n",
       "    <tr>\n",
       "      <th>3</th>\n",
       "      <td>-0.544843</td>\n",
       "      <td>1.264628</td>\n",
       "      <td>0.211928</td>\n",
       "      <td>-0.712001</td>\n",
       "      <td>1.696700</td>\n",
       "      <td>-0.493213</td>\n",
       "      <td>-1.858851</td>\n",
       "      <td>-0.249558</td>\n",
       "      <td>0.992940</td>\n",
       "      <td>0.375184</td>\n",
       "    </tr>\n",
       "    <tr>\n",
       "      <th>4</th>\n",
       "      <td>-1.467734</td>\n",
       "      <td>0.678502</td>\n",
       "      <td>-1.172858</td>\n",
       "      <td>0.149993</td>\n",
       "      <td>0.266336</td>\n",
       "      <td>1.294089</td>\n",
       "      <td>3.777307</td>\n",
       "      <td>1.615438</td>\n",
       "      <td>1.100312</td>\n",
       "      <td>-0.151928</td>\n",
       "    </tr>\n",
       "    <tr>\n",
       "      <th>5</th>\n",
       "      <td>-1.135749</td>\n",
       "      <td>0.144889</td>\n",
       "      <td>-0.632217</td>\n",
       "      <td>-0.306317</td>\n",
       "      <td>-0.387950</td>\n",
       "      <td>0.158375</td>\n",
       "      <td>0.411669</td>\n",
       "      <td>0.244311</td>\n",
       "      <td>-0.475423</td>\n",
       "      <td>-0.325315</td>\n",
       "    </tr>\n",
       "    <tr>\n",
       "      <th>6</th>\n",
       "      <td>0.244639</td>\n",
       "      <td>-1.070850</td>\n",
       "      <td>-0.418969</td>\n",
       "      <td>0.414589</td>\n",
       "      <td>0.294766</td>\n",
       "      <td>-1.887719</td>\n",
       "      <td>-0.509860</td>\n",
       "      <td>-1.146085</td>\n",
       "      <td>-1.192093</td>\n",
       "      <td>-0.735611</td>\n",
       "    </tr>\n",
       "    <tr>\n",
       "      <th>7</th>\n",
       "      <td>-0.741170</td>\n",
       "      <td>0.206655</td>\n",
       "      <td>0.753040</td>\n",
       "      <td>0.220852</td>\n",
       "      <td>-0.466147</td>\n",
       "      <td>1.373308</td>\n",
       "      <td>-1.228541</td>\n",
       "      <td>0.902801</td>\n",
       "      <td>-0.371614</td>\n",
       "      <td>-0.321379</td>\n",
       "    </tr>\n",
       "    <tr>\n",
       "      <th>8</th>\n",
       "      <td>0.362392</td>\n",
       "      <td>-0.916309</td>\n",
       "      <td>-1.222503</td>\n",
       "      <td>3.436910</td>\n",
       "      <td>0.418116</td>\n",
       "      <td>-0.802884</td>\n",
       "      <td>-0.004632</td>\n",
       "      <td>0.451785</td>\n",
       "      <td>-0.908589</td>\n",
       "      <td>-2.361635</td>\n",
       "    </tr>\n",
       "    <tr>\n",
       "      <th>9</th>\n",
       "      <td>-1.065529</td>\n",
       "      <td>-0.365192</td>\n",
       "      <td>0.402636</td>\n",
       "      <td>-0.505971</td>\n",
       "      <td>1.606791</td>\n",
       "      <td>-0.270967</td>\n",
       "      <td>-0.912278</td>\n",
       "      <td>0.555473</td>\n",
       "      <td>-0.380102</td>\n",
       "      <td>0.353819</td>\n",
       "    </tr>\n",
       "  </tbody>\n",
       "</table>\n",
       "</div>"
      ],
      "text/plain": [
       "          0         1         2         3         4         5         6  \\\n",
       "0 -0.818364  1.446785 -0.055697 -2.087401  1.704296  1.717609  0.286678   \n",
       "1 -2.464529  0.388007 -0.892435 -0.250245  1.326964 -0.118699  1.306609   \n",
       "2 -1.508188  0.939835  0.508410 -0.124418  1.193116 -0.856065  1.229839   \n",
       "3 -0.544843  1.264628  0.211928 -0.712001  1.696700 -0.493213 -1.858851   \n",
       "4 -1.467734  0.678502 -1.172858  0.149993  0.266336  1.294089  3.777307   \n",
       "5 -1.135749  0.144889 -0.632217 -0.306317 -0.387950  0.158375  0.411669   \n",
       "6  0.244639 -1.070850 -0.418969  0.414589  0.294766 -1.887719 -0.509860   \n",
       "7 -0.741170  0.206655  0.753040  0.220852 -0.466147  1.373308 -1.228541   \n",
       "8  0.362392 -0.916309 -1.222503  3.436910  0.418116 -0.802884 -0.004632   \n",
       "9 -1.065529 -0.365192  0.402636 -0.505971  1.606791 -0.270967 -0.912278   \n",
       "\n",
       "          7         8         9  \n",
       "0  0.204999 -1.165320 -0.303707  \n",
       "1 -1.327144  0.624324 -0.337857  \n",
       "2  0.180405  0.378934 -0.351979  \n",
       "3 -0.249558  0.992940  0.375184  \n",
       "4  1.615438  1.100312 -0.151928  \n",
       "5  0.244311 -0.475423 -0.325315  \n",
       "6 -1.146085 -1.192093 -0.735611  \n",
       "7  0.902801 -0.371614 -0.321379  \n",
       "8  0.451785 -0.908589 -2.361635  \n",
       "9  0.555473 -0.380102  0.353819  "
      ]
     },
     "execution_count": 72,
     "metadata": {},
     "output_type": "execute_result"
    }
   ],
   "source": [
    "df"
   ]
  },
  {
   "cell_type": "code",
   "execution_count": null,
   "metadata": {
    "collapsed": true
   },
   "outputs": [],
   "source": []
  },
  {
   "cell_type": "code",
   "execution_count": null,
   "metadata": {
    "collapsed": true
   },
   "outputs": [],
   "source": []
  },
  {
   "cell_type": "code",
   "execution_count": null,
   "metadata": {
    "collapsed": true
   },
   "outputs": [],
   "source": []
  },
  {
   "cell_type": "code",
   "execution_count": null,
   "metadata": {
    "collapsed": true
   },
   "outputs": [],
   "source": []
  },
  {
   "cell_type": "code",
   "execution_count": null,
   "metadata": {
    "collapsed": true
   },
   "outputs": [],
   "source": []
  },
  {
   "cell_type": "code",
   "execution_count": null,
   "metadata": {
    "collapsed": true
   },
   "outputs": [],
   "source": []
  },
  {
   "cell_type": "code",
   "execution_count": null,
   "metadata": {
    "collapsed": true
   },
   "outputs": [],
   "source": []
  },
  {
   "cell_type": "code",
   "execution_count": null,
   "metadata": {
    "collapsed": true
   },
   "outputs": [],
   "source": []
  },
  {
   "cell_type": "code",
   "execution_count": null,
   "metadata": {
    "collapsed": true
   },
   "outputs": [],
   "source": []
  },
  {
   "cell_type": "code",
   "execution_count": null,
   "metadata": {
    "collapsed": true
   },
   "outputs": [],
   "source": []
  },
  {
   "cell_type": "code",
   "execution_count": null,
   "metadata": {
    "collapsed": true
   },
   "outputs": [],
   "source": []
  },
  {
   "cell_type": "code",
   "execution_count": null,
   "metadata": {
    "collapsed": true
   },
   "outputs": [],
   "source": []
  },
  {
   "cell_type": "code",
   "execution_count": null,
   "metadata": {
    "collapsed": true
   },
   "outputs": [],
   "source": []
  },
  {
   "cell_type": "code",
   "execution_count": null,
   "metadata": {
    "collapsed": true
   },
   "outputs": [],
   "source": []
  }
 ],
 "metadata": {
  "anaconda-cloud": {},
  "kernelspec": {
   "display_name": "Python [conda root]",
   "language": "python",
   "name": "conda-root-py"
  },
  "language_info": {
   "codemirror_mode": {
    "name": "ipython",
    "version": 3
   },
   "file_extension": ".py",
   "mimetype": "text/x-python",
   "name": "python",
   "nbconvert_exporter": "python",
   "pygments_lexer": "ipython3",
   "version": "3.5.4"
  }
 },
 "nbformat": 4,
 "nbformat_minor": 1
}
