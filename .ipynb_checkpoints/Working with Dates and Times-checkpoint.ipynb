{
 "cells": [
  {
   "cell_type": "code",
   "execution_count": 2,
   "metadata": {
    "collapsed": true
   },
   "outputs": [],
   "source": [
    "import pandas as pd\n",
    "import datetime as dt"
   ]
  },
  {
   "cell_type": "markdown",
   "metadata": {},
   "source": [
    "## Review of Python's `datetime` Module"
   ]
  },
  {
   "cell_type": "code",
   "execution_count": 3,
   "metadata": {
    "collapsed": true
   },
   "outputs": [],
   "source": [
    "someday = dt.date(2018,6,1)"
   ]
  },
  {
   "cell_type": "code",
   "execution_count": 4,
   "metadata": {},
   "outputs": [
    {
     "data": {
      "text/plain": [
       "1"
      ]
     },
     "execution_count": 4,
     "metadata": {},
     "output_type": "execute_result"
    }
   ],
   "source": [
    "someday.year\n",
    "someday.month\n",
    "someday.day"
   ]
  },
  {
   "cell_type": "code",
   "execution_count": 5,
   "metadata": {},
   "outputs": [
    {
     "data": {
      "text/plain": [
       "'2018-06-01'"
      ]
     },
     "execution_count": 5,
     "metadata": {},
     "output_type": "execute_result"
    }
   ],
   "source": [
    "str(someday)"
   ]
  },
  {
   "cell_type": "code",
   "execution_count": 6,
   "metadata": {},
   "outputs": [
    {
     "data": {
      "text/plain": [
       "'2010-01-10 17:13:57'"
      ]
     },
     "execution_count": 6,
     "metadata": {},
     "output_type": "execute_result"
    }
   ],
   "source": [
    "str(dt.datetime(2010, 1, 10, 17, 13, 57))"
   ]
  },
  {
   "cell_type": "code",
   "execution_count": 7,
   "metadata": {
    "collapsed": true
   },
   "outputs": [],
   "source": [
    "sometime = dt.datetime(2010, 1, 10, 17, 13, 57)"
   ]
  },
  {
   "cell_type": "code",
   "execution_count": 8,
   "metadata": {},
   "outputs": [
    {
     "data": {
      "text/plain": [
       "57"
      ]
     },
     "execution_count": 8,
     "metadata": {},
     "output_type": "execute_result"
    }
   ],
   "source": [
    "sometime.year\n",
    "sometime.month\n",
    "sometime.day\n",
    "sometime.hour\n",
    "sometime.minute\n",
    "sometime.second"
   ]
  },
  {
   "cell_type": "markdown",
   "metadata": {},
   "source": [
    "## The `pandas Timestamp` Object"
   ]
  },
  {
   "cell_type": "code",
   "execution_count": 10,
   "metadata": {},
   "outputs": [
    {
     "data": {
      "text/plain": [
       "Timestamp('2021-03-08 18:13:29')"
      ]
     },
     "execution_count": 10,
     "metadata": {},
     "output_type": "execute_result"
    }
   ],
   "source": [
    "pd.Timestamp(\"2015-03-31\")\n",
    "pd.Timestamp(\"2015/03/31\")\n",
    "pd.Timestamp(\"2013, 11, 04\")\n",
    "pd.Timestamp(\"1/1/2015\")\n",
    "pd.Timestamp(\"19/12/2015\")\n",
    "pd.Timestamp(\"12/19/2015\")\n",
    "pd.Timestamp(\"4/3/2000\")\n",
    "pd.Timestamp(\"2021-03-08 08:35:15\")\n",
    "pd.Timestamp(\"2021-03-08 6:13:29 PM\")"
   ]
  },
  {
   "cell_type": "code",
   "execution_count": 11,
   "metadata": {},
   "outputs": [
    {
     "data": {
      "text/plain": [
       "Timestamp('2015-01-01 00:00:00')"
      ]
     },
     "execution_count": 11,
     "metadata": {},
     "output_type": "execute_result"
    }
   ],
   "source": [
    "pd.Timestamp(dt.date(2015, 1, 1))"
   ]
  },
  {
   "cell_type": "code",
   "execution_count": 12,
   "metadata": {},
   "outputs": [
    {
     "data": {
      "text/plain": [
       "Timestamp('2000-02-03 21:35:22')"
      ]
     },
     "execution_count": 12,
     "metadata": {},
     "output_type": "execute_result"
    }
   ],
   "source": [
    "pd.Timestamp(dt.datetime(2000, 2, 3, 21, 35, 22))"
   ]
  },
  {
   "cell_type": "markdown",
   "metadata": {},
   "source": [
    "## The `pandas DateTimeIndex` Object"
   ]
  },
  {
   "cell_type": "code",
   "execution_count": 13,
   "metadata": {},
   "outputs": [
    {
     "data": {
      "text/plain": [
       "DatetimeIndex(['2016-01-02', '2016-04-12', '2009-09-07'], dtype='datetime64[ns]', freq=None)"
      ]
     },
     "execution_count": 13,
     "metadata": {},
     "output_type": "execute_result"
    }
   ],
   "source": [
    "dates = [\"2016/01/02\", \"2016/04/12\", \"2009/09/07\"]\n",
    "pd.DatetimeIndex(dates)"
   ]
  },
  {
   "cell_type": "code",
   "execution_count": 14,
   "metadata": {
    "collapsed": true
   },
   "outputs": [],
   "source": [
    "dates = [dt.date(2016, 1, 10), dt.date(1994, 6, 13), dt.date(2003, 12, 29)]\n",
    "dtIndex = pd.DatetimeIndex(dates)"
   ]
  },
  {
   "cell_type": "code",
   "execution_count": 15,
   "metadata": {},
   "outputs": [
    {
     "data": {
      "text/plain": [
       "2016-01-10    100\n",
       "1994-06-13    200\n",
       "2003-12-29    300\n",
       "dtype: int64"
      ]
     },
     "execution_count": 15,
     "metadata": {},
     "output_type": "execute_result"
    }
   ],
   "source": [
    "values = [100, 200, 300]\n",
    "pd.Series(data = values, index = dtIndex)"
   ]
  },
  {
   "cell_type": "markdown",
   "metadata": {},
   "source": [
    "## The `pd.to_datetime()` Method"
   ]
  },
  {
   "cell_type": "code",
   "execution_count": 16,
   "metadata": {},
   "outputs": [
    {
     "data": {
      "text/plain": [
       "DatetimeIndex(['2015-01-03', '2014-02-08', '2016-01-01', '1996-07-04'], dtype='datetime64[ns]', freq=None)"
      ]
     },
     "execution_count": 16,
     "metadata": {},
     "output_type": "execute_result"
    }
   ],
   "source": [
    "pd.to_datetime(\"2001-04-19\")\n",
    "pd.to_datetime(dt.date(2015, 1, 1))\n",
    "pd.to_datetime(dt.datetime(2015, 1, 1, 14, 35, 20))\n",
    "pd.to_datetime([\"2015-01-03\", \"2014/02/08\", \"2016\", \"July 4th, 1996\"])"
   ]
  },
  {
   "cell_type": "code",
   "execution_count": 17,
   "metadata": {},
   "outputs": [
    {
     "data": {
      "text/plain": [
       "0        2015-01-03\n",
       "1        2014/02/08\n",
       "2              2016\n",
       "3    July 4th, 1996\n",
       "dtype: object"
      ]
     },
     "execution_count": 17,
     "metadata": {},
     "output_type": "execute_result"
    }
   ],
   "source": [
    "times = pd.Series([\"2015-01-03\", \"2014/02/08\", \"2016\", \"July 4th, 1996\"])\n",
    "times"
   ]
  },
  {
   "cell_type": "code",
   "execution_count": 18,
   "metadata": {},
   "outputs": [
    {
     "data": {
      "text/plain": [
       "0   2015-01-03\n",
       "1   2014-02-08\n",
       "2   2016-01-01\n",
       "3   1996-07-04\n",
       "dtype: datetime64[ns]"
      ]
     },
     "execution_count": 18,
     "metadata": {},
     "output_type": "execute_result"
    }
   ],
   "source": [
    "pd.to_datetime(times)"
   ]
  },
  {
   "cell_type": "code",
   "execution_count": 19,
   "metadata": {},
   "outputs": [
    {
     "data": {
      "text/plain": [
       "0    July 4th, 1996\n",
       "1        10/04/1991\n",
       "2             Hello\n",
       "3        2015-02-31\n",
       "dtype: object"
      ]
     },
     "execution_count": 19,
     "metadata": {},
     "output_type": "execute_result"
    }
   ],
   "source": [
    "dates = pd.Series([\"July 4th, 1996\", \"10/04/1991\", \"Hello\", \"2015-02-31\"])\n",
    "dates"
   ]
  },
  {
   "cell_type": "code",
   "execution_count": 21,
   "metadata": {},
   "outputs": [
    {
     "data": {
      "text/plain": [
       "0   1996-07-04\n",
       "1   1991-10-04\n",
       "2          NaT\n",
       "3          NaT\n",
       "dtype: datetime64[ns]"
      ]
     },
     "execution_count": 21,
     "metadata": {},
     "output_type": "execute_result"
    }
   ],
   "source": [
    "pd.to_datetime(dates, errors = \"coerce\")"
   ]
  },
  {
   "cell_type": "code",
   "execution_count": 22,
   "metadata": {},
   "outputs": [
    {
     "data": {
      "text/plain": [
       "DatetimeIndex(['2012-10-08 18:15:05', '2012-10-09 18:15:05',\n",
       "               '2012-10-10 18:15:05', '2012-10-11 18:15:05',\n",
       "               '2012-10-12 18:15:05'],\n",
       "              dtype='datetime64[ns]', freq=None)"
      ]
     },
     "execution_count": 22,
     "metadata": {},
     "output_type": "execute_result"
    }
   ],
   "source": [
    "pd.to_datetime([1349720105, 1349806505, 1349892905, 1349979305, 1350065705], unit = \"s\")"
   ]
  },
  {
   "cell_type": "code",
   "execution_count": 23,
   "metadata": {},
   "outputs": [
    {
     "data": {
      "text/plain": [
       "Period('2016-01-08', '10D')"
      ]
     },
     "execution_count": 23,
     "metadata": {},
     "output_type": "execute_result"
    }
   ],
   "source": [
    "pd.Period(\"2016-01-08\", freq = \"10D\")"
   ]
  },
  {
   "cell_type": "code",
   "execution_count": 24,
   "metadata": {},
   "outputs": [
    {
     "data": {
      "text/plain": [
       "2016-01    1\n",
       "2016-02    2\n",
       "2016-03    3\n",
       "Freq: 2M, dtype: int64"
      ]
     },
     "execution_count": 24,
     "metadata": {},
     "output_type": "execute_result"
    }
   ],
   "source": [
    "dates = [\"2016-01-01\", \"2016-02-01\", \"2016-03-01\"]\n",
    "pd.Series([1, 2, 3], index = pd.PeriodIndex(dates, freq = \"2M\"))"
   ]
  },
  {
   "cell_type": "code",
   "execution_count": 27,
   "metadata": {},
   "outputs": [
    {
     "data": {
      "text/plain": [
       "2015-12-29/2016-01-04    999\n",
       "2016-01-26/2016-02-01    500\n",
       "2016-01-26/2016-02-01    325\n",
       "Freq: W-MON, Name: Weekly Revenue, dtype: int64"
      ]
     },
     "execution_count": 27,
     "metadata": {},
     "output_type": "execute_result"
    }
   ],
   "source": [
    "pd.Period(\"2016-01-08\", freq = \"W\")\n",
    "pd.Period(\"2016-01-08\", freq = \"W-SUN\")\n",
    "pd.Period(\"2016-01-08\", freq = \"W-WED\")\n",
    "pd.Period(\"2015-12-10\", freq = \"10D\")\n",
    "\n",
    "dates = [\"2016-01-01\", \"2016-02-01\", \"2016-02-01\"]\n",
    "pd.PeriodIndex(dates, freq = \"W-MON\")\n",
    "weeks = pd.PeriodIndex(dates, freq = \"W-MON\")\n",
    "\n",
    "pd.Series([999, 500, 325], index = weeks, name = \"Weekly Revenue\")"
   ]
  },
  {
   "cell_type": "markdown",
   "metadata": {},
   "source": [
    "## Create Range of Dates with the `pd.date_range()` Method, Part 1"
   ]
  },
  {
   "cell_type": "code",
   "execution_count": 28,
   "metadata": {
    "collapsed": true
   },
   "outputs": [],
   "source": [
    "times = pd.date_range(start = \"2016-01-01\", end = \"2016-01-10\", freq = \"D\")"
   ]
  },
  {
   "cell_type": "code",
   "execution_count": 29,
   "metadata": {},
   "outputs": [
    {
     "data": {
      "text/plain": [
       "pandas.core.indexes.datetimes.DatetimeIndex"
      ]
     },
     "execution_count": 29,
     "metadata": {},
     "output_type": "execute_result"
    }
   ],
   "source": [
    "type(times)"
   ]
  },
  {
   "cell_type": "code",
   "execution_count": 30,
   "metadata": {},
   "outputs": [
    {
     "data": {
      "text/plain": [
       "pandas._libs.tslibs.timestamps.Timestamp"
      ]
     },
     "execution_count": 30,
     "metadata": {},
     "output_type": "execute_result"
    }
   ],
   "source": [
    "type(times[0])"
   ]
  },
  {
   "cell_type": "code",
   "execution_count": 36,
   "metadata": {},
   "outputs": [
    {
     "data": {
      "text/plain": [
       "DatetimeIndex(['2016-01-01', '2017-01-01', '2018-01-01', '2019-01-01',\n",
       "               '2020-01-01', '2021-01-01', '2022-01-01', '2023-01-01',\n",
       "               '2024-01-01', '2025-01-01', '2026-01-01', '2027-01-01',\n",
       "               '2028-01-01', '2029-01-01', '2030-01-01', '2031-01-01',\n",
       "               '2032-01-01', '2033-01-01', '2034-01-01', '2035-01-01',\n",
       "               '2036-01-01', '2037-01-01', '2038-01-01', '2039-01-01',\n",
       "               '2040-01-01', '2041-01-01', '2042-01-01', '2043-01-01',\n",
       "               '2044-01-01', '2045-01-01', '2046-01-01', '2047-01-01',\n",
       "               '2048-01-01', '2049-01-01', '2050-01-01'],\n",
       "              dtype='datetime64[ns]', freq='AS-JAN')"
      ]
     },
     "execution_count": 36,
     "metadata": {},
     "output_type": "execute_result"
    }
   ],
   "source": [
    "pd.date_range(start = \"2016-01-01\", end = \"2050-01-01\", freq = \"YS\")"
   ]
  },
  {
   "cell_type": "code",
   "execution_count": null,
   "metadata": {
    "collapsed": true
   },
   "outputs": [],
   "source": []
  },
  {
   "cell_type": "markdown",
   "metadata": {},
   "source": [
    "## Create Range of Dates with the `pd.date_range()` Method, Part 2"
   ]
  },
  {
   "cell_type": "code",
   "execution_count": 37,
   "metadata": {},
   "outputs": [
    {
     "data": {
      "text/plain": [
       "DatetimeIndex(['2012-09-09 00:00:00', '2012-09-09 06:00:00',\n",
       "               '2012-09-09 12:00:00', '2012-09-09 18:00:00',\n",
       "               '2012-09-10 00:00:00', '2012-09-10 06:00:00',\n",
       "               '2012-09-10 12:00:00', '2012-09-10 18:00:00',\n",
       "               '2012-09-11 00:00:00', '2012-09-11 06:00:00',\n",
       "               '2012-09-11 12:00:00', '2012-09-11 18:00:00',\n",
       "               '2012-09-12 00:00:00', '2012-09-12 06:00:00',\n",
       "               '2012-09-12 12:00:00', '2012-09-12 18:00:00',\n",
       "               '2012-09-13 00:00:00', '2012-09-13 06:00:00',\n",
       "               '2012-09-13 12:00:00', '2012-09-13 18:00:00',\n",
       "               '2012-09-14 00:00:00', '2012-09-14 06:00:00',\n",
       "               '2012-09-14 12:00:00', '2012-09-14 18:00:00',\n",
       "               '2012-09-15 00:00:00', '2012-09-15 06:00:00',\n",
       "               '2012-09-15 12:00:00', '2012-09-15 18:00:00',\n",
       "               '2012-09-16 00:00:00', '2012-09-16 06:00:00',\n",
       "               '2012-09-16 12:00:00', '2012-09-16 18:00:00',\n",
       "               '2012-09-17 00:00:00', '2012-09-17 06:00:00',\n",
       "               '2012-09-17 12:00:00', '2012-09-17 18:00:00',\n",
       "               '2012-09-18 00:00:00', '2012-09-18 06:00:00',\n",
       "               '2012-09-18 12:00:00', '2012-09-18 18:00:00',\n",
       "               '2012-09-19 00:00:00', '2012-09-19 06:00:00',\n",
       "               '2012-09-19 12:00:00', '2012-09-19 18:00:00',\n",
       "               '2012-09-20 00:00:00', '2012-09-20 06:00:00',\n",
       "               '2012-09-20 12:00:00', '2012-09-20 18:00:00',\n",
       "               '2012-09-21 00:00:00', '2012-09-21 06:00:00'],\n",
       "              dtype='datetime64[ns]', freq='6H')"
      ]
     },
     "execution_count": 37,
     "metadata": {},
     "output_type": "execute_result"
    }
   ],
   "source": [
    "pd.date_range(start = \"2012-09-09\", periods = 50, freq = \"6H\")"
   ]
  },
  {
   "cell_type": "markdown",
   "metadata": {},
   "source": [
    "## Create Range of Dates with the `pd.date_range()` Method, Part 3"
   ]
  },
  {
   "cell_type": "code",
   "execution_count": 39,
   "metadata": {},
   "outputs": [
    {
     "data": {
      "text/plain": [
       "DatetimeIndex(['1999-12-28 09:00:00', '1999-12-28 16:00:00',\n",
       "               '1999-12-28 23:00:00', '1999-12-29 06:00:00',\n",
       "               '1999-12-29 13:00:00', '1999-12-29 20:00:00',\n",
       "               '1999-12-30 03:00:00', '1999-12-30 10:00:00',\n",
       "               '1999-12-30 17:00:00', '1999-12-31 00:00:00'],\n",
       "              dtype='datetime64[ns]', freq='7H')"
      ]
     },
     "execution_count": 39,
     "metadata": {},
     "output_type": "execute_result"
    }
   ],
   "source": [
    "pd.date_range(end = \"1999-12-31\", periods = 10, freq = \"7H\")"
   ]
  },
  {
   "cell_type": "markdown",
   "metadata": {},
   "source": [
    "## The `.dt` Accessor"
   ]
  },
  {
   "cell_type": "code",
   "execution_count": 40,
   "metadata": {
    "collapsed": true
   },
   "outputs": [],
   "source": [
    "bunch_of_dates = pd.date_range(start = \"2000-01-01\", end = \"2010-12-31\", freq = \"24D\")"
   ]
  },
  {
   "cell_type": "code",
   "execution_count": 41,
   "metadata": {},
   "outputs": [
    {
     "data": {
      "text/plain": [
       "0   2000-01-01\n",
       "1   2000-01-25\n",
       "2   2000-02-18\n",
       "dtype: datetime64[ns]"
      ]
     },
     "execution_count": 41,
     "metadata": {},
     "output_type": "execute_result"
    }
   ],
   "source": [
    "s = pd.Series(bunch_of_dates)\n",
    "s.head(3)"
   ]
  },
  {
   "cell_type": "code",
   "execution_count": 42,
   "metadata": {},
   "outputs": [
    {
     "data": {
      "text/plain": [
       "5     2000-04-30\n",
       "57    2003-09-30\n",
       "71    2004-08-31\n",
       "90    2005-11-30\n",
       "123   2008-01-31\n",
       "161   2010-07-31\n",
       "dtype: datetime64[ns]"
      ]
     },
     "execution_count": 42,
     "metadata": {},
     "output_type": "execute_result"
    }
   ],
   "source": [
    "mask = s.dt.is_month_end\n",
    "s[mask]"
   ]
  },
  {
   "cell_type": "markdown",
   "metadata": {
    "collapsed": true
   },
   "source": [
    "## Import Financial Data Set with `pandas_datareader` Library"
   ]
  },
  {
   "cell_type": "code",
   "execution_count": 5,
   "metadata": {},
   "outputs": [],
   "source": [
    "import pandas as pd\n",
    "import datetime as dt\n",
    "pd.core.common.is_list_like = pd.api.types.is_list_like\n",
    "#info from: \n",
    "#https://stackoverflow.com/questions/50394873/import-pandas-datareader-gives-importerror-cannot-import-name-is-list-like\n",
    "from pandas_datareader import data"
   ]
  },
  {
   "cell_type": "code",
   "execution_count": 20,
   "metadata": {},
   "outputs": [
    {
     "data": {
      "text/html": [
       "<div>\n",
       "<style scoped>\n",
       "    .dataframe tbody tr th:only-of-type {\n",
       "        vertical-align: middle;\n",
       "    }\n",
       "\n",
       "    .dataframe tbody tr th {\n",
       "        vertical-align: top;\n",
       "    }\n",
       "\n",
       "    .dataframe thead th {\n",
       "        text-align: right;\n",
       "    }\n",
       "</style>\n",
       "<table border=\"1\" class=\"dataframe\">\n",
       "  <thead>\n",
       "    <tr style=\"text-align: right;\">\n",
       "      <th></th>\n",
       "      <th>Close</th>\n",
       "      <th>High</th>\n",
       "      <th>Low</th>\n",
       "      <th>Open</th>\n",
       "      <th>Volume</th>\n",
       "    </tr>\n",
       "    <tr>\n",
       "      <th>Date</th>\n",
       "      <th></th>\n",
       "      <th></th>\n",
       "      <th></th>\n",
       "      <th></th>\n",
       "      <th></th>\n",
       "    </tr>\n",
       "  </thead>\n",
       "  <tbody>\n",
       "    <tr>\n",
       "      <th>2010-01-01</th>\n",
       "      <td>30.48</td>\n",
       "      <td>30.99</td>\n",
       "      <td>30.48</td>\n",
       "      <td>30.98</td>\n",
       "      <td>0</td>\n",
       "    </tr>\n",
       "    <tr>\n",
       "      <th>2010-01-04</th>\n",
       "      <td>30.95</td>\n",
       "      <td>31.10</td>\n",
       "      <td>30.59</td>\n",
       "      <td>30.65</td>\n",
       "      <td>38414185</td>\n",
       "    </tr>\n",
       "    <tr>\n",
       "      <th>2010-01-05</th>\n",
       "      <td>30.96</td>\n",
       "      <td>31.10</td>\n",
       "      <td>30.64</td>\n",
       "      <td>30.87</td>\n",
       "      <td>49758862</td>\n",
       "    </tr>\n",
       "  </tbody>\n",
       "</table>\n",
       "</div>"
      ],
      "text/plain": [
       "            Close   High    Low   Open    Volume\n",
       "Date                                            \n",
       "2010-01-01  30.48  30.99  30.48  30.98         0\n",
       "2010-01-04  30.95  31.10  30.59  30.65  38414185\n",
       "2010-01-05  30.96  31.10  30.64  30.87  49758862"
      ]
     },
     "execution_count": 20,
     "metadata": {},
     "output_type": "execute_result"
    }
   ],
   "source": [
    "company = \"MSFT\"\n",
    "start = \"2010-01-01\"\n",
    "end = \"2017-12-31\"\n",
    "\n",
    "stocks = data.DataReader(name = company, data_source = \"morningstar\", \n",
    "                         start = start, end = end).reset_index().drop(columns = ['Symbol'],axis = 1).set_index('Date')\n",
    "stocks.head(3)"
   ]
  },
  {
   "cell_type": "code",
   "execution_count": 13,
   "metadata": {},
   "outputs": [
    {
     "data": {
      "text/plain": [
       "('MSFT', Timestamp('2010-01-01 00:00:00'))"
      ]
     },
     "execution_count": 13,
     "metadata": {},
     "output_type": "execute_result"
    }
   ],
   "source": [
    "#stocks.values\n",
    "#stocks.columns\n",
    "stocks.index[0]\n",
    "#stocks.axes"
   ]
  },
  {
   "cell_type": "markdown",
   "metadata": {
    "collapsed": true
   },
   "source": [
    "## Selecting from a `DataFrame` with a `DateTimeIndex`"
   ]
  },
  {
   "cell_type": "code",
   "execution_count": 21,
   "metadata": {},
   "outputs": [
    {
     "name": "stderr",
     "output_type": "stream",
     "text": [
      "/Users/KunWuYao/anaconda/lib/python3.5/site-packages/ipykernel/__main__.py:3: DeprecationWarning: \n",
      ".ix is deprecated. Please use\n",
      ".loc for label based indexing or\n",
      ".iloc for positional indexing\n",
      "\n",
      "See the documentation here:\n",
      "http://pandas.pydata.org/pandas-docs/stable/indexing.html#ix-indexer-is-deprecated\n",
      "  app.launch_new_instance()\n",
      "/Users/KunWuYao/anaconda/lib/python3.5/site-packages/ipykernel/__main__.py:4: DeprecationWarning: \n",
      ".ix is deprecated. Please use\n",
      ".loc for label based indexing or\n",
      ".iloc for positional indexing\n",
      "\n",
      "See the documentation here:\n",
      "http://pandas.pydata.org/pandas-docs/stable/indexing.html#ix-indexer-is-deprecated\n"
     ]
    },
    {
     "data": {
      "text/plain": [
       "Close           26.55\n",
       "High            26.95\n",
       "Low             26.50\n",
       "Open            26.88\n",
       "Volume    53006263.00\n",
       "Name: 2011-02-25 00:00:00, dtype: float64"
      ]
     },
     "execution_count": 21,
     "metadata": {},
     "output_type": "execute_result"
    }
   ],
   "source": [
    "stocks.loc[\"2010-01-04\"]\n",
    "stocks.iloc[300]\n",
    "stocks.ix[\"2014-03-04\"]\n",
    "stocks.ix[300]"
   ]
  },
  {
   "cell_type": "code",
   "execution_count": 22,
   "metadata": {},
   "outputs": [
    {
     "data": {
      "text/plain": [
       "Close     55.48\n",
       "High      55.48\n",
       "Low       55.48\n",
       "Open      55.48\n",
       "Volume     0.00\n",
       "Name: 2016-01-01 00:00:00, dtype: float64"
      ]
     },
     "execution_count": 22,
     "metadata": {},
     "output_type": "execute_result"
    }
   ],
   "source": [
    "stocks.loc[\"2016-01-01\"]"
   ]
  },
  {
   "cell_type": "code",
   "execution_count": 23,
   "metadata": {},
   "outputs": [
    {
     "data": {
      "text/html": [
       "<div>\n",
       "<style scoped>\n",
       "    .dataframe tbody tr th:only-of-type {\n",
       "        vertical-align: middle;\n",
       "    }\n",
       "\n",
       "    .dataframe tbody tr th {\n",
       "        vertical-align: top;\n",
       "    }\n",
       "\n",
       "    .dataframe thead th {\n",
       "        text-align: right;\n",
       "    }\n",
       "</style>\n",
       "<table border=\"1\" class=\"dataframe\">\n",
       "  <thead>\n",
       "    <tr style=\"text-align: right;\">\n",
       "      <th></th>\n",
       "      <th>Close</th>\n",
       "      <th>High</th>\n",
       "      <th>Low</th>\n",
       "      <th>Open</th>\n",
       "      <th>Volume</th>\n",
       "    </tr>\n",
       "    <tr>\n",
       "      <th>Date</th>\n",
       "      <th></th>\n",
       "      <th></th>\n",
       "      <th></th>\n",
       "      <th></th>\n",
       "      <th></th>\n",
       "    </tr>\n",
       "  </thead>\n",
       "  <tbody>\n",
       "    <tr>\n",
       "      <th>2013-10-01</th>\n",
       "      <td>33.58</td>\n",
       "      <td>33.61</td>\n",
       "      <td>33.30</td>\n",
       "      <td>33.34</td>\n",
       "      <td>36718733</td>\n",
       "    </tr>\n",
       "    <tr>\n",
       "      <th>2013-10-02</th>\n",
       "      <td>33.92</td>\n",
       "      <td>34.03</td>\n",
       "      <td>33.29</td>\n",
       "      <td>33.38</td>\n",
       "      <td>46946813</td>\n",
       "    </tr>\n",
       "    <tr>\n",
       "      <th>2013-10-03</th>\n",
       "      <td>33.86</td>\n",
       "      <td>34.00</td>\n",
       "      <td>33.42</td>\n",
       "      <td>33.89</td>\n",
       "      <td>38707452</td>\n",
       "    </tr>\n",
       "    <tr>\n",
       "      <th>2013-10-04</th>\n",
       "      <td>33.88</td>\n",
       "      <td>33.99</td>\n",
       "      <td>33.62</td>\n",
       "      <td>33.71</td>\n",
       "      <td>33008107</td>\n",
       "    </tr>\n",
       "    <tr>\n",
       "      <th>2013-10-07</th>\n",
       "      <td>33.30</td>\n",
       "      <td>33.71</td>\n",
       "      <td>33.20</td>\n",
       "      <td>33.60</td>\n",
       "      <td>35069279</td>\n",
       "    </tr>\n",
       "  </tbody>\n",
       "</table>\n",
       "</div>"
      ],
      "text/plain": [
       "            Close   High    Low   Open    Volume\n",
       "Date                                            \n",
       "2013-10-01  33.58  33.61  33.30  33.34  36718733\n",
       "2013-10-02  33.92  34.03  33.29  33.38  46946813\n",
       "2013-10-03  33.86  34.00  33.42  33.89  38707452\n",
       "2013-10-04  33.88  33.99  33.62  33.71  33008107\n",
       "2013-10-07  33.30  33.71  33.20  33.60  35069279"
      ]
     },
     "execution_count": 23,
     "metadata": {},
     "output_type": "execute_result"
    }
   ],
   "source": [
    "stocks.loc[\"2013-10-01\" : \"2013-10-07\"]\n",
    "#stocks.ix[\"2013-10-01\" : \"2013-10-07\"]"
   ]
  },
  {
   "cell_type": "code",
   "execution_count": 27,
   "metadata": {
    "collapsed": true
   },
   "outputs": [],
   "source": [
    "birthdays = pd.date_range(start = \"1991-04-12\", end = \"2017-12-31\", freq = pd.DateOffset(years = 1))"
   ]
  },
  {
   "cell_type": "code",
   "execution_count": 28,
   "metadata": {
    "collapsed": true
   },
   "outputs": [],
   "source": [
    "mask = stocks.index.isin(birthdays)"
   ]
  },
  {
   "cell_type": "code",
   "execution_count": 29,
   "metadata": {},
   "outputs": [
    {
     "data": {
      "text/html": [
       "<div>\n",
       "<style scoped>\n",
       "    .dataframe tbody tr th:only-of-type {\n",
       "        vertical-align: middle;\n",
       "    }\n",
       "\n",
       "    .dataframe tbody tr th {\n",
       "        vertical-align: top;\n",
       "    }\n",
       "\n",
       "    .dataframe thead th {\n",
       "        text-align: right;\n",
       "    }\n",
       "</style>\n",
       "<table border=\"1\" class=\"dataframe\">\n",
       "  <thead>\n",
       "    <tr style=\"text-align: right;\">\n",
       "      <th></th>\n",
       "      <th>Close</th>\n",
       "      <th>High</th>\n",
       "      <th>Low</th>\n",
       "      <th>Open</th>\n",
       "      <th>Volume</th>\n",
       "    </tr>\n",
       "    <tr>\n",
       "      <th>Date</th>\n",
       "      <th></th>\n",
       "      <th></th>\n",
       "      <th></th>\n",
       "      <th></th>\n",
       "      <th></th>\n",
       "    </tr>\n",
       "  </thead>\n",
       "  <tbody>\n",
       "    <tr>\n",
       "      <th>2010-04-12</th>\n",
       "      <td>30.320</td>\n",
       "      <td>30.49</td>\n",
       "      <td>30.205</td>\n",
       "      <td>30.26</td>\n",
       "      <td>35769377</td>\n",
       "    </tr>\n",
       "    <tr>\n",
       "      <th>2011-04-12</th>\n",
       "      <td>25.640</td>\n",
       "      <td>25.85</td>\n",
       "      <td>25.550</td>\n",
       "      <td>25.82</td>\n",
       "      <td>36936975</td>\n",
       "    </tr>\n",
       "    <tr>\n",
       "      <th>2012-04-12</th>\n",
       "      <td>30.975</td>\n",
       "      <td>31.04</td>\n",
       "      <td>30.420</td>\n",
       "      <td>30.48</td>\n",
       "      <td>38306010</td>\n",
       "    </tr>\n",
       "    <tr>\n",
       "      <th>2013-04-12</th>\n",
       "      <td>28.790</td>\n",
       "      <td>29.02</td>\n",
       "      <td>28.660</td>\n",
       "      <td>28.84</td>\n",
       "      <td>62888012</td>\n",
       "    </tr>\n",
       "    <tr>\n",
       "      <th>2016-04-12</th>\n",
       "      <td>54.650</td>\n",
       "      <td>54.78</td>\n",
       "      <td>53.760</td>\n",
       "      <td>54.37</td>\n",
       "      <td>24944288</td>\n",
       "    </tr>\n",
       "    <tr>\n",
       "      <th>2017-04-12</th>\n",
       "      <td>65.230</td>\n",
       "      <td>65.51</td>\n",
       "      <td>65.110</td>\n",
       "      <td>65.42</td>\n",
       "      <td>17108513</td>\n",
       "    </tr>\n",
       "  </tbody>\n",
       "</table>\n",
       "</div>"
      ],
      "text/plain": [
       "             Close   High     Low   Open    Volume\n",
       "Date                                              \n",
       "2010-04-12  30.320  30.49  30.205  30.26  35769377\n",
       "2011-04-12  25.640  25.85  25.550  25.82  36936975\n",
       "2012-04-12  30.975  31.04  30.420  30.48  38306010\n",
       "2013-04-12  28.790  29.02  28.660  28.84  62888012\n",
       "2016-04-12  54.650  54.78  53.760  54.37  24944288\n",
       "2017-04-12  65.230  65.51  65.110  65.42  17108513"
      ]
     },
     "execution_count": 29,
     "metadata": {},
     "output_type": "execute_result"
    }
   ],
   "source": [
    "stocks[mask]"
   ]
  },
  {
   "cell_type": "markdown",
   "metadata": {
    "collapsed": true
   },
   "source": [
    "## `Timestamp` Object Attributes"
   ]
  },
  {
   "cell_type": "code",
   "execution_count": 30,
   "metadata": {},
   "outputs": [
    {
     "data": {
      "text/html": [
       "<div>\n",
       "<style scoped>\n",
       "    .dataframe tbody tr th:only-of-type {\n",
       "        vertical-align: middle;\n",
       "    }\n",
       "\n",
       "    .dataframe tbody tr th {\n",
       "        vertical-align: top;\n",
       "    }\n",
       "\n",
       "    .dataframe thead th {\n",
       "        text-align: right;\n",
       "    }\n",
       "</style>\n",
       "<table border=\"1\" class=\"dataframe\">\n",
       "  <thead>\n",
       "    <tr style=\"text-align: right;\">\n",
       "      <th></th>\n",
       "      <th>Close</th>\n",
       "      <th>High</th>\n",
       "      <th>Low</th>\n",
       "      <th>Open</th>\n",
       "      <th>Volume</th>\n",
       "    </tr>\n",
       "    <tr>\n",
       "      <th>Date</th>\n",
       "      <th></th>\n",
       "      <th></th>\n",
       "      <th></th>\n",
       "      <th></th>\n",
       "      <th></th>\n",
       "    </tr>\n",
       "  </thead>\n",
       "  <tbody>\n",
       "    <tr>\n",
       "      <th>2010-01-01</th>\n",
       "      <td>30.48</td>\n",
       "      <td>30.99</td>\n",
       "      <td>30.48</td>\n",
       "      <td>30.98</td>\n",
       "      <td>0</td>\n",
       "    </tr>\n",
       "    <tr>\n",
       "      <th>2010-01-04</th>\n",
       "      <td>30.95</td>\n",
       "      <td>31.10</td>\n",
       "      <td>30.59</td>\n",
       "      <td>30.65</td>\n",
       "      <td>38414185</td>\n",
       "    </tr>\n",
       "    <tr>\n",
       "      <th>2010-01-05</th>\n",
       "      <td>30.96</td>\n",
       "      <td>31.10</td>\n",
       "      <td>30.64</td>\n",
       "      <td>30.87</td>\n",
       "      <td>49758862</td>\n",
       "    </tr>\n",
       "  </tbody>\n",
       "</table>\n",
       "</div>"
      ],
      "text/plain": [
       "            Close   High    Low   Open    Volume\n",
       "Date                                            \n",
       "2010-01-01  30.48  30.99  30.48  30.98         0\n",
       "2010-01-04  30.95  31.10  30.59  30.65  38414185\n",
       "2010-01-05  30.96  31.10  30.64  30.87  49758862"
      ]
     },
     "execution_count": 30,
     "metadata": {},
     "output_type": "execute_result"
    }
   ],
   "source": [
    "#stocks = data.DataReader(name = company, data_source = \"google\", start = start, end = end)\n",
    "stocks.head(3)"
   ]
  },
  {
   "cell_type": "code",
   "execution_count": 31,
   "metadata": {},
   "outputs": [
    {
     "data": {
      "text/plain": [
       "Timestamp('2011-12-02 00:00:00')"
      ]
     },
     "execution_count": 31,
     "metadata": {},
     "output_type": "execute_result"
    }
   ],
   "source": [
    "someday = stocks.index[500]\n",
    "someday"
   ]
  },
  {
   "cell_type": "code",
   "execution_count": 39,
   "metadata": {},
   "outputs": [
    {
     "name": "stderr",
     "output_type": "stream",
     "text": [
      "/Users/KunWuYao/anaconda/lib/python3.5/site-packages/ipykernel/__main__.py:4: FutureWarning: `weekday_name` is deprecated and will be removed in a future version. Use `day_name` instead\n"
     ]
    },
    {
     "data": {
      "text/plain": [
       "0"
      ]
     },
     "execution_count": 39,
     "metadata": {},
     "output_type": "execute_result"
    }
   ],
   "source": [
    "someday.day\n",
    "someday.month\n",
    "someday.year\n",
    "someday.is_month_end\n",
    "someday.is_month_start\n",
    "someday.hour"
   ]
  },
  {
   "cell_type": "code",
   "execution_count": 46,
   "metadata": {},
   "outputs": [
    {
     "data": {
      "text/plain": [
       "336"
      ]
     },
     "execution_count": 46,
     "metadata": {},
     "output_type": "execute_result"
    }
   ],
   "source": [
    "someday.second\n",
    "someday.minute\n",
    "someday.day_name()\n",
    "someday.dayofyear"
   ]
  },
  {
   "cell_type": "code",
   "execution_count": 47,
   "metadata": {
    "collapsed": true
   },
   "outputs": [],
   "source": [
    "stocks.insert(0, \"Day of Week\", stocks.index.day_name())"
   ]
  },
  {
   "cell_type": "code",
   "execution_count": 48,
   "metadata": {
    "collapsed": true
   },
   "outputs": [],
   "source": [
    "stocks.insert(1, \"Is Start of Month\", stocks.index.is_month_start)"
   ]
  },
  {
   "cell_type": "code",
   "execution_count": 49,
   "metadata": {
    "scrolled": true
   },
   "outputs": [
    {
     "data": {
      "text/html": [
       "<div>\n",
       "<style scoped>\n",
       "    .dataframe tbody tr th:only-of-type {\n",
       "        vertical-align: middle;\n",
       "    }\n",
       "\n",
       "    .dataframe tbody tr th {\n",
       "        vertical-align: top;\n",
       "    }\n",
       "\n",
       "    .dataframe thead th {\n",
       "        text-align: right;\n",
       "    }\n",
       "</style>\n",
       "<table border=\"1\" class=\"dataframe\">\n",
       "  <thead>\n",
       "    <tr style=\"text-align: right;\">\n",
       "      <th></th>\n",
       "      <th>Day of Week</th>\n",
       "      <th>Is Start of Month</th>\n",
       "      <th>Close</th>\n",
       "      <th>High</th>\n",
       "      <th>Low</th>\n",
       "      <th>Open</th>\n",
       "      <th>Volume</th>\n",
       "    </tr>\n",
       "    <tr>\n",
       "      <th>Date</th>\n",
       "      <th></th>\n",
       "      <th></th>\n",
       "      <th></th>\n",
       "      <th></th>\n",
       "      <th></th>\n",
       "      <th></th>\n",
       "      <th></th>\n",
       "    </tr>\n",
       "  </thead>\n",
       "  <tbody>\n",
       "    <tr>\n",
       "      <th>2010-01-01</th>\n",
       "      <td>Friday</td>\n",
       "      <td>True</td>\n",
       "      <td>30.4800</td>\n",
       "      <td>30.9900</td>\n",
       "      <td>30.4800</td>\n",
       "      <td>30.9800</td>\n",
       "      <td>0</td>\n",
       "    </tr>\n",
       "    <tr>\n",
       "      <th>2010-02-01</th>\n",
       "      <td>Monday</td>\n",
       "      <td>True</td>\n",
       "      <td>28.4100</td>\n",
       "      <td>28.4800</td>\n",
       "      <td>27.9200</td>\n",
       "      <td>28.4000</td>\n",
       "      <td>85931099</td>\n",
       "    </tr>\n",
       "    <tr>\n",
       "      <th>2010-03-01</th>\n",
       "      <td>Monday</td>\n",
       "      <td>True</td>\n",
       "      <td>29.0200</td>\n",
       "      <td>29.0500</td>\n",
       "      <td>28.5300</td>\n",
       "      <td>28.7700</td>\n",
       "      <td>43805302</td>\n",
       "    </tr>\n",
       "    <tr>\n",
       "      <th>2010-04-01</th>\n",
       "      <td>Thursday</td>\n",
       "      <td>True</td>\n",
       "      <td>29.1600</td>\n",
       "      <td>29.5400</td>\n",
       "      <td>28.6200</td>\n",
       "      <td>29.3500</td>\n",
       "      <td>74768063</td>\n",
       "    </tr>\n",
       "    <tr>\n",
       "      <th>2010-06-01</th>\n",
       "      <td>Tuesday</td>\n",
       "      <td>True</td>\n",
       "      <td>25.8900</td>\n",
       "      <td>26.3100</td>\n",
       "      <td>25.5200</td>\n",
       "      <td>25.5700</td>\n",
       "      <td>76155453</td>\n",
       "    </tr>\n",
       "    <tr>\n",
       "      <th>2010-07-01</th>\n",
       "      <td>Thursday</td>\n",
       "      <td>True</td>\n",
       "      <td>23.1600</td>\n",
       "      <td>23.3200</td>\n",
       "      <td>22.7300</td>\n",
       "      <td>23.0900</td>\n",
       "      <td>92239399</td>\n",
       "    </tr>\n",
       "    <tr>\n",
       "      <th>2010-09-01</th>\n",
       "      <td>Wednesday</td>\n",
       "      <td>True</td>\n",
       "      <td>23.9000</td>\n",
       "      <td>23.9500</td>\n",
       "      <td>23.5400</td>\n",
       "      <td>23.6600</td>\n",
       "      <td>65235851</td>\n",
       "    </tr>\n",
       "    <tr>\n",
       "      <th>2010-10-01</th>\n",
       "      <td>Friday</td>\n",
       "      <td>True</td>\n",
       "      <td>24.3800</td>\n",
       "      <td>24.8200</td>\n",
       "      <td>24.3000</td>\n",
       "      <td>24.7700</td>\n",
       "      <td>62672276</td>\n",
       "    </tr>\n",
       "    <tr>\n",
       "      <th>2010-11-01</th>\n",
       "      <td>Monday</td>\n",
       "      <td>True</td>\n",
       "      <td>26.9500</td>\n",
       "      <td>27.2200</td>\n",
       "      <td>26.7000</td>\n",
       "      <td>26.8800</td>\n",
       "      <td>61916183</td>\n",
       "    </tr>\n",
       "    <tr>\n",
       "      <th>2010-12-01</th>\n",
       "      <td>Wednesday</td>\n",
       "      <td>True</td>\n",
       "      <td>26.0400</td>\n",
       "      <td>26.2500</td>\n",
       "      <td>25.5600</td>\n",
       "      <td>25.5900</td>\n",
       "      <td>74123490</td>\n",
       "    </tr>\n",
       "    <tr>\n",
       "      <th>2011-02-01</th>\n",
       "      <td>Tuesday</td>\n",
       "      <td>True</td>\n",
       "      <td>27.9925</td>\n",
       "      <td>28.0600</td>\n",
       "      <td>27.6100</td>\n",
       "      <td>27.8000</td>\n",
       "      <td>62810661</td>\n",
       "    </tr>\n",
       "    <tr>\n",
       "      <th>2011-03-01</th>\n",
       "      <td>Tuesday</td>\n",
       "      <td>True</td>\n",
       "      <td>26.1600</td>\n",
       "      <td>26.7800</td>\n",
       "      <td>26.1500</td>\n",
       "      <td>26.6000</td>\n",
       "      <td>60054986</td>\n",
       "    </tr>\n",
       "    <tr>\n",
       "      <th>2011-04-01</th>\n",
       "      <td>Friday</td>\n",
       "      <td>True</td>\n",
       "      <td>25.4800</td>\n",
       "      <td>25.5300</td>\n",
       "      <td>25.3100</td>\n",
       "      <td>25.5300</td>\n",
       "      <td>63114201</td>\n",
       "    </tr>\n",
       "    <tr>\n",
       "      <th>2011-06-01</th>\n",
       "      <td>Wednesday</td>\n",
       "      <td>True</td>\n",
       "      <td>24.4300</td>\n",
       "      <td>25.1000</td>\n",
       "      <td>24.3700</td>\n",
       "      <td>24.9900</td>\n",
       "      <td>74036467</td>\n",
       "    </tr>\n",
       "    <tr>\n",
       "      <th>2011-07-01</th>\n",
       "      <td>Friday</td>\n",
       "      <td>True</td>\n",
       "      <td>26.0200</td>\n",
       "      <td>26.1700</td>\n",
       "      <td>25.8400</td>\n",
       "      <td>25.9500</td>\n",
       "      <td>52914516</td>\n",
       "    </tr>\n",
       "    <tr>\n",
       "      <th>2011-08-01</th>\n",
       "      <td>Monday</td>\n",
       "      <td>True</td>\n",
       "      <td>27.2700</td>\n",
       "      <td>27.6850</td>\n",
       "      <td>26.7500</td>\n",
       "      <td>27.5400</td>\n",
       "      <td>61846218</td>\n",
       "    </tr>\n",
       "    <tr>\n",
       "      <th>2011-09-01</th>\n",
       "      <td>Thursday</td>\n",
       "      <td>True</td>\n",
       "      <td>26.2100</td>\n",
       "      <td>26.8600</td>\n",
       "      <td>26.2100</td>\n",
       "      <td>26.4600</td>\n",
       "      <td>60511548</td>\n",
       "    </tr>\n",
       "    <tr>\n",
       "      <th>2011-11-01</th>\n",
       "      <td>Tuesday</td>\n",
       "      <td>True</td>\n",
       "      <td>25.9900</td>\n",
       "      <td>26.3200</td>\n",
       "      <td>25.8600</td>\n",
       "      <td>26.1700</td>\n",
       "      <td>61186956</td>\n",
       "    </tr>\n",
       "    <tr>\n",
       "      <th>2011-12-01</th>\n",
       "      <td>Thursday</td>\n",
       "      <td>True</td>\n",
       "      <td>25.2800</td>\n",
       "      <td>25.6300</td>\n",
       "      <td>25.2000</td>\n",
       "      <td>25.6300</td>\n",
       "      <td>48545338</td>\n",
       "    </tr>\n",
       "    <tr>\n",
       "      <th>2012-02-01</th>\n",
       "      <td>Wednesday</td>\n",
       "      <td>True</td>\n",
       "      <td>29.8900</td>\n",
       "      <td>30.0500</td>\n",
       "      <td>29.7600</td>\n",
       "      <td>29.7600</td>\n",
       "      <td>67413817</td>\n",
       "    </tr>\n",
       "    <tr>\n",
       "      <th>2012-03-01</th>\n",
       "      <td>Thursday</td>\n",
       "      <td>True</td>\n",
       "      <td>32.2900</td>\n",
       "      <td>32.3900</td>\n",
       "      <td>31.8500</td>\n",
       "      <td>31.9500</td>\n",
       "      <td>77348930</td>\n",
       "    </tr>\n",
       "    <tr>\n",
       "      <th>2012-05-01</th>\n",
       "      <td>Tuesday</td>\n",
       "      <td>True</td>\n",
       "      <td>32.0100</td>\n",
       "      <td>32.3350</td>\n",
       "      <td>31.9500</td>\n",
       "      <td>32.0500</td>\n",
       "      <td>43833208</td>\n",
       "    </tr>\n",
       "    <tr>\n",
       "      <th>2012-06-01</th>\n",
       "      <td>Friday</td>\n",
       "      <td>True</td>\n",
       "      <td>28.4500</td>\n",
       "      <td>28.9600</td>\n",
       "      <td>28.4400</td>\n",
       "      <td>28.8000</td>\n",
       "      <td>56641282</td>\n",
       "    </tr>\n",
       "    <tr>\n",
       "      <th>2012-08-01</th>\n",
       "      <td>Wednesday</td>\n",
       "      <td>True</td>\n",
       "      <td>29.4100</td>\n",
       "      <td>29.6500</td>\n",
       "      <td>29.2100</td>\n",
       "      <td>29.5800</td>\n",
       "      <td>31722523</td>\n",
       "    </tr>\n",
       "    <tr>\n",
       "      <th>2012-10-01</th>\n",
       "      <td>Monday</td>\n",
       "      <td>True</td>\n",
       "      <td>29.4900</td>\n",
       "      <td>29.9800</td>\n",
       "      <td>29.4200</td>\n",
       "      <td>29.8200</td>\n",
       "      <td>54042532</td>\n",
       "    </tr>\n",
       "    <tr>\n",
       "      <th>2012-11-01</th>\n",
       "      <td>Thursday</td>\n",
       "      <td>True</td>\n",
       "      <td>29.5150</td>\n",
       "      <td>29.5600</td>\n",
       "      <td>28.8200</td>\n",
       "      <td>28.8900</td>\n",
       "      <td>72047818</td>\n",
       "    </tr>\n",
       "    <tr>\n",
       "      <th>2013-01-01</th>\n",
       "      <td>Tuesday</td>\n",
       "      <td>True</td>\n",
       "      <td>26.7097</td>\n",
       "      <td>26.7097</td>\n",
       "      <td>26.7097</td>\n",
       "      <td>26.7097</td>\n",
       "      <td>0</td>\n",
       "    </tr>\n",
       "    <tr>\n",
       "      <th>2013-02-01</th>\n",
       "      <td>Friday</td>\n",
       "      <td>True</td>\n",
       "      <td>27.9300</td>\n",
       "      <td>28.0500</td>\n",
       "      <td>27.5500</td>\n",
       "      <td>27.6700</td>\n",
       "      <td>55566440</td>\n",
       "    </tr>\n",
       "    <tr>\n",
       "      <th>2013-03-01</th>\n",
       "      <td>Friday</td>\n",
       "      <td>True</td>\n",
       "      <td>27.9500</td>\n",
       "      <td>27.9800</td>\n",
       "      <td>27.5200</td>\n",
       "      <td>27.6900</td>\n",
       "      <td>34851878</td>\n",
       "    </tr>\n",
       "    <tr>\n",
       "      <th>2013-04-01</th>\n",
       "      <td>Monday</td>\n",
       "      <td>True</td>\n",
       "      <td>28.6100</td>\n",
       "      <td>28.6600</td>\n",
       "      <td>28.3600</td>\n",
       "      <td>28.6200</td>\n",
       "      <td>29203122</td>\n",
       "    </tr>\n",
       "    <tr>\n",
       "      <th>...</th>\n",
       "      <td>...</td>\n",
       "      <td>...</td>\n",
       "      <td>...</td>\n",
       "      <td>...</td>\n",
       "      <td>...</td>\n",
       "      <td>...</td>\n",
       "      <td>...</td>\n",
       "    </tr>\n",
       "    <tr>\n",
       "      <th>2014-08-01</th>\n",
       "      <td>Friday</td>\n",
       "      <td>True</td>\n",
       "      <td>42.8600</td>\n",
       "      <td>43.2500</td>\n",
       "      <td>42.6000</td>\n",
       "      <td>43.1500</td>\n",
       "      <td>31171094</td>\n",
       "    </tr>\n",
       "    <tr>\n",
       "      <th>2014-09-01</th>\n",
       "      <td>Monday</td>\n",
       "      <td>True</td>\n",
       "      <td>45.4300</td>\n",
       "      <td>45.4300</td>\n",
       "      <td>45.4300</td>\n",
       "      <td>45.4300</td>\n",
       "      <td>0</td>\n",
       "    </tr>\n",
       "    <tr>\n",
       "      <th>2014-10-01</th>\n",
       "      <td>Wednesday</td>\n",
       "      <td>True</td>\n",
       "      <td>45.9000</td>\n",
       "      <td>46.5300</td>\n",
       "      <td>45.8450</td>\n",
       "      <td>46.2700</td>\n",
       "      <td>38088355</td>\n",
       "    </tr>\n",
       "    <tr>\n",
       "      <th>2014-12-01</th>\n",
       "      <td>Monday</td>\n",
       "      <td>True</td>\n",
       "      <td>48.6200</td>\n",
       "      <td>48.7800</td>\n",
       "      <td>47.7100</td>\n",
       "      <td>47.8800</td>\n",
       "      <td>31191575</td>\n",
       "    </tr>\n",
       "    <tr>\n",
       "      <th>2015-01-01</th>\n",
       "      <td>Thursday</td>\n",
       "      <td>True</td>\n",
       "      <td>46.4500</td>\n",
       "      <td>46.4500</td>\n",
       "      <td>46.4500</td>\n",
       "      <td>46.4500</td>\n",
       "      <td>0</td>\n",
       "    </tr>\n",
       "    <tr>\n",
       "      <th>2015-04-01</th>\n",
       "      <td>Wednesday</td>\n",
       "      <td>True</td>\n",
       "      <td>40.7200</td>\n",
       "      <td>40.7600</td>\n",
       "      <td>40.3100</td>\n",
       "      <td>40.6000</td>\n",
       "      <td>36865322</td>\n",
       "    </tr>\n",
       "    <tr>\n",
       "      <th>2015-05-01</th>\n",
       "      <td>Friday</td>\n",
       "      <td>True</td>\n",
       "      <td>48.6550</td>\n",
       "      <td>48.8750</td>\n",
       "      <td>48.4000</td>\n",
       "      <td>48.5800</td>\n",
       "      <td>38937336</td>\n",
       "    </tr>\n",
       "    <tr>\n",
       "      <th>2015-06-01</th>\n",
       "      <td>Monday</td>\n",
       "      <td>True</td>\n",
       "      <td>47.2300</td>\n",
       "      <td>47.7700</td>\n",
       "      <td>46.6200</td>\n",
       "      <td>47.0600</td>\n",
       "      <td>28837332</td>\n",
       "    </tr>\n",
       "    <tr>\n",
       "      <th>2015-07-01</th>\n",
       "      <td>Wednesday</td>\n",
       "      <td>True</td>\n",
       "      <td>44.4450</td>\n",
       "      <td>45.2300</td>\n",
       "      <td>44.1000</td>\n",
       "      <td>44.4900</td>\n",
       "      <td>28343907</td>\n",
       "    </tr>\n",
       "    <tr>\n",
       "      <th>2015-09-01</th>\n",
       "      <td>Tuesday</td>\n",
       "      <td>True</td>\n",
       "      <td>41.8200</td>\n",
       "      <td>42.5900</td>\n",
       "      <td>41.6600</td>\n",
       "      <td>42.1700</td>\n",
       "      <td>49688896</td>\n",
       "    </tr>\n",
       "    <tr>\n",
       "      <th>2015-10-01</th>\n",
       "      <td>Thursday</td>\n",
       "      <td>True</td>\n",
       "      <td>44.6100</td>\n",
       "      <td>44.7500</td>\n",
       "      <td>43.7500</td>\n",
       "      <td>44.7500</td>\n",
       "      <td>28657859</td>\n",
       "    </tr>\n",
       "    <tr>\n",
       "      <th>2015-12-01</th>\n",
       "      <td>Tuesday</td>\n",
       "      <td>True</td>\n",
       "      <td>55.2200</td>\n",
       "      <td>55.2300</td>\n",
       "      <td>54.3000</td>\n",
       "      <td>54.4100</td>\n",
       "      <td>39952779</td>\n",
       "    </tr>\n",
       "    <tr>\n",
       "      <th>2016-01-01</th>\n",
       "      <td>Friday</td>\n",
       "      <td>True</td>\n",
       "      <td>55.4800</td>\n",
       "      <td>55.4800</td>\n",
       "      <td>55.4800</td>\n",
       "      <td>55.4800</td>\n",
       "      <td>0</td>\n",
       "    </tr>\n",
       "    <tr>\n",
       "      <th>2016-02-01</th>\n",
       "      <td>Monday</td>\n",
       "      <td>True</td>\n",
       "      <td>54.7100</td>\n",
       "      <td>55.0900</td>\n",
       "      <td>54.4950</td>\n",
       "      <td>54.8800</td>\n",
       "      <td>44208542</td>\n",
       "    </tr>\n",
       "    <tr>\n",
       "      <th>2016-03-01</th>\n",
       "      <td>Tuesday</td>\n",
       "      <td>True</td>\n",
       "      <td>52.5800</td>\n",
       "      <td>52.5900</td>\n",
       "      <td>50.9199</td>\n",
       "      <td>50.9700</td>\n",
       "      <td>33024535</td>\n",
       "    </tr>\n",
       "    <tr>\n",
       "      <th>2016-04-01</th>\n",
       "      <td>Friday</td>\n",
       "      <td>True</td>\n",
       "      <td>55.5700</td>\n",
       "      <td>55.6100</td>\n",
       "      <td>54.5700</td>\n",
       "      <td>55.0500</td>\n",
       "      <td>24399193</td>\n",
       "    </tr>\n",
       "    <tr>\n",
       "      <th>2016-06-01</th>\n",
       "      <td>Wednesday</td>\n",
       "      <td>True</td>\n",
       "      <td>52.8500</td>\n",
       "      <td>52.9500</td>\n",
       "      <td>52.4400</td>\n",
       "      <td>52.4400</td>\n",
       "      <td>25324828</td>\n",
       "    </tr>\n",
       "    <tr>\n",
       "      <th>2016-07-01</th>\n",
       "      <td>Friday</td>\n",
       "      <td>True</td>\n",
       "      <td>51.1600</td>\n",
       "      <td>51.7200</td>\n",
       "      <td>51.0700</td>\n",
       "      <td>51.1300</td>\n",
       "      <td>21400392</td>\n",
       "    </tr>\n",
       "    <tr>\n",
       "      <th>2016-08-01</th>\n",
       "      <td>Monday</td>\n",
       "      <td>True</td>\n",
       "      <td>56.5800</td>\n",
       "      <td>56.7500</td>\n",
       "      <td>56.1400</td>\n",
       "      <td>56.6000</td>\n",
       "      <td>26003419</td>\n",
       "    </tr>\n",
       "    <tr>\n",
       "      <th>2016-09-01</th>\n",
       "      <td>Thursday</td>\n",
       "      <td>True</td>\n",
       "      <td>57.5900</td>\n",
       "      <td>57.8200</td>\n",
       "      <td>57.0100</td>\n",
       "      <td>57.0100</td>\n",
       "      <td>26075363</td>\n",
       "    </tr>\n",
       "    <tr>\n",
       "      <th>2016-11-01</th>\n",
       "      <td>Tuesday</td>\n",
       "      <td>True</td>\n",
       "      <td>59.8000</td>\n",
       "      <td>60.0200</td>\n",
       "      <td>59.2500</td>\n",
       "      <td>59.9700</td>\n",
       "      <td>24532986</td>\n",
       "    </tr>\n",
       "    <tr>\n",
       "      <th>2016-12-01</th>\n",
       "      <td>Thursday</td>\n",
       "      <td>True</td>\n",
       "      <td>59.2000</td>\n",
       "      <td>60.1500</td>\n",
       "      <td>58.9350</td>\n",
       "      <td>60.1100</td>\n",
       "      <td>34542121</td>\n",
       "    </tr>\n",
       "    <tr>\n",
       "      <th>2017-02-01</th>\n",
       "      <td>Wednesday</td>\n",
       "      <td>True</td>\n",
       "      <td>63.5800</td>\n",
       "      <td>64.6200</td>\n",
       "      <td>63.4700</td>\n",
       "      <td>64.3550</td>\n",
       "      <td>39671528</td>\n",
       "    </tr>\n",
       "    <tr>\n",
       "      <th>2017-03-01</th>\n",
       "      <td>Wednesday</td>\n",
       "      <td>True</td>\n",
       "      <td>64.9400</td>\n",
       "      <td>64.9900</td>\n",
       "      <td>64.0218</td>\n",
       "      <td>64.1300</td>\n",
       "      <td>26937459</td>\n",
       "    </tr>\n",
       "    <tr>\n",
       "      <th>2017-05-01</th>\n",
       "      <td>Monday</td>\n",
       "      <td>True</td>\n",
       "      <td>69.4100</td>\n",
       "      <td>69.5500</td>\n",
       "      <td>68.5000</td>\n",
       "      <td>68.6800</td>\n",
       "      <td>31954362</td>\n",
       "    </tr>\n",
       "    <tr>\n",
       "      <th>2017-06-01</th>\n",
       "      <td>Thursday</td>\n",
       "      <td>True</td>\n",
       "      <td>70.1000</td>\n",
       "      <td>70.6100</td>\n",
       "      <td>69.4510</td>\n",
       "      <td>70.2400</td>\n",
       "      <td>21603601</td>\n",
       "    </tr>\n",
       "    <tr>\n",
       "      <th>2017-08-01</th>\n",
       "      <td>Tuesday</td>\n",
       "      <td>True</td>\n",
       "      <td>72.5800</td>\n",
       "      <td>73.4200</td>\n",
       "      <td>72.4900</td>\n",
       "      <td>73.1000</td>\n",
       "      <td>20823890</td>\n",
       "    </tr>\n",
       "    <tr>\n",
       "      <th>2017-09-01</th>\n",
       "      <td>Friday</td>\n",
       "      <td>True</td>\n",
       "      <td>73.9400</td>\n",
       "      <td>74.7400</td>\n",
       "      <td>73.6400</td>\n",
       "      <td>74.7100</td>\n",
       "      <td>21736161</td>\n",
       "    </tr>\n",
       "    <tr>\n",
       "      <th>2017-11-01</th>\n",
       "      <td>Wednesday</td>\n",
       "      <td>True</td>\n",
       "      <td>83.1800</td>\n",
       "      <td>83.7600</td>\n",
       "      <td>82.8800</td>\n",
       "      <td>83.6800</td>\n",
       "      <td>22307371</td>\n",
       "    </tr>\n",
       "    <tr>\n",
       "      <th>2017-12-01</th>\n",
       "      <td>Friday</td>\n",
       "      <td>True</td>\n",
       "      <td>84.2600</td>\n",
       "      <td>84.8100</td>\n",
       "      <td>83.2200</td>\n",
       "      <td>83.6000</td>\n",
       "      <td>29532132</td>\n",
       "    </tr>\n",
       "  </tbody>\n",
       "</table>\n",
       "<p>69 rows × 7 columns</p>\n",
       "</div>"
      ],
      "text/plain": [
       "           Day of Week  Is Start of Month    Close     High      Low     Open  \\\n",
       "Date                                                                            \n",
       "2010-01-01      Friday               True  30.4800  30.9900  30.4800  30.9800   \n",
       "2010-02-01      Monday               True  28.4100  28.4800  27.9200  28.4000   \n",
       "2010-03-01      Monday               True  29.0200  29.0500  28.5300  28.7700   \n",
       "2010-04-01    Thursday               True  29.1600  29.5400  28.6200  29.3500   \n",
       "2010-06-01     Tuesday               True  25.8900  26.3100  25.5200  25.5700   \n",
       "2010-07-01    Thursday               True  23.1600  23.3200  22.7300  23.0900   \n",
       "2010-09-01   Wednesday               True  23.9000  23.9500  23.5400  23.6600   \n",
       "2010-10-01      Friday               True  24.3800  24.8200  24.3000  24.7700   \n",
       "2010-11-01      Monday               True  26.9500  27.2200  26.7000  26.8800   \n",
       "2010-12-01   Wednesday               True  26.0400  26.2500  25.5600  25.5900   \n",
       "2011-02-01     Tuesday               True  27.9925  28.0600  27.6100  27.8000   \n",
       "2011-03-01     Tuesday               True  26.1600  26.7800  26.1500  26.6000   \n",
       "2011-04-01      Friday               True  25.4800  25.5300  25.3100  25.5300   \n",
       "2011-06-01   Wednesday               True  24.4300  25.1000  24.3700  24.9900   \n",
       "2011-07-01      Friday               True  26.0200  26.1700  25.8400  25.9500   \n",
       "2011-08-01      Monday               True  27.2700  27.6850  26.7500  27.5400   \n",
       "2011-09-01    Thursday               True  26.2100  26.8600  26.2100  26.4600   \n",
       "2011-11-01     Tuesday               True  25.9900  26.3200  25.8600  26.1700   \n",
       "2011-12-01    Thursday               True  25.2800  25.6300  25.2000  25.6300   \n",
       "2012-02-01   Wednesday               True  29.8900  30.0500  29.7600  29.7600   \n",
       "2012-03-01    Thursday               True  32.2900  32.3900  31.8500  31.9500   \n",
       "2012-05-01     Tuesday               True  32.0100  32.3350  31.9500  32.0500   \n",
       "2012-06-01      Friday               True  28.4500  28.9600  28.4400  28.8000   \n",
       "2012-08-01   Wednesday               True  29.4100  29.6500  29.2100  29.5800   \n",
       "2012-10-01      Monday               True  29.4900  29.9800  29.4200  29.8200   \n",
       "2012-11-01    Thursday               True  29.5150  29.5600  28.8200  28.8900   \n",
       "2013-01-01     Tuesday               True  26.7097  26.7097  26.7097  26.7097   \n",
       "2013-02-01      Friday               True  27.9300  28.0500  27.5500  27.6700   \n",
       "2013-03-01      Friday               True  27.9500  27.9800  27.5200  27.6900   \n",
       "2013-04-01      Monday               True  28.6100  28.6600  28.3600  28.6200   \n",
       "...                ...                ...      ...      ...      ...      ...   \n",
       "2014-08-01      Friday               True  42.8600  43.2500  42.6000  43.1500   \n",
       "2014-09-01      Monday               True  45.4300  45.4300  45.4300  45.4300   \n",
       "2014-10-01   Wednesday               True  45.9000  46.5300  45.8450  46.2700   \n",
       "2014-12-01      Monday               True  48.6200  48.7800  47.7100  47.8800   \n",
       "2015-01-01    Thursday               True  46.4500  46.4500  46.4500  46.4500   \n",
       "2015-04-01   Wednesday               True  40.7200  40.7600  40.3100  40.6000   \n",
       "2015-05-01      Friday               True  48.6550  48.8750  48.4000  48.5800   \n",
       "2015-06-01      Monday               True  47.2300  47.7700  46.6200  47.0600   \n",
       "2015-07-01   Wednesday               True  44.4450  45.2300  44.1000  44.4900   \n",
       "2015-09-01     Tuesday               True  41.8200  42.5900  41.6600  42.1700   \n",
       "2015-10-01    Thursday               True  44.6100  44.7500  43.7500  44.7500   \n",
       "2015-12-01     Tuesday               True  55.2200  55.2300  54.3000  54.4100   \n",
       "2016-01-01      Friday               True  55.4800  55.4800  55.4800  55.4800   \n",
       "2016-02-01      Monday               True  54.7100  55.0900  54.4950  54.8800   \n",
       "2016-03-01     Tuesday               True  52.5800  52.5900  50.9199  50.9700   \n",
       "2016-04-01      Friday               True  55.5700  55.6100  54.5700  55.0500   \n",
       "2016-06-01   Wednesday               True  52.8500  52.9500  52.4400  52.4400   \n",
       "2016-07-01      Friday               True  51.1600  51.7200  51.0700  51.1300   \n",
       "2016-08-01      Monday               True  56.5800  56.7500  56.1400  56.6000   \n",
       "2016-09-01    Thursday               True  57.5900  57.8200  57.0100  57.0100   \n",
       "2016-11-01     Tuesday               True  59.8000  60.0200  59.2500  59.9700   \n",
       "2016-12-01    Thursday               True  59.2000  60.1500  58.9350  60.1100   \n",
       "2017-02-01   Wednesday               True  63.5800  64.6200  63.4700  64.3550   \n",
       "2017-03-01   Wednesday               True  64.9400  64.9900  64.0218  64.1300   \n",
       "2017-05-01      Monday               True  69.4100  69.5500  68.5000  68.6800   \n",
       "2017-06-01    Thursday               True  70.1000  70.6100  69.4510  70.2400   \n",
       "2017-08-01     Tuesday               True  72.5800  73.4200  72.4900  73.1000   \n",
       "2017-09-01      Friday               True  73.9400  74.7400  73.6400  74.7100   \n",
       "2017-11-01   Wednesday               True  83.1800  83.7600  82.8800  83.6800   \n",
       "2017-12-01      Friday               True  84.2600  84.8100  83.2200  83.6000   \n",
       "\n",
       "              Volume  \n",
       "Date                  \n",
       "2010-01-01         0  \n",
       "2010-02-01  85931099  \n",
       "2010-03-01  43805302  \n",
       "2010-04-01  74768063  \n",
       "2010-06-01  76155453  \n",
       "2010-07-01  92239399  \n",
       "2010-09-01  65235851  \n",
       "2010-10-01  62672276  \n",
       "2010-11-01  61916183  \n",
       "2010-12-01  74123490  \n",
       "2011-02-01  62810661  \n",
       "2011-03-01  60054986  \n",
       "2011-04-01  63114201  \n",
       "2011-06-01  74036467  \n",
       "2011-07-01  52914516  \n",
       "2011-08-01  61846218  \n",
       "2011-09-01  60511548  \n",
       "2011-11-01  61186956  \n",
       "2011-12-01  48545338  \n",
       "2012-02-01  67413817  \n",
       "2012-03-01  77348930  \n",
       "2012-05-01  43833208  \n",
       "2012-06-01  56641282  \n",
       "2012-08-01  31722523  \n",
       "2012-10-01  54042532  \n",
       "2012-11-01  72047818  \n",
       "2013-01-01         0  \n",
       "2013-02-01  55566440  \n",
       "2013-03-01  34851878  \n",
       "2013-04-01  29203122  \n",
       "...              ...  \n",
       "2014-08-01  31171094  \n",
       "2014-09-01         0  \n",
       "2014-10-01  38088355  \n",
       "2014-12-01  31191575  \n",
       "2015-01-01         0  \n",
       "2015-04-01  36865322  \n",
       "2015-05-01  38937336  \n",
       "2015-06-01  28837332  \n",
       "2015-07-01  28343907  \n",
       "2015-09-01  49688896  \n",
       "2015-10-01  28657859  \n",
       "2015-12-01  39952779  \n",
       "2016-01-01         0  \n",
       "2016-02-01  44208542  \n",
       "2016-03-01  33024535  \n",
       "2016-04-01  24399193  \n",
       "2016-06-01  25324828  \n",
       "2016-07-01  21400392  \n",
       "2016-08-01  26003419  \n",
       "2016-09-01  26075363  \n",
       "2016-11-01  24532986  \n",
       "2016-12-01  34542121  \n",
       "2017-02-01  39671528  \n",
       "2017-03-01  26937459  \n",
       "2017-05-01  31954362  \n",
       "2017-06-01  21603601  \n",
       "2017-08-01  20823890  \n",
       "2017-09-01  21736161  \n",
       "2017-11-01  22307371  \n",
       "2017-12-01  29532132  \n",
       "\n",
       "[69 rows x 7 columns]"
      ]
     },
     "execution_count": 49,
     "metadata": {},
     "output_type": "execute_result"
    }
   ],
   "source": [
    "stocks[stocks[\"Is Start of Month\"]]"
   ]
  },
  {
   "cell_type": "markdown",
   "metadata": {
    "collapsed": true
   },
   "source": [
    "## The `.truncate()` Method"
   ]
  },
  {
   "cell_type": "code",
   "execution_count": 50,
   "metadata": {},
   "outputs": [
    {
     "data": {
      "text/html": [
       "<div>\n",
       "<style scoped>\n",
       "    .dataframe tbody tr th:only-of-type {\n",
       "        vertical-align: middle;\n",
       "    }\n",
       "\n",
       "    .dataframe tbody tr th {\n",
       "        vertical-align: top;\n",
       "    }\n",
       "\n",
       "    .dataframe thead th {\n",
       "        text-align: right;\n",
       "    }\n",
       "</style>\n",
       "<table border=\"1\" class=\"dataframe\">\n",
       "  <thead>\n",
       "    <tr style=\"text-align: right;\">\n",
       "      <th></th>\n",
       "      <th>Day of Week</th>\n",
       "      <th>Is Start of Month</th>\n",
       "      <th>Close</th>\n",
       "      <th>High</th>\n",
       "      <th>Low</th>\n",
       "      <th>Open</th>\n",
       "      <th>Volume</th>\n",
       "    </tr>\n",
       "    <tr>\n",
       "      <th>Date</th>\n",
       "      <th></th>\n",
       "      <th></th>\n",
       "      <th></th>\n",
       "      <th></th>\n",
       "      <th></th>\n",
       "      <th></th>\n",
       "      <th></th>\n",
       "    </tr>\n",
       "  </thead>\n",
       "  <tbody>\n",
       "    <tr>\n",
       "      <th>2010-01-01</th>\n",
       "      <td>Friday</td>\n",
       "      <td>True</td>\n",
       "      <td>30.48</td>\n",
       "      <td>30.99</td>\n",
       "      <td>30.48</td>\n",
       "      <td>30.98</td>\n",
       "      <td>0</td>\n",
       "    </tr>\n",
       "    <tr>\n",
       "      <th>2010-01-04</th>\n",
       "      <td>Monday</td>\n",
       "      <td>False</td>\n",
       "      <td>30.95</td>\n",
       "      <td>31.10</td>\n",
       "      <td>30.59</td>\n",
       "      <td>30.65</td>\n",
       "      <td>38414185</td>\n",
       "    </tr>\n",
       "    <tr>\n",
       "      <th>2010-01-05</th>\n",
       "      <td>Tuesday</td>\n",
       "      <td>False</td>\n",
       "      <td>30.96</td>\n",
       "      <td>31.10</td>\n",
       "      <td>30.64</td>\n",
       "      <td>30.87</td>\n",
       "      <td>49758862</td>\n",
       "    </tr>\n",
       "  </tbody>\n",
       "</table>\n",
       "</div>"
      ],
      "text/plain": [
       "           Day of Week  Is Start of Month  Close   High    Low   Open  \\\n",
       "Date                                                                    \n",
       "2010-01-01      Friday               True  30.48  30.99  30.48  30.98   \n",
       "2010-01-04      Monday              False  30.95  31.10  30.59  30.65   \n",
       "2010-01-05     Tuesday              False  30.96  31.10  30.64  30.87   \n",
       "\n",
       "              Volume  \n",
       "Date                  \n",
       "2010-01-01         0  \n",
       "2010-01-04  38414185  \n",
       "2010-01-05  49758862  "
      ]
     },
     "execution_count": 50,
     "metadata": {},
     "output_type": "execute_result"
    }
   ],
   "source": [
    "#stocks = data.DataReader(name = company, data_source = \"google\", start = start, end = end)\n",
    "stocks.head(3)"
   ]
  },
  {
   "cell_type": "code",
   "execution_count": 52,
   "metadata": {
    "scrolled": true
   },
   "outputs": [
    {
     "data": {
      "text/html": [
       "<div>\n",
       "<style scoped>\n",
       "    .dataframe tbody tr th:only-of-type {\n",
       "        vertical-align: middle;\n",
       "    }\n",
       "\n",
       "    .dataframe tbody tr th {\n",
       "        vertical-align: top;\n",
       "    }\n",
       "\n",
       "    .dataframe thead th {\n",
       "        text-align: right;\n",
       "    }\n",
       "</style>\n",
       "<table border=\"1\" class=\"dataframe\">\n",
       "  <thead>\n",
       "    <tr style=\"text-align: right;\">\n",
       "      <th></th>\n",
       "      <th>Day of Week</th>\n",
       "      <th>Is Start of Month</th>\n",
       "      <th>Close</th>\n",
       "      <th>High</th>\n",
       "      <th>Low</th>\n",
       "      <th>Open</th>\n",
       "      <th>Volume</th>\n",
       "    </tr>\n",
       "    <tr>\n",
       "      <th>Date</th>\n",
       "      <th></th>\n",
       "      <th></th>\n",
       "      <th></th>\n",
       "      <th></th>\n",
       "      <th></th>\n",
       "      <th></th>\n",
       "      <th></th>\n",
       "    </tr>\n",
       "  </thead>\n",
       "  <tbody>\n",
       "    <tr>\n",
       "      <th>2012-06-07</th>\n",
       "      <td>Thursday</td>\n",
       "      <td>False</td>\n",
       "      <td>29.230</td>\n",
       "      <td>29.700</td>\n",
       "      <td>29.170</td>\n",
       "      <td>29.60</td>\n",
       "      <td>37794901</td>\n",
       "    </tr>\n",
       "    <tr>\n",
       "      <th>2012-06-08</th>\n",
       "      <td>Friday</td>\n",
       "      <td>False</td>\n",
       "      <td>29.650</td>\n",
       "      <td>29.680</td>\n",
       "      <td>29.050</td>\n",
       "      <td>29.21</td>\n",
       "      <td>42554321</td>\n",
       "    </tr>\n",
       "    <tr>\n",
       "      <th>2012-06-11</th>\n",
       "      <td>Monday</td>\n",
       "      <td>False</td>\n",
       "      <td>28.895</td>\n",
       "      <td>29.810</td>\n",
       "      <td>28.820</td>\n",
       "      <td>29.73</td>\n",
       "      <td>46365066</td>\n",
       "    </tr>\n",
       "    <tr>\n",
       "      <th>2012-06-12</th>\n",
       "      <td>Tuesday</td>\n",
       "      <td>False</td>\n",
       "      <td>29.290</td>\n",
       "      <td>29.300</td>\n",
       "      <td>28.840</td>\n",
       "      <td>29.10</td>\n",
       "      <td>35338135</td>\n",
       "    </tr>\n",
       "    <tr>\n",
       "      <th>2012-06-13</th>\n",
       "      <td>Wednesday</td>\n",
       "      <td>False</td>\n",
       "      <td>29.130</td>\n",
       "      <td>29.440</td>\n",
       "      <td>29.050</td>\n",
       "      <td>29.24</td>\n",
       "      <td>32984515</td>\n",
       "    </tr>\n",
       "    <tr>\n",
       "      <th>2012-06-14</th>\n",
       "      <td>Thursday</td>\n",
       "      <td>False</td>\n",
       "      <td>29.340</td>\n",
       "      <td>29.460</td>\n",
       "      <td>28.880</td>\n",
       "      <td>29.33</td>\n",
       "      <td>39460156</td>\n",
       "    </tr>\n",
       "    <tr>\n",
       "      <th>2012-06-15</th>\n",
       "      <td>Friday</td>\n",
       "      <td>False</td>\n",
       "      <td>30.020</td>\n",
       "      <td>30.080</td>\n",
       "      <td>29.490</td>\n",
       "      <td>29.61</td>\n",
       "      <td>62314362</td>\n",
       "    </tr>\n",
       "    <tr>\n",
       "      <th>2012-06-18</th>\n",
       "      <td>Monday</td>\n",
       "      <td>False</td>\n",
       "      <td>29.840</td>\n",
       "      <td>30.030</td>\n",
       "      <td>29.710</td>\n",
       "      <td>30.02</td>\n",
       "      <td>58679618</td>\n",
       "    </tr>\n",
       "    <tr>\n",
       "      <th>2012-06-19</th>\n",
       "      <td>Tuesday</td>\n",
       "      <td>False</td>\n",
       "      <td>30.700</td>\n",
       "      <td>31.110</td>\n",
       "      <td>30.050</td>\n",
       "      <td>30.21</td>\n",
       "      <td>75725717</td>\n",
       "    </tr>\n",
       "    <tr>\n",
       "      <th>2012-06-20</th>\n",
       "      <td>Wednesday</td>\n",
       "      <td>False</td>\n",
       "      <td>30.930</td>\n",
       "      <td>31.050</td>\n",
       "      <td>30.640</td>\n",
       "      <td>30.93</td>\n",
       "      <td>36257101</td>\n",
       "    </tr>\n",
       "    <tr>\n",
       "      <th>2012-06-21</th>\n",
       "      <td>Thursday</td>\n",
       "      <td>False</td>\n",
       "      <td>30.135</td>\n",
       "      <td>31.140</td>\n",
       "      <td>30.060</td>\n",
       "      <td>31.00</td>\n",
       "      <td>48461283</td>\n",
       "    </tr>\n",
       "    <tr>\n",
       "      <th>2012-06-22</th>\n",
       "      <td>Friday</td>\n",
       "      <td>False</td>\n",
       "      <td>30.700</td>\n",
       "      <td>30.730</td>\n",
       "      <td>30.030</td>\n",
       "      <td>30.30</td>\n",
       "      <td>45098017</td>\n",
       "    </tr>\n",
       "    <tr>\n",
       "      <th>2012-06-25</th>\n",
       "      <td>Monday</td>\n",
       "      <td>False</td>\n",
       "      <td>29.865</td>\n",
       "      <td>30.320</td>\n",
       "      <td>29.620</td>\n",
       "      <td>30.29</td>\n",
       "      <td>42225199</td>\n",
       "    </tr>\n",
       "    <tr>\n",
       "      <th>2012-06-26</th>\n",
       "      <td>Tuesday</td>\n",
       "      <td>False</td>\n",
       "      <td>30.020</td>\n",
       "      <td>30.270</td>\n",
       "      <td>29.940</td>\n",
       "      <td>29.99</td>\n",
       "      <td>38422237</td>\n",
       "    </tr>\n",
       "    <tr>\n",
       "      <th>2012-06-27</th>\n",
       "      <td>Wednesday</td>\n",
       "      <td>False</td>\n",
       "      <td>30.170</td>\n",
       "      <td>30.500</td>\n",
       "      <td>30.030</td>\n",
       "      <td>30.21</td>\n",
       "      <td>33783977</td>\n",
       "    </tr>\n",
       "    <tr>\n",
       "      <th>2012-06-28</th>\n",
       "      <td>Thursday</td>\n",
       "      <td>False</td>\n",
       "      <td>29.910</td>\n",
       "      <td>30.050</td>\n",
       "      <td>29.420</td>\n",
       "      <td>29.98</td>\n",
       "      <td>45333920</td>\n",
       "    </tr>\n",
       "    <tr>\n",
       "      <th>2012-06-29</th>\n",
       "      <td>Friday</td>\n",
       "      <td>False</td>\n",
       "      <td>30.590</td>\n",
       "      <td>30.690</td>\n",
       "      <td>30.140</td>\n",
       "      <td>30.45</td>\n",
       "      <td>55227108</td>\n",
       "    </tr>\n",
       "    <tr>\n",
       "      <th>2012-07-02</th>\n",
       "      <td>Monday</td>\n",
       "      <td>False</td>\n",
       "      <td>30.560</td>\n",
       "      <td>30.620</td>\n",
       "      <td>30.210</td>\n",
       "      <td>30.62</td>\n",
       "      <td>30589039</td>\n",
       "    </tr>\n",
       "    <tr>\n",
       "      <th>2012-07-03</th>\n",
       "      <td>Tuesday</td>\n",
       "      <td>False</td>\n",
       "      <td>30.760</td>\n",
       "      <td>30.760</td>\n",
       "      <td>30.170</td>\n",
       "      <td>30.20</td>\n",
       "      <td>20941442</td>\n",
       "    </tr>\n",
       "    <tr>\n",
       "      <th>2012-07-04</th>\n",
       "      <td>Wednesday</td>\n",
       "      <td>False</td>\n",
       "      <td>30.760</td>\n",
       "      <td>30.760</td>\n",
       "      <td>30.760</td>\n",
       "      <td>30.76</td>\n",
       "      <td>0</td>\n",
       "    </tr>\n",
       "    <tr>\n",
       "      <th>2012-07-05</th>\n",
       "      <td>Thursday</td>\n",
       "      <td>False</td>\n",
       "      <td>30.700</td>\n",
       "      <td>30.780</td>\n",
       "      <td>30.375</td>\n",
       "      <td>30.50</td>\n",
       "      <td>28802821</td>\n",
       "    </tr>\n",
       "    <tr>\n",
       "      <th>2012-07-06</th>\n",
       "      <td>Friday</td>\n",
       "      <td>False</td>\n",
       "      <td>30.185</td>\n",
       "      <td>30.700</td>\n",
       "      <td>29.950</td>\n",
       "      <td>30.58</td>\n",
       "      <td>38297403</td>\n",
       "    </tr>\n",
       "    <tr>\n",
       "      <th>2012-07-09</th>\n",
       "      <td>Monday</td>\n",
       "      <td>False</td>\n",
       "      <td>30.000</td>\n",
       "      <td>30.230</td>\n",
       "      <td>29.780</td>\n",
       "      <td>30.19</td>\n",
       "      <td>30682552</td>\n",
       "    </tr>\n",
       "    <tr>\n",
       "      <th>2012-07-10</th>\n",
       "      <td>Tuesday</td>\n",
       "      <td>False</td>\n",
       "      <td>29.740</td>\n",
       "      <td>30.220</td>\n",
       "      <td>29.510</td>\n",
       "      <td>30.08</td>\n",
       "      <td>37537369</td>\n",
       "    </tr>\n",
       "    <tr>\n",
       "      <th>2012-07-11</th>\n",
       "      <td>Wednesday</td>\n",
       "      <td>False</td>\n",
       "      <td>29.300</td>\n",
       "      <td>29.735</td>\n",
       "      <td>29.105</td>\n",
       "      <td>29.68</td>\n",
       "      <td>39188842</td>\n",
       "    </tr>\n",
       "    <tr>\n",
       "      <th>2012-07-12</th>\n",
       "      <td>Thursday</td>\n",
       "      <td>False</td>\n",
       "      <td>28.630</td>\n",
       "      <td>29.180</td>\n",
       "      <td>28.540</td>\n",
       "      <td>29.15</td>\n",
       "      <td>63530444</td>\n",
       "    </tr>\n",
       "    <tr>\n",
       "      <th>2012-07-13</th>\n",
       "      <td>Friday</td>\n",
       "      <td>False</td>\n",
       "      <td>29.390</td>\n",
       "      <td>29.480</td>\n",
       "      <td>28.720</td>\n",
       "      <td>28.80</td>\n",
       "      <td>39090585</td>\n",
       "    </tr>\n",
       "    <tr>\n",
       "      <th>2012-07-16</th>\n",
       "      <td>Monday</td>\n",
       "      <td>False</td>\n",
       "      <td>29.440</td>\n",
       "      <td>29.530</td>\n",
       "      <td>29.040</td>\n",
       "      <td>29.48</td>\n",
       "      <td>27901963</td>\n",
       "    </tr>\n",
       "    <tr>\n",
       "      <th>2012-07-17</th>\n",
       "      <td>Tuesday</td>\n",
       "      <td>False</td>\n",
       "      <td>29.660</td>\n",
       "      <td>29.860</td>\n",
       "      <td>29.200</td>\n",
       "      <td>29.64</td>\n",
       "      <td>33776331</td>\n",
       "    </tr>\n",
       "    <tr>\n",
       "      <th>2012-07-18</th>\n",
       "      <td>Wednesday</td>\n",
       "      <td>False</td>\n",
       "      <td>30.450</td>\n",
       "      <td>30.450</td>\n",
       "      <td>29.460</td>\n",
       "      <td>29.59</td>\n",
       "      <td>41100151</td>\n",
       "    </tr>\n",
       "    <tr>\n",
       "      <th>...</th>\n",
       "      <td>...</td>\n",
       "      <td>...</td>\n",
       "      <td>...</td>\n",
       "      <td>...</td>\n",
       "      <td>...</td>\n",
       "      <td>...</td>\n",
       "      <td>...</td>\n",
       "    </tr>\n",
       "    <tr>\n",
       "      <th>2013-01-18</th>\n",
       "      <td>Friday</td>\n",
       "      <td>False</td>\n",
       "      <td>27.250</td>\n",
       "      <td>27.290</td>\n",
       "      <td>27.040</td>\n",
       "      <td>27.06</td>\n",
       "      <td>52171305</td>\n",
       "    </tr>\n",
       "    <tr>\n",
       "      <th>2013-01-21</th>\n",
       "      <td>Monday</td>\n",
       "      <td>False</td>\n",
       "      <td>27.250</td>\n",
       "      <td>27.250</td>\n",
       "      <td>27.250</td>\n",
       "      <td>27.25</td>\n",
       "      <td>0</td>\n",
       "    </tr>\n",
       "    <tr>\n",
       "      <th>2013-01-22</th>\n",
       "      <td>Tuesday</td>\n",
       "      <td>False</td>\n",
       "      <td>27.150</td>\n",
       "      <td>27.450</td>\n",
       "      <td>27.000</td>\n",
       "      <td>27.33</td>\n",
       "      <td>58656745</td>\n",
       "    </tr>\n",
       "    <tr>\n",
       "      <th>2013-01-23</th>\n",
       "      <td>Wednesday</td>\n",
       "      <td>False</td>\n",
       "      <td>27.610</td>\n",
       "      <td>27.635</td>\n",
       "      <td>27.200</td>\n",
       "      <td>27.20</td>\n",
       "      <td>50387614</td>\n",
       "    </tr>\n",
       "    <tr>\n",
       "      <th>2013-01-24</th>\n",
       "      <td>Thursday</td>\n",
       "      <td>False</td>\n",
       "      <td>27.630</td>\n",
       "      <td>28.070</td>\n",
       "      <td>27.470</td>\n",
       "      <td>27.68</td>\n",
       "      <td>101739246</td>\n",
       "    </tr>\n",
       "    <tr>\n",
       "      <th>2013-01-25</th>\n",
       "      <td>Friday</td>\n",
       "      <td>False</td>\n",
       "      <td>27.880</td>\n",
       "      <td>28.230</td>\n",
       "      <td>27.390</td>\n",
       "      <td>27.60</td>\n",
       "      <td>81853106</td>\n",
       "    </tr>\n",
       "    <tr>\n",
       "      <th>2013-01-28</th>\n",
       "      <td>Monday</td>\n",
       "      <td>False</td>\n",
       "      <td>27.911</td>\n",
       "      <td>28.225</td>\n",
       "      <td>27.760</td>\n",
       "      <td>28.00</td>\n",
       "      <td>56061493</td>\n",
       "    </tr>\n",
       "    <tr>\n",
       "      <th>2013-01-29</th>\n",
       "      <td>Tuesday</td>\n",
       "      <td>False</td>\n",
       "      <td>28.010</td>\n",
       "      <td>28.130</td>\n",
       "      <td>27.600</td>\n",
       "      <td>27.81</td>\n",
       "      <td>49247863</td>\n",
       "    </tr>\n",
       "    <tr>\n",
       "      <th>2013-01-30</th>\n",
       "      <td>Wednesday</td>\n",
       "      <td>False</td>\n",
       "      <td>27.850</td>\n",
       "      <td>28.190</td>\n",
       "      <td>27.760</td>\n",
       "      <td>28.01</td>\n",
       "      <td>43585526</td>\n",
       "    </tr>\n",
       "    <tr>\n",
       "      <th>2013-01-31</th>\n",
       "      <td>Thursday</td>\n",
       "      <td>False</td>\n",
       "      <td>27.450</td>\n",
       "      <td>27.970</td>\n",
       "      <td>27.400</td>\n",
       "      <td>27.72</td>\n",
       "      <td>50536148</td>\n",
       "    </tr>\n",
       "    <tr>\n",
       "      <th>2013-02-01</th>\n",
       "      <td>Friday</td>\n",
       "      <td>True</td>\n",
       "      <td>27.930</td>\n",
       "      <td>28.050</td>\n",
       "      <td>27.550</td>\n",
       "      <td>27.67</td>\n",
       "      <td>55566440</td>\n",
       "    </tr>\n",
       "    <tr>\n",
       "      <th>2013-02-04</th>\n",
       "      <td>Monday</td>\n",
       "      <td>False</td>\n",
       "      <td>27.440</td>\n",
       "      <td>28.020</td>\n",
       "      <td>27.420</td>\n",
       "      <td>27.90</td>\n",
       "      <td>50539942</td>\n",
       "    </tr>\n",
       "    <tr>\n",
       "      <th>2013-02-05</th>\n",
       "      <td>Tuesday</td>\n",
       "      <td>False</td>\n",
       "      <td>27.495</td>\n",
       "      <td>27.660</td>\n",
       "      <td>27.360</td>\n",
       "      <td>27.60</td>\n",
       "      <td>35410361</td>\n",
       "    </tr>\n",
       "    <tr>\n",
       "      <th>2013-02-06</th>\n",
       "      <td>Wednesday</td>\n",
       "      <td>False</td>\n",
       "      <td>27.340</td>\n",
       "      <td>27.540</td>\n",
       "      <td>27.250</td>\n",
       "      <td>27.42</td>\n",
       "      <td>41889572</td>\n",
       "    </tr>\n",
       "    <tr>\n",
       "      <th>2013-02-07</th>\n",
       "      <td>Thursday</td>\n",
       "      <td>False</td>\n",
       "      <td>27.283</td>\n",
       "      <td>27.390</td>\n",
       "      <td>27.100</td>\n",
       "      <td>27.36</td>\n",
       "      <td>38034068</td>\n",
       "    </tr>\n",
       "    <tr>\n",
       "      <th>2013-02-08</th>\n",
       "      <td>Friday</td>\n",
       "      <td>False</td>\n",
       "      <td>27.550</td>\n",
       "      <td>27.710</td>\n",
       "      <td>27.310</td>\n",
       "      <td>27.35</td>\n",
       "      <td>33320436</td>\n",
       "    </tr>\n",
       "    <tr>\n",
       "      <th>2013-02-11</th>\n",
       "      <td>Monday</td>\n",
       "      <td>False</td>\n",
       "      <td>27.860</td>\n",
       "      <td>27.920</td>\n",
       "      <td>27.500</td>\n",
       "      <td>27.62</td>\n",
       "      <td>32248148</td>\n",
       "    </tr>\n",
       "    <tr>\n",
       "      <th>2013-02-12</th>\n",
       "      <td>Tuesday</td>\n",
       "      <td>False</td>\n",
       "      <td>27.880</td>\n",
       "      <td>28.000</td>\n",
       "      <td>27.750</td>\n",
       "      <td>27.85</td>\n",
       "      <td>35991329</td>\n",
       "    </tr>\n",
       "    <tr>\n",
       "      <th>2013-02-13</th>\n",
       "      <td>Wednesday</td>\n",
       "      <td>False</td>\n",
       "      <td>28.030</td>\n",
       "      <td>28.110</td>\n",
       "      <td>27.880</td>\n",
       "      <td>27.98</td>\n",
       "      <td>41716060</td>\n",
       "    </tr>\n",
       "    <tr>\n",
       "      <th>2013-02-14</th>\n",
       "      <td>Thursday</td>\n",
       "      <td>False</td>\n",
       "      <td>28.040</td>\n",
       "      <td>28.060</td>\n",
       "      <td>27.870</td>\n",
       "      <td>27.87</td>\n",
       "      <td>32663454</td>\n",
       "    </tr>\n",
       "    <tr>\n",
       "      <th>2013-02-15</th>\n",
       "      <td>Friday</td>\n",
       "      <td>False</td>\n",
       "      <td>28.010</td>\n",
       "      <td>28.160</td>\n",
       "      <td>27.875</td>\n",
       "      <td>28.05</td>\n",
       "      <td>49657740</td>\n",
       "    </tr>\n",
       "    <tr>\n",
       "      <th>2013-02-18</th>\n",
       "      <td>Monday</td>\n",
       "      <td>False</td>\n",
       "      <td>28.010</td>\n",
       "      <td>28.010</td>\n",
       "      <td>28.010</td>\n",
       "      <td>28.01</td>\n",
       "      <td>0</td>\n",
       "    </tr>\n",
       "    <tr>\n",
       "      <th>2013-02-19</th>\n",
       "      <td>Tuesday</td>\n",
       "      <td>False</td>\n",
       "      <td>28.045</td>\n",
       "      <td>28.090</td>\n",
       "      <td>27.800</td>\n",
       "      <td>27.94</td>\n",
       "      <td>38806870</td>\n",
       "    </tr>\n",
       "    <tr>\n",
       "      <th>2013-02-20</th>\n",
       "      <td>Wednesday</td>\n",
       "      <td>False</td>\n",
       "      <td>27.870</td>\n",
       "      <td>28.200</td>\n",
       "      <td>27.830</td>\n",
       "      <td>28.12</td>\n",
       "      <td>44112446</td>\n",
       "    </tr>\n",
       "    <tr>\n",
       "      <th>2013-02-21</th>\n",
       "      <td>Thursday</td>\n",
       "      <td>False</td>\n",
       "      <td>27.490</td>\n",
       "      <td>27.740</td>\n",
       "      <td>27.230</td>\n",
       "      <td>27.70</td>\n",
       "      <td>49085538</td>\n",
       "    </tr>\n",
       "    <tr>\n",
       "      <th>2013-02-22</th>\n",
       "      <td>Friday</td>\n",
       "      <td>False</td>\n",
       "      <td>27.760</td>\n",
       "      <td>27.760</td>\n",
       "      <td>27.480</td>\n",
       "      <td>27.69</td>\n",
       "      <td>31430018</td>\n",
       "    </tr>\n",
       "    <tr>\n",
       "      <th>2013-02-25</th>\n",
       "      <td>Monday</td>\n",
       "      <td>False</td>\n",
       "      <td>27.370</td>\n",
       "      <td>28.050</td>\n",
       "      <td>27.370</td>\n",
       "      <td>27.95</td>\n",
       "      <td>48020353</td>\n",
       "    </tr>\n",
       "    <tr>\n",
       "      <th>2013-02-26</th>\n",
       "      <td>Tuesday</td>\n",
       "      <td>False</td>\n",
       "      <td>27.370</td>\n",
       "      <td>27.600</td>\n",
       "      <td>27.340</td>\n",
       "      <td>27.38</td>\n",
       "      <td>49925050</td>\n",
       "    </tr>\n",
       "    <tr>\n",
       "      <th>2013-02-27</th>\n",
       "      <td>Wednesday</td>\n",
       "      <td>False</td>\n",
       "      <td>27.810</td>\n",
       "      <td>28.000</td>\n",
       "      <td>27.330</td>\n",
       "      <td>27.37</td>\n",
       "      <td>36395589</td>\n",
       "    </tr>\n",
       "    <tr>\n",
       "      <th>2013-02-28</th>\n",
       "      <td>Thursday</td>\n",
       "      <td>False</td>\n",
       "      <td>27.800</td>\n",
       "      <td>27.970</td>\n",
       "      <td>27.740</td>\n",
       "      <td>27.88</td>\n",
       "      <td>35840861</td>\n",
       "    </tr>\n",
       "  </tbody>\n",
       "</table>\n",
       "<p>191 rows × 7 columns</p>\n",
       "</div>"
      ],
      "text/plain": [
       "           Day of Week  Is Start of Month   Close    High     Low   Open  \\\n",
       "Date                                                                       \n",
       "2012-06-07    Thursday              False  29.230  29.700  29.170  29.60   \n",
       "2012-06-08      Friday              False  29.650  29.680  29.050  29.21   \n",
       "2012-06-11      Monday              False  28.895  29.810  28.820  29.73   \n",
       "2012-06-12     Tuesday              False  29.290  29.300  28.840  29.10   \n",
       "2012-06-13   Wednesday              False  29.130  29.440  29.050  29.24   \n",
       "2012-06-14    Thursday              False  29.340  29.460  28.880  29.33   \n",
       "2012-06-15      Friday              False  30.020  30.080  29.490  29.61   \n",
       "2012-06-18      Monday              False  29.840  30.030  29.710  30.02   \n",
       "2012-06-19     Tuesday              False  30.700  31.110  30.050  30.21   \n",
       "2012-06-20   Wednesday              False  30.930  31.050  30.640  30.93   \n",
       "2012-06-21    Thursday              False  30.135  31.140  30.060  31.00   \n",
       "2012-06-22      Friday              False  30.700  30.730  30.030  30.30   \n",
       "2012-06-25      Monday              False  29.865  30.320  29.620  30.29   \n",
       "2012-06-26     Tuesday              False  30.020  30.270  29.940  29.99   \n",
       "2012-06-27   Wednesday              False  30.170  30.500  30.030  30.21   \n",
       "2012-06-28    Thursday              False  29.910  30.050  29.420  29.98   \n",
       "2012-06-29      Friday              False  30.590  30.690  30.140  30.45   \n",
       "2012-07-02      Monday              False  30.560  30.620  30.210  30.62   \n",
       "2012-07-03     Tuesday              False  30.760  30.760  30.170  30.20   \n",
       "2012-07-04   Wednesday              False  30.760  30.760  30.760  30.76   \n",
       "2012-07-05    Thursday              False  30.700  30.780  30.375  30.50   \n",
       "2012-07-06      Friday              False  30.185  30.700  29.950  30.58   \n",
       "2012-07-09      Monday              False  30.000  30.230  29.780  30.19   \n",
       "2012-07-10     Tuesday              False  29.740  30.220  29.510  30.08   \n",
       "2012-07-11   Wednesday              False  29.300  29.735  29.105  29.68   \n",
       "2012-07-12    Thursday              False  28.630  29.180  28.540  29.15   \n",
       "2012-07-13      Friday              False  29.390  29.480  28.720  28.80   \n",
       "2012-07-16      Monday              False  29.440  29.530  29.040  29.48   \n",
       "2012-07-17     Tuesday              False  29.660  29.860  29.200  29.64   \n",
       "2012-07-18   Wednesday              False  30.450  30.450  29.460  29.59   \n",
       "...                ...                ...     ...     ...     ...    ...   \n",
       "2013-01-18      Friday              False  27.250  27.290  27.040  27.06   \n",
       "2013-01-21      Monday              False  27.250  27.250  27.250  27.25   \n",
       "2013-01-22     Tuesday              False  27.150  27.450  27.000  27.33   \n",
       "2013-01-23   Wednesday              False  27.610  27.635  27.200  27.20   \n",
       "2013-01-24    Thursday              False  27.630  28.070  27.470  27.68   \n",
       "2013-01-25      Friday              False  27.880  28.230  27.390  27.60   \n",
       "2013-01-28      Monday              False  27.911  28.225  27.760  28.00   \n",
       "2013-01-29     Tuesday              False  28.010  28.130  27.600  27.81   \n",
       "2013-01-30   Wednesday              False  27.850  28.190  27.760  28.01   \n",
       "2013-01-31    Thursday              False  27.450  27.970  27.400  27.72   \n",
       "2013-02-01      Friday               True  27.930  28.050  27.550  27.67   \n",
       "2013-02-04      Monday              False  27.440  28.020  27.420  27.90   \n",
       "2013-02-05     Tuesday              False  27.495  27.660  27.360  27.60   \n",
       "2013-02-06   Wednesday              False  27.340  27.540  27.250  27.42   \n",
       "2013-02-07    Thursday              False  27.283  27.390  27.100  27.36   \n",
       "2013-02-08      Friday              False  27.550  27.710  27.310  27.35   \n",
       "2013-02-11      Monday              False  27.860  27.920  27.500  27.62   \n",
       "2013-02-12     Tuesday              False  27.880  28.000  27.750  27.85   \n",
       "2013-02-13   Wednesday              False  28.030  28.110  27.880  27.98   \n",
       "2013-02-14    Thursday              False  28.040  28.060  27.870  27.87   \n",
       "2013-02-15      Friday              False  28.010  28.160  27.875  28.05   \n",
       "2013-02-18      Monday              False  28.010  28.010  28.010  28.01   \n",
       "2013-02-19     Tuesday              False  28.045  28.090  27.800  27.94   \n",
       "2013-02-20   Wednesday              False  27.870  28.200  27.830  28.12   \n",
       "2013-02-21    Thursday              False  27.490  27.740  27.230  27.70   \n",
       "2013-02-22      Friday              False  27.760  27.760  27.480  27.69   \n",
       "2013-02-25      Monday              False  27.370  28.050  27.370  27.95   \n",
       "2013-02-26     Tuesday              False  27.370  27.600  27.340  27.38   \n",
       "2013-02-27   Wednesday              False  27.810  28.000  27.330  27.37   \n",
       "2013-02-28    Thursday              False  27.800  27.970  27.740  27.88   \n",
       "\n",
       "               Volume  \n",
       "Date                   \n",
       "2012-06-07   37794901  \n",
       "2012-06-08   42554321  \n",
       "2012-06-11   46365066  \n",
       "2012-06-12   35338135  \n",
       "2012-06-13   32984515  \n",
       "2012-06-14   39460156  \n",
       "2012-06-15   62314362  \n",
       "2012-06-18   58679618  \n",
       "2012-06-19   75725717  \n",
       "2012-06-20   36257101  \n",
       "2012-06-21   48461283  \n",
       "2012-06-22   45098017  \n",
       "2012-06-25   42225199  \n",
       "2012-06-26   38422237  \n",
       "2012-06-27   33783977  \n",
       "2012-06-28   45333920  \n",
       "2012-06-29   55227108  \n",
       "2012-07-02   30589039  \n",
       "2012-07-03   20941442  \n",
       "2012-07-04          0  \n",
       "2012-07-05   28802821  \n",
       "2012-07-06   38297403  \n",
       "2012-07-09   30682552  \n",
       "2012-07-10   37537369  \n",
       "2012-07-11   39188842  \n",
       "2012-07-12   63530444  \n",
       "2012-07-13   39090585  \n",
       "2012-07-16   27901963  \n",
       "2012-07-17   33776331  \n",
       "2012-07-18   41100151  \n",
       "...               ...  \n",
       "2013-01-18   52171305  \n",
       "2013-01-21          0  \n",
       "2013-01-22   58656745  \n",
       "2013-01-23   50387614  \n",
       "2013-01-24  101739246  \n",
       "2013-01-25   81853106  \n",
       "2013-01-28   56061493  \n",
       "2013-01-29   49247863  \n",
       "2013-01-30   43585526  \n",
       "2013-01-31   50536148  \n",
       "2013-02-01   55566440  \n",
       "2013-02-04   50539942  \n",
       "2013-02-05   35410361  \n",
       "2013-02-06   41889572  \n",
       "2013-02-07   38034068  \n",
       "2013-02-08   33320436  \n",
       "2013-02-11   32248148  \n",
       "2013-02-12   35991329  \n",
       "2013-02-13   41716060  \n",
       "2013-02-14   32663454  \n",
       "2013-02-15   49657740  \n",
       "2013-02-18          0  \n",
       "2013-02-19   38806870  \n",
       "2013-02-20   44112446  \n",
       "2013-02-21   49085538  \n",
       "2013-02-22   31430018  \n",
       "2013-02-25   48020353  \n",
       "2013-02-26   49925050  \n",
       "2013-02-27   36395589  \n",
       "2013-02-28   35840861  \n",
       "\n",
       "[191 rows x 7 columns]"
      ]
     },
     "execution_count": 52,
     "metadata": {},
     "output_type": "execute_result"
    }
   ],
   "source": [
    "stocks.truncate(before = \"2012-06-07\", after = \"2013-02-28\")"
   ]
  },
  {
   "cell_type": "markdown",
   "metadata": {},
   "source": [
    "## `pd.DateOffset` Objects"
   ]
  },
  {
   "cell_type": "code",
   "execution_count": 53,
   "metadata": {},
   "outputs": [
    {
     "data": {
      "text/html": [
       "<div>\n",
       "<style scoped>\n",
       "    .dataframe tbody tr th:only-of-type {\n",
       "        vertical-align: middle;\n",
       "    }\n",
       "\n",
       "    .dataframe tbody tr th {\n",
       "        vertical-align: top;\n",
       "    }\n",
       "\n",
       "    .dataframe thead th {\n",
       "        text-align: right;\n",
       "    }\n",
       "</style>\n",
       "<table border=\"1\" class=\"dataframe\">\n",
       "  <thead>\n",
       "    <tr style=\"text-align: right;\">\n",
       "      <th></th>\n",
       "      <th>Day of Week</th>\n",
       "      <th>Is Start of Month</th>\n",
       "      <th>Close</th>\n",
       "      <th>High</th>\n",
       "      <th>Low</th>\n",
       "      <th>Open</th>\n",
       "      <th>Volume</th>\n",
       "    </tr>\n",
       "    <tr>\n",
       "      <th>Date</th>\n",
       "      <th></th>\n",
       "      <th></th>\n",
       "      <th></th>\n",
       "      <th></th>\n",
       "      <th></th>\n",
       "      <th></th>\n",
       "      <th></th>\n",
       "    </tr>\n",
       "  </thead>\n",
       "  <tbody>\n",
       "    <tr>\n",
       "      <th>2010-01-01</th>\n",
       "      <td>Friday</td>\n",
       "      <td>True</td>\n",
       "      <td>30.48</td>\n",
       "      <td>30.99</td>\n",
       "      <td>30.48</td>\n",
       "      <td>30.98</td>\n",
       "      <td>0</td>\n",
       "    </tr>\n",
       "    <tr>\n",
       "      <th>2010-01-04</th>\n",
       "      <td>Monday</td>\n",
       "      <td>False</td>\n",
       "      <td>30.95</td>\n",
       "      <td>31.10</td>\n",
       "      <td>30.59</td>\n",
       "      <td>30.65</td>\n",
       "      <td>38414185</td>\n",
       "    </tr>\n",
       "    <tr>\n",
       "      <th>2010-01-05</th>\n",
       "      <td>Tuesday</td>\n",
       "      <td>False</td>\n",
       "      <td>30.96</td>\n",
       "      <td>31.10</td>\n",
       "      <td>30.64</td>\n",
       "      <td>30.87</td>\n",
       "      <td>49758862</td>\n",
       "    </tr>\n",
       "  </tbody>\n",
       "</table>\n",
       "</div>"
      ],
      "text/plain": [
       "           Day of Week  Is Start of Month  Close   High    Low   Open  \\\n",
       "Date                                                                    \n",
       "2010-01-01      Friday               True  30.48  30.99  30.48  30.98   \n",
       "2010-01-04      Monday              False  30.95  31.10  30.59  30.65   \n",
       "2010-01-05     Tuesday              False  30.96  31.10  30.64  30.87   \n",
       "\n",
       "              Volume  \n",
       "Date                  \n",
       "2010-01-01         0  \n",
       "2010-01-04  38414185  \n",
       "2010-01-05  49758862  "
      ]
     },
     "execution_count": 53,
     "metadata": {},
     "output_type": "execute_result"
    }
   ],
   "source": [
    "#stocks = data.DataReader(name = \"GOOG\", data_source = \"google\",\n",
    "#                start = dt.date(2000, 1, 1), end = dt.datetime.now())\n",
    "stocks.head(3)"
   ]
  },
  {
   "cell_type": "code",
   "execution_count": 54,
   "metadata": {},
   "outputs": [
    {
     "data": {
      "text/plain": [
       "DatetimeIndex(['2015-09-13 03:42:00', '2015-09-16 03:42:00',\n",
       "               '2015-09-17 03:42:00', '2015-09-18 03:42:00',\n",
       "               '2015-09-19 03:42:00', '2015-09-20 03:42:00',\n",
       "               '2015-09-23 03:42:00', '2015-09-24 03:42:00',\n",
       "               '2015-09-25 03:42:00', '2015-09-26 03:42:00',\n",
       "               ...\n",
       "               '2023-08-30 03:42:00', '2023-08-31 03:42:00',\n",
       "               '2023-09-01 03:42:00', '2023-09-02 03:42:00',\n",
       "               '2023-09-03 03:42:00', '2023-09-06 03:42:00',\n",
       "               '2023-09-07 03:42:00', '2023-09-08 03:42:00',\n",
       "               '2023-09-09 03:42:00', '2023-09-10 03:42:00'],\n",
       "              dtype='datetime64[ns]', name='Date', length=2086, freq=None)"
      ]
     },
     "execution_count": 54,
     "metadata": {},
     "output_type": "execute_result"
    }
   ],
   "source": [
    "stocks.index + pd.DateOffset(months = 8, years = 5, days = 12, hours = 3, minutes = 42)"
   ]
  },
  {
   "cell_type": "markdown",
   "metadata": {},
   "source": [
    "## More Fun with `pd.DateOffset` Objects"
   ]
  },
  {
   "cell_type": "code",
   "execution_count": 55,
   "metadata": {
    "collapsed": true
   },
   "outputs": [],
   "source": [
    "import pandas as pd\n",
    "import datetime as dt\n",
    "from pandas_datareader import data\n",
    "from pandas.tseries.offsets import *"
   ]
  },
  {
   "cell_type": "code",
   "execution_count": 56,
   "metadata": {},
   "outputs": [
    {
     "data": {
      "text/html": [
       "<div>\n",
       "<style scoped>\n",
       "    .dataframe tbody tr th:only-of-type {\n",
       "        vertical-align: middle;\n",
       "    }\n",
       "\n",
       "    .dataframe tbody tr th {\n",
       "        vertical-align: top;\n",
       "    }\n",
       "\n",
       "    .dataframe thead th {\n",
       "        text-align: right;\n",
       "    }\n",
       "</style>\n",
       "<table border=\"1\" class=\"dataframe\">\n",
       "  <thead>\n",
       "    <tr style=\"text-align: right;\">\n",
       "      <th></th>\n",
       "      <th>Day of Week</th>\n",
       "      <th>Is Start of Month</th>\n",
       "      <th>Close</th>\n",
       "      <th>High</th>\n",
       "      <th>Low</th>\n",
       "      <th>Open</th>\n",
       "      <th>Volume</th>\n",
       "    </tr>\n",
       "    <tr>\n",
       "      <th>Date</th>\n",
       "      <th></th>\n",
       "      <th></th>\n",
       "      <th></th>\n",
       "      <th></th>\n",
       "      <th></th>\n",
       "      <th></th>\n",
       "      <th></th>\n",
       "    </tr>\n",
       "  </thead>\n",
       "  <tbody>\n",
       "    <tr>\n",
       "      <th>2010-01-01</th>\n",
       "      <td>Friday</td>\n",
       "      <td>True</td>\n",
       "      <td>30.48</td>\n",
       "      <td>30.99</td>\n",
       "      <td>30.48</td>\n",
       "      <td>30.98</td>\n",
       "      <td>0</td>\n",
       "    </tr>\n",
       "    <tr>\n",
       "      <th>2010-01-04</th>\n",
       "      <td>Monday</td>\n",
       "      <td>False</td>\n",
       "      <td>30.95</td>\n",
       "      <td>31.10</td>\n",
       "      <td>30.59</td>\n",
       "      <td>30.65</td>\n",
       "      <td>38414185</td>\n",
       "    </tr>\n",
       "    <tr>\n",
       "      <th>2010-01-05</th>\n",
       "      <td>Tuesday</td>\n",
       "      <td>False</td>\n",
       "      <td>30.96</td>\n",
       "      <td>31.10</td>\n",
       "      <td>30.64</td>\n",
       "      <td>30.87</td>\n",
       "      <td>49758862</td>\n",
       "    </tr>\n",
       "  </tbody>\n",
       "</table>\n",
       "</div>"
      ],
      "text/plain": [
       "           Day of Week  Is Start of Month  Close   High    Low   Open  \\\n",
       "Date                                                                    \n",
       "2010-01-01      Friday               True  30.48  30.99  30.48  30.98   \n",
       "2010-01-04      Monday              False  30.95  31.10  30.59  30.65   \n",
       "2010-01-05     Tuesday              False  30.96  31.10  30.64  30.87   \n",
       "\n",
       "              Volume  \n",
       "Date                  \n",
       "2010-01-01         0  \n",
       "2010-01-04  38414185  \n",
       "2010-01-05  49758862  "
      ]
     },
     "execution_count": 56,
     "metadata": {},
     "output_type": "execute_result"
    }
   ],
   "source": [
    "#stocks = data.DataReader(name = \"GOOG\", data_source = \"google\",\n",
    "#                start = dt.date(2000, 1, 1), end = dt.datetime.now())\n",
    "\n",
    "stocks.head(3)"
   ]
  },
  {
   "cell_type": "code",
   "execution_count": 57,
   "metadata": {},
   "outputs": [
    {
     "data": {
      "text/plain": [
       "DatetimeIndex(['2009-12-01', '2009-12-01', '2009-12-01', '2009-12-01',\n",
       "               '2009-12-01', '2009-12-01', '2009-12-01', '2009-12-01',\n",
       "               '2009-12-01', '2009-12-01',\n",
       "               ...\n",
       "               '2017-12-01', '2017-12-01', '2017-12-01', '2017-12-01',\n",
       "               '2017-12-01', '2017-12-01', '2017-12-01', '2017-12-01',\n",
       "               '2017-12-01', '2017-12-01'],\n",
       "              dtype='datetime64[ns]', name='Date', length=2086, freq=None)"
      ]
     },
     "execution_count": 57,
     "metadata": {},
     "output_type": "execute_result"
    }
   ],
   "source": [
    "stocks.index - MonthEnd()\n",
    "stocks.index - BMonthEnd()\n",
    "stocks.index - QuarterEnd()\n",
    "stocks.index - QuarterBegin()"
   ]
  },
  {
   "cell_type": "code",
   "execution_count": 58,
   "metadata": {},
   "outputs": [
    {
     "data": {
      "text/plain": [
       "DatetimeIndex(['2009-01-01', '2010-01-01', '2010-01-01', '2010-01-01',\n",
       "               '2010-01-01', '2010-01-01', '2010-01-01', '2010-01-01',\n",
       "               '2010-01-01', '2010-01-01',\n",
       "               ...\n",
       "               '2017-01-01', '2017-01-01', '2017-01-01', '2017-01-01',\n",
       "               '2017-01-01', '2017-01-01', '2017-01-01', '2017-01-01',\n",
       "               '2017-01-01', '2017-01-01'],\n",
       "              dtype='datetime64[ns]', name='Date', length=2086, freq=None)"
      ]
     },
     "execution_count": 58,
     "metadata": {},
     "output_type": "execute_result"
    }
   ],
   "source": [
    "stocks.index - YearBegin()"
   ]
  },
  {
   "cell_type": "markdown",
   "metadata": {},
   "source": [
    "## The `Timedelta` Object"
   ]
  },
  {
   "cell_type": "code",
   "execution_count": 59,
   "metadata": {
    "collapsed": true
   },
   "outputs": [],
   "source": [
    "timeA = pd.Timestamp(\"2016-03-31 04:35:16 PM\")\n",
    "timeB = pd.Timestamp(\"2016-03-20 02:16:49 AM\")"
   ]
  },
  {
   "cell_type": "code",
   "execution_count": 60,
   "metadata": {},
   "outputs": [
    {
     "data": {
      "text/plain": [
       "Timedelta('-12 days +09:41:33')"
      ]
     },
     "execution_count": 60,
     "metadata": {},
     "output_type": "execute_result"
    }
   ],
   "source": [
    "timeB - timeA"
   ]
  },
  {
   "cell_type": "code",
   "execution_count": 61,
   "metadata": {},
   "outputs": [
    {
     "data": {
      "text/plain": [
       "pandas._libs.tslibs.timedeltas.Timedelta"
      ]
     },
     "execution_count": 61,
     "metadata": {},
     "output_type": "execute_result"
    }
   ],
   "source": [
    "type(timeA - timeB)"
   ]
  },
  {
   "cell_type": "code",
   "execution_count": 62,
   "metadata": {},
   "outputs": [
    {
     "data": {
      "text/plain": [
       "pandas._libs.tslibs.timestamps.Timestamp"
      ]
     },
     "execution_count": 62,
     "metadata": {},
     "output_type": "execute_result"
    }
   ],
   "source": [
    "type(timeA)"
   ]
  },
  {
   "cell_type": "code",
   "execution_count": 63,
   "metadata": {},
   "outputs": [
    {
     "data": {
      "text/plain": [
       "Timedelta('59 days 12:45:00')"
      ]
     },
     "execution_count": 63,
     "metadata": {},
     "output_type": "execute_result"
    }
   ],
   "source": [
    "pd.Timedelta(weeks = 8, days = 3, hours = 12, minutes = 45)"
   ]
  },
  {
   "cell_type": "code",
   "execution_count": 64,
   "metadata": {},
   "outputs": [
    {
     "data": {
      "text/plain": [
       "Timedelta('14 days 06:12:49')"
      ]
     },
     "execution_count": 64,
     "metadata": {},
     "output_type": "execute_result"
    }
   ],
   "source": [
    "pd.Timedelta(\"14 days 6 hours 12 minutes 49 seconds\")"
   ]
  },
  {
   "cell_type": "markdown",
   "metadata": {},
   "source": [
    "## `Timedeltas` in a Dataset"
   ]
  },
  {
   "cell_type": "code",
   "execution_count": 65,
   "metadata": {},
   "outputs": [
    {
     "data": {
      "text/html": [
       "<div>\n",
       "<style scoped>\n",
       "    .dataframe tbody tr th:only-of-type {\n",
       "        vertical-align: middle;\n",
       "    }\n",
       "\n",
       "    .dataframe tbody tr th {\n",
       "        vertical-align: top;\n",
       "    }\n",
       "\n",
       "    .dataframe thead th {\n",
       "        text-align: right;\n",
       "    }\n",
       "</style>\n",
       "<table border=\"1\" class=\"dataframe\">\n",
       "  <thead>\n",
       "    <tr style=\"text-align: right;\">\n",
       "      <th></th>\n",
       "      <th>order_date</th>\n",
       "      <th>delivery_date</th>\n",
       "    </tr>\n",
       "    <tr>\n",
       "      <th>ID</th>\n",
       "      <th></th>\n",
       "      <th></th>\n",
       "    </tr>\n",
       "  </thead>\n",
       "  <tbody>\n",
       "    <tr>\n",
       "      <th>1</th>\n",
       "      <td>1998-05-24</td>\n",
       "      <td>1999-02-05</td>\n",
       "    </tr>\n",
       "    <tr>\n",
       "      <th>2</th>\n",
       "      <td>1992-04-22</td>\n",
       "      <td>1998-03-06</td>\n",
       "    </tr>\n",
       "    <tr>\n",
       "      <th>4</th>\n",
       "      <td>1991-02-10</td>\n",
       "      <td>1992-08-26</td>\n",
       "    </tr>\n",
       "  </tbody>\n",
       "</table>\n",
       "</div>"
      ],
      "text/plain": [
       "   order_date delivery_date\n",
       "ID                         \n",
       "1  1998-05-24    1999-02-05\n",
       "2  1992-04-22    1998-03-06\n",
       "4  1991-02-10    1992-08-26"
      ]
     },
     "execution_count": 65,
     "metadata": {},
     "output_type": "execute_result"
    }
   ],
   "source": [
    "shipping = pd.read_csv(\"pandas/ecommerce.csv\", index_col = \"ID\", parse_dates = [\"order_date\", \"delivery_date\"])\n",
    "shipping.head(3)"
   ]
  },
  {
   "cell_type": "code",
   "execution_count": 66,
   "metadata": {
    "collapsed": true
   },
   "outputs": [],
   "source": [
    "shipping[\"Delivery Time\"] = shipping[\"delivery_date\"] - shipping[\"order_date\"]"
   ]
  },
  {
   "cell_type": "code",
   "execution_count": 67,
   "metadata": {},
   "outputs": [
    {
     "data": {
      "text/html": [
       "<div>\n",
       "<style scoped>\n",
       "    .dataframe tbody tr th:only-of-type {\n",
       "        vertical-align: middle;\n",
       "    }\n",
       "\n",
       "    .dataframe tbody tr th {\n",
       "        vertical-align: top;\n",
       "    }\n",
       "\n",
       "    .dataframe thead th {\n",
       "        text-align: right;\n",
       "    }\n",
       "</style>\n",
       "<table border=\"1\" class=\"dataframe\">\n",
       "  <thead>\n",
       "    <tr style=\"text-align: right;\">\n",
       "      <th></th>\n",
       "      <th>order_date</th>\n",
       "      <th>delivery_date</th>\n",
       "      <th>Delivery Time</th>\n",
       "    </tr>\n",
       "    <tr>\n",
       "      <th>ID</th>\n",
       "      <th></th>\n",
       "      <th></th>\n",
       "      <th></th>\n",
       "    </tr>\n",
       "  </thead>\n",
       "  <tbody>\n",
       "    <tr>\n",
       "      <th>1</th>\n",
       "      <td>1998-05-24</td>\n",
       "      <td>1999-02-05</td>\n",
       "      <td>257 days</td>\n",
       "    </tr>\n",
       "    <tr>\n",
       "      <th>2</th>\n",
       "      <td>1992-04-22</td>\n",
       "      <td>1998-03-06</td>\n",
       "      <td>2144 days</td>\n",
       "    </tr>\n",
       "    <tr>\n",
       "      <th>4</th>\n",
       "      <td>1991-02-10</td>\n",
       "      <td>1992-08-26</td>\n",
       "      <td>563 days</td>\n",
       "    </tr>\n",
       "  </tbody>\n",
       "</table>\n",
       "</div>"
      ],
      "text/plain": [
       "   order_date delivery_date Delivery Time\n",
       "ID                                       \n",
       "1  1998-05-24    1999-02-05      257 days\n",
       "2  1992-04-22    1998-03-06     2144 days\n",
       "4  1991-02-10    1992-08-26      563 days"
      ]
     },
     "execution_count": 67,
     "metadata": {},
     "output_type": "execute_result"
    }
   ],
   "source": [
    "shipping.head(3)"
   ]
  },
  {
   "cell_type": "code",
   "execution_count": 68,
   "metadata": {
    "collapsed": true
   },
   "outputs": [],
   "source": [
    "shipping[\"Twice As Long\"] = shipping[\"delivery_date\"] + shipping[\"Delivery Time\"]"
   ]
  },
  {
   "cell_type": "code",
   "execution_count": 69,
   "metadata": {},
   "outputs": [
    {
     "data": {
      "text/html": [
       "<div>\n",
       "<style scoped>\n",
       "    .dataframe tbody tr th:only-of-type {\n",
       "        vertical-align: middle;\n",
       "    }\n",
       "\n",
       "    .dataframe tbody tr th {\n",
       "        vertical-align: top;\n",
       "    }\n",
       "\n",
       "    .dataframe thead th {\n",
       "        text-align: right;\n",
       "    }\n",
       "</style>\n",
       "<table border=\"1\" class=\"dataframe\">\n",
       "  <thead>\n",
       "    <tr style=\"text-align: right;\">\n",
       "      <th></th>\n",
       "      <th>order_date</th>\n",
       "      <th>delivery_date</th>\n",
       "      <th>Delivery Time</th>\n",
       "      <th>Twice As Long</th>\n",
       "    </tr>\n",
       "    <tr>\n",
       "      <th>ID</th>\n",
       "      <th></th>\n",
       "      <th></th>\n",
       "      <th></th>\n",
       "      <th></th>\n",
       "    </tr>\n",
       "  </thead>\n",
       "  <tbody>\n",
       "    <tr>\n",
       "      <th>1</th>\n",
       "      <td>1998-05-24</td>\n",
       "      <td>1999-02-05</td>\n",
       "      <td>257 days</td>\n",
       "      <td>1999-10-20</td>\n",
       "    </tr>\n",
       "    <tr>\n",
       "      <th>2</th>\n",
       "      <td>1992-04-22</td>\n",
       "      <td>1998-03-06</td>\n",
       "      <td>2144 days</td>\n",
       "      <td>2004-01-18</td>\n",
       "    </tr>\n",
       "    <tr>\n",
       "      <th>4</th>\n",
       "      <td>1991-02-10</td>\n",
       "      <td>1992-08-26</td>\n",
       "      <td>563 days</td>\n",
       "      <td>1994-03-12</td>\n",
       "    </tr>\n",
       "  </tbody>\n",
       "</table>\n",
       "</div>"
      ],
      "text/plain": [
       "   order_date delivery_date Delivery Time Twice As Long\n",
       "ID                                                     \n",
       "1  1998-05-24    1999-02-05      257 days    1999-10-20\n",
       "2  1992-04-22    1998-03-06     2144 days    2004-01-18\n",
       "4  1991-02-10    1992-08-26      563 days    1994-03-12"
      ]
     },
     "execution_count": 69,
     "metadata": {},
     "output_type": "execute_result"
    }
   ],
   "source": [
    "shipping.head(3)"
   ]
  },
  {
   "cell_type": "code",
   "execution_count": 70,
   "metadata": {},
   "outputs": [
    {
     "data": {
      "text/plain": [
       "order_date        datetime64[ns]\n",
       "delivery_date     datetime64[ns]\n",
       "Delivery Time    timedelta64[ns]\n",
       "Twice As Long     datetime64[ns]\n",
       "dtype: object"
      ]
     },
     "execution_count": 70,
     "metadata": {},
     "output_type": "execute_result"
    }
   ],
   "source": [
    "shipping.dtypes"
   ]
  },
  {
   "cell_type": "code",
   "execution_count": 71,
   "metadata": {},
   "outputs": [
    {
     "data": {
      "text/html": [
       "<div>\n",
       "<style scoped>\n",
       "    .dataframe tbody tr th:only-of-type {\n",
       "        vertical-align: middle;\n",
       "    }\n",
       "\n",
       "    .dataframe tbody tr th {\n",
       "        vertical-align: top;\n",
       "    }\n",
       "\n",
       "    .dataframe thead th {\n",
       "        text-align: right;\n",
       "    }\n",
       "</style>\n",
       "<table border=\"1\" class=\"dataframe\">\n",
       "  <thead>\n",
       "    <tr style=\"text-align: right;\">\n",
       "      <th></th>\n",
       "      <th>order_date</th>\n",
       "      <th>delivery_date</th>\n",
       "      <th>Delivery Time</th>\n",
       "      <th>Twice As Long</th>\n",
       "    </tr>\n",
       "    <tr>\n",
       "      <th>ID</th>\n",
       "      <th></th>\n",
       "      <th></th>\n",
       "      <th></th>\n",
       "      <th></th>\n",
       "    </tr>\n",
       "  </thead>\n",
       "  <tbody>\n",
       "    <tr>\n",
       "      <th>130</th>\n",
       "      <td>1990-04-02</td>\n",
       "      <td>1999-08-16</td>\n",
       "      <td>3423 days</td>\n",
       "      <td>2008-12-29</td>\n",
       "    </tr>\n",
       "  </tbody>\n",
       "</table>\n",
       "</div>"
      ],
      "text/plain": [
       "    order_date delivery_date Delivery Time Twice As Long\n",
       "ID                                                      \n",
       "130 1990-04-02    1999-08-16     3423 days    2008-12-29"
      ]
     },
     "execution_count": 71,
     "metadata": {},
     "output_type": "execute_result"
    }
   ],
   "source": [
    "mask = shipping[\"Delivery Time\"] == \"3423 days\"\n",
    "shipping[mask]"
   ]
  },
  {
   "cell_type": "code",
   "execution_count": 72,
   "metadata": {},
   "outputs": [
    {
     "data": {
      "text/plain": [
       "Timedelta('8 days 00:00:00')"
      ]
     },
     "execution_count": 72,
     "metadata": {},
     "output_type": "execute_result"
    }
   ],
   "source": [
    "shipping[\"Delivery Time\"].min()"
   ]
  },
  {
   "cell_type": "code",
   "execution_count": null,
   "metadata": {
    "collapsed": true
   },
   "outputs": [],
   "source": []
  },
  {
   "cell_type": "code",
   "execution_count": null,
   "metadata": {
    "collapsed": true
   },
   "outputs": [],
   "source": []
  }
 ],
 "metadata": {
  "anaconda-cloud": {},
  "kernelspec": {
   "display_name": "Python [conda root]",
   "language": "python",
   "name": "conda-root-py"
  },
  "language_info": {
   "codemirror_mode": {
    "name": "ipython",
    "version": 3
   },
   "file_extension": ".py",
   "mimetype": "text/x-python",
   "name": "python",
   "nbconvert_exporter": "python",
   "pygments_lexer": "ipython3",
   "version": "3.5.4"
  }
 },
 "nbformat": 4,
 "nbformat_minor": 1
}
