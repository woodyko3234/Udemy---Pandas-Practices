{
 "cells": [
  {
   "cell_type": "code",
   "execution_count": 2,
   "metadata": {},
   "outputs": [],
   "source": [
    "import pandas as pd\n",
    "pd.core.common.is_list_like = pd.api.types.is_list_like\n",
    "from pandas_datareader import data"
   ]
  },
  {
   "cell_type": "code",
   "execution_count": 65,
   "metadata": {
    "scrolled": true
   },
   "outputs": [],
   "source": [
    "companies = [\"MSFT\", \"GOOG\", \"AAPL\", \"YHOO\", \"AMZN\"]\n",
    "\n",
    "p = data.DataReader(name = companies, data_source = \"morningstar\", \n",
    "                         start = \"2010-01-01\", end = \"2017-12-31\")\n",
    "#p"
   ]
  },
  {
   "cell_type": "markdown",
   "metadata": {},
   "source": [
    "## The Axes of the Panel"
   ]
  },
  {
   "cell_type": "code",
   "execution_count": 66,
   "metadata": {},
   "outputs": [
    {
     "name": "stdout",
     "output_type": "stream",
     "text": [
      "5y\n"
     ]
    },
    {
     "name": "stderr",
     "output_type": "stream",
     "text": [
      "/Users/KunWuYao/anaconda/lib/python3.5/site-packages/ipykernel/__main__.py:11: FutureWarning: \n",
      "Panel is deprecated and will be removed in a future version.\n",
      "The recommended way to represent these types of 3-dimensional data are with a MultiIndex on a DataFrame, via the Panel.to_frame() method\n",
      "Alternatively, you can use the xarray package http://xarray.pydata.org/en/stable/.\n",
      "Pandas provides a `.to_xarray()` method to help automate this conversion.\n",
      "\n"
     ]
    }
   ],
   "source": [
    "#companies = [\"MSFT\", \"GOOG\", \"AAPL\", \"YHOO\", \"AMZN\"]\n",
    "\n",
    "#p = data.DataReader(name = companies, data_source = \"google\", start = \"2010-01-01\", end = \"2016-12-31\")\n",
    "\n",
    "#p\n",
    "\n",
    "companies = [\"MSFT\",\"GOOG\",\"AAPL\",\"ERIC\",\"AMZN\"]\n",
    "start   = \"2013-01-01\"\n",
    "end     = \"2018-03-31\"\n",
    "d = data.DataReader(name=companies, data_source=\"iex\", start=start, end=end)\n",
    "p = pd.Panel.from_dict(d,orient=\"minor\")"
   ]
  },
  {
   "cell_type": "code",
   "execution_count": 18,
   "metadata": {
    "scrolled": true
   },
   "outputs": [
    {
     "data": {
      "text/plain": [
       "Index(['close', 'high', 'low', 'open', 'volume'], dtype='object')"
      ]
     },
     "execution_count": 18,
     "metadata": {},
     "output_type": "execute_result"
    }
   ],
   "source": [
    "p.items"
   ]
  },
  {
   "cell_type": "code",
   "execution_count": 19,
   "metadata": {},
   "outputs": [
    {
     "data": {
      "text/plain": [
       "Index(['2013-06-03', '2013-06-04', '2013-06-05', '2013-06-06', '2013-06-07',\n",
       "       '2013-06-10', '2013-06-11', '2013-06-12', '2013-06-13', '2013-06-14',\n",
       "       ...\n",
       "       '2018-03-16', '2018-03-19', '2018-03-20', '2018-03-21', '2018-03-22',\n",
       "       '2018-03-23', '2018-03-26', '2018-03-27', '2018-03-28', '2018-03-29'],\n",
       "      dtype='object', length=1216)"
      ]
     },
     "execution_count": 19,
     "metadata": {},
     "output_type": "execute_result"
    }
   ],
   "source": [
    "p.major_axis"
   ]
  },
  {
   "cell_type": "code",
   "execution_count": 20,
   "metadata": {},
   "outputs": [
    {
     "data": {
      "text/plain": [
       "Index(['ERIC', 'AMZN', 'MSFT', 'AAPL', 'GOOG'], dtype='object')"
      ]
     },
     "execution_count": 20,
     "metadata": {},
     "output_type": "execute_result"
    }
   ],
   "source": [
    "p.minor_axis"
   ]
  },
  {
   "cell_type": "code",
   "execution_count": 21,
   "metadata": {},
   "outputs": [
    {
     "data": {
      "text/plain": [
       "[Index(['close', 'high', 'low', 'open', 'volume'], dtype='object'),\n",
       " Index(['2013-06-03', '2013-06-04', '2013-06-05', '2013-06-06', '2013-06-07',\n",
       "        '2013-06-10', '2013-06-11', '2013-06-12', '2013-06-13', '2013-06-14',\n",
       "        ...\n",
       "        '2018-03-16', '2018-03-19', '2018-03-20', '2018-03-21', '2018-03-22',\n",
       "        '2018-03-23', '2018-03-26', '2018-03-27', '2018-03-28', '2018-03-29'],\n",
       "       dtype='object', length=1216),\n",
       " Index(['ERIC', 'AMZN', 'MSFT', 'AAPL', 'GOOG'], dtype='object')]"
      ]
     },
     "execution_count": 21,
     "metadata": {},
     "output_type": "execute_result"
    }
   ],
   "source": [
    "p.axes"
   ]
  },
  {
   "cell_type": "markdown",
   "metadata": {},
   "source": [
    "## Panel Attributes"
   ]
  },
  {
   "cell_type": "code",
   "execution_count": 22,
   "metadata": {},
   "outputs": [
    {
     "data": {
      "text/plain": [
       "[Index(['close', 'high', 'low', 'open', 'volume'], dtype='object'),\n",
       " Index(['2013-06-03', '2013-06-04', '2013-06-05', '2013-06-06', '2013-06-07',\n",
       "        '2013-06-10', '2013-06-11', '2013-06-12', '2013-06-13', '2013-06-14',\n",
       "        ...\n",
       "        '2018-03-16', '2018-03-19', '2018-03-20', '2018-03-21', '2018-03-22',\n",
       "        '2018-03-23', '2018-03-26', '2018-03-27', '2018-03-28', '2018-03-29'],\n",
       "       dtype='object', length=1216),\n",
       " Index(['ERIC', 'AMZN', 'MSFT', 'AAPL', 'GOOG'], dtype='object')]"
      ]
     },
     "execution_count": 22,
     "metadata": {},
     "output_type": "execute_result"
    }
   ],
   "source": [
    "p.axes\n",
    "p.items\n",
    "p.major_axis\n",
    "p.minor_axis"
   ]
  },
  {
   "cell_type": "code",
   "execution_count": 23,
   "metadata": {},
   "outputs": [
    {
     "data": {
      "text/plain": [
       "3"
      ]
     },
     "execution_count": 23,
     "metadata": {},
     "output_type": "execute_result"
    }
   ],
   "source": [
    "p.ndim"
   ]
  },
  {
   "cell_type": "code",
   "execution_count": 24,
   "metadata": {},
   "outputs": [
    {
     "data": {
      "text/plain": [
       "close     float64\n",
       "high      float64\n",
       "low       float64\n",
       "open      float64\n",
       "volume    float64\n",
       "dtype: object"
      ]
     },
     "execution_count": 24,
     "metadata": {},
     "output_type": "execute_result"
    }
   ],
   "source": [
    "p.dtypes"
   ]
  },
  {
   "cell_type": "code",
   "execution_count": 25,
   "metadata": {},
   "outputs": [
    {
     "data": {
      "text/plain": [
       "(5, 1216, 5)"
      ]
     },
     "execution_count": 25,
     "metadata": {},
     "output_type": "execute_result"
    }
   ],
   "source": [
    "p.shape"
   ]
  },
  {
   "cell_type": "code",
   "execution_count": 26,
   "metadata": {},
   "outputs": [
    {
     "data": {
      "text/plain": [
       "30400"
      ]
     },
     "execution_count": 26,
     "metadata": {},
     "output_type": "execute_result"
    }
   ],
   "source": [
    "p.size"
   ]
  },
  {
   "cell_type": "code",
   "execution_count": 27,
   "metadata": {},
   "outputs": [
    {
     "data": {
      "text/plain": [
       "30400"
      ]
     },
     "execution_count": 27,
     "metadata": {},
     "output_type": "execute_result"
    }
   ],
   "source": [
    "5 *1216 * 5"
   ]
  },
  {
   "cell_type": "markdown",
   "metadata": {},
   "source": [
    "## Extracting `DataFrames` from a `Panel` Using Bracket Notation"
   ]
  },
  {
   "cell_type": "code",
   "execution_count": 28,
   "metadata": {},
   "outputs": [
    {
     "data": {
      "text/plain": [
       "Index(['close', 'high', 'low', 'open', 'volume'], dtype='object')"
      ]
     },
     "execution_count": 28,
     "metadata": {},
     "output_type": "execute_result"
    }
   ],
   "source": [
    "p.items"
   ]
  },
  {
   "cell_type": "code",
   "execution_count": 30,
   "metadata": {
    "collapsed": true
   },
   "outputs": [
    {
     "data": {
      "text/html": [
       "<div>\n",
       "<style scoped>\n",
       "    .dataframe tbody tr th:only-of-type {\n",
       "        vertical-align: middle;\n",
       "    }\n",
       "\n",
       "    .dataframe tbody tr th {\n",
       "        vertical-align: top;\n",
       "    }\n",
       "\n",
       "    .dataframe thead th {\n",
       "        text-align: right;\n",
       "    }\n",
       "</style>\n",
       "<table border=\"1\" class=\"dataframe\">\n",
       "  <thead>\n",
       "    <tr style=\"text-align: right;\">\n",
       "      <th></th>\n",
       "      <th>ERIC</th>\n",
       "      <th>AMZN</th>\n",
       "      <th>MSFT</th>\n",
       "      <th>AAPL</th>\n",
       "      <th>GOOG</th>\n",
       "    </tr>\n",
       "  </thead>\n",
       "  <tbody>\n",
       "    <tr>\n",
       "      <th>2013-06-03</th>\n",
       "      <td>4815167.0</td>\n",
       "      <td>2543880.0</td>\n",
       "      <td>51249396.0</td>\n",
       "      <td>92926932.0</td>\n",
       "      <td>NaN</td>\n",
       "    </tr>\n",
       "    <tr>\n",
       "      <th>2013-06-04</th>\n",
       "      <td>2635364.0</td>\n",
       "      <td>2088072.0</td>\n",
       "      <td>65529399.0</td>\n",
       "      <td>72860221.0</td>\n",
       "      <td>NaN</td>\n",
       "    </tr>\n",
       "    <tr>\n",
       "      <th>2013-06-05</th>\n",
       "      <td>2730180.0</td>\n",
       "      <td>3511955.0</td>\n",
       "      <td>46023857.0</td>\n",
       "      <td>72545760.0</td>\n",
       "      <td>NaN</td>\n",
       "    </tr>\n",
       "    <tr>\n",
       "      <th>2013-06-06</th>\n",
       "      <td>4083654.0</td>\n",
       "      <td>2468970.0</td>\n",
       "      <td>37617747.0</td>\n",
       "      <td>104230322.0</td>\n",
       "      <td>NaN</td>\n",
       "    </tr>\n",
       "    <tr>\n",
       "      <th>2013-06-07</th>\n",
       "      <td>2327465.0</td>\n",
       "      <td>4632239.0</td>\n",
       "      <td>40757245.0</td>\n",
       "      <td>101120551.0</td>\n",
       "      <td>NaN</td>\n",
       "    </tr>\n",
       "    <tr>\n",
       "      <th>2013-06-10</th>\n",
       "      <td>2631069.0</td>\n",
       "      <td>3084405.0</td>\n",
       "      <td>35991809.0</td>\n",
       "      <td>112522179.0</td>\n",
       "      <td>NaN</td>\n",
       "    </tr>\n",
       "    <tr>\n",
       "      <th>2013-06-11</th>\n",
       "      <td>2239112.0</td>\n",
       "      <td>3097745.0</td>\n",
       "      <td>39435445.0</td>\n",
       "      <td>71526560.0</td>\n",
       "      <td>NaN</td>\n",
       "    </tr>\n",
       "    <tr>\n",
       "      <th>2013-06-12</th>\n",
       "      <td>1885323.0</td>\n",
       "      <td>2237998.0</td>\n",
       "      <td>37371982.0</td>\n",
       "      <td>66295887.0</td>\n",
       "      <td>NaN</td>\n",
       "    </tr>\n",
       "    <tr>\n",
       "      <th>2013-06-13</th>\n",
       "      <td>2452041.0</td>\n",
       "      <td>2649715.0</td>\n",
       "      <td>45635878.0</td>\n",
       "      <td>71456693.0</td>\n",
       "      <td>NaN</td>\n",
       "    </tr>\n",
       "    <tr>\n",
       "      <th>2013-06-14</th>\n",
       "      <td>3672599.0</td>\n",
       "      <td>2150543.0</td>\n",
       "      <td>53191609.0</td>\n",
       "      <td>67962419.0</td>\n",
       "      <td>NaN</td>\n",
       "    </tr>\n",
       "    <tr>\n",
       "      <th>2013-06-17</th>\n",
       "      <td>1396433.0</td>\n",
       "      <td>2883867.0</td>\n",
       "      <td>49670032.0</td>\n",
       "      <td>64818670.0</td>\n",
       "      <td>NaN</td>\n",
       "    </tr>\n",
       "    <tr>\n",
       "      <th>2013-06-18</th>\n",
       "      <td>1894706.0</td>\n",
       "      <td>2146005.0</td>\n",
       "      <td>28614869.0</td>\n",
       "      <td>48753768.0</td>\n",
       "      <td>NaN</td>\n",
       "    </tr>\n",
       "    <tr>\n",
       "      <th>2013-06-19</th>\n",
       "      <td>2218054.0</td>\n",
       "      <td>2827248.0</td>\n",
       "      <td>30816008.0</td>\n",
       "      <td>77715057.0</td>\n",
       "      <td>NaN</td>\n",
       "    </tr>\n",
       "    <tr>\n",
       "      <th>2013-06-20</th>\n",
       "      <td>4470808.0</td>\n",
       "      <td>2983983.0</td>\n",
       "      <td>54493643.0</td>\n",
       "      <td>89327210.0</td>\n",
       "      <td>NaN</td>\n",
       "    </tr>\n",
       "    <tr>\n",
       "      <th>2013-06-21</th>\n",
       "      <td>2626637.0</td>\n",
       "      <td>4202058.0</td>\n",
       "      <td>85337340.0</td>\n",
       "      <td>120286768.0</td>\n",
       "      <td>NaN</td>\n",
       "    </tr>\n",
       "    <tr>\n",
       "      <th>2013-06-24</th>\n",
       "      <td>8314064.0</td>\n",
       "      <td>3863764.0</td>\n",
       "      <td>56108988.0</td>\n",
       "      <td>120104964.0</td>\n",
       "      <td>NaN</td>\n",
       "    </tr>\n",
       "    <tr>\n",
       "      <th>2013-06-25</th>\n",
       "      <td>4173687.0</td>\n",
       "      <td>2449510.0</td>\n",
       "      <td>44051085.0</td>\n",
       "      <td>78534687.0</td>\n",
       "      <td>NaN</td>\n",
       "    </tr>\n",
       "    <tr>\n",
       "      <th>2013-06-26</th>\n",
       "      <td>2798942.0</td>\n",
       "      <td>3029016.0</td>\n",
       "      <td>48665592.0</td>\n",
       "      <td>91924994.0</td>\n",
       "      <td>NaN</td>\n",
       "    </tr>\n",
       "    <tr>\n",
       "      <th>2013-06-27</th>\n",
       "      <td>2965900.0</td>\n",
       "      <td>2519422.0</td>\n",
       "      <td>28993042.0</td>\n",
       "      <td>84297955.0</td>\n",
       "      <td>NaN</td>\n",
       "    </tr>\n",
       "    <tr>\n",
       "      <th>2013-06-28</th>\n",
       "      <td>3414851.0</td>\n",
       "      <td>3193262.0</td>\n",
       "      <td>65545445.0</td>\n",
       "      <td>144619734.0</td>\n",
       "      <td>NaN</td>\n",
       "    </tr>\n",
       "    <tr>\n",
       "      <th>2013-07-01</th>\n",
       "      <td>1598365.0</td>\n",
       "      <td>2888140.0</td>\n",
       "      <td>31054868.0</td>\n",
       "      <td>97743408.0</td>\n",
       "      <td>NaN</td>\n",
       "    </tr>\n",
       "    <tr>\n",
       "      <th>2013-07-02</th>\n",
       "      <td>3835199.0</td>\n",
       "      <td>3238108.0</td>\n",
       "      <td>37629522.0</td>\n",
       "      <td>117442150.0</td>\n",
       "      <td>NaN</td>\n",
       "    </tr>\n",
       "    <tr>\n",
       "      <th>2013-07-03</th>\n",
       "      <td>1216664.0</td>\n",
       "      <td>1380205.0</td>\n",
       "      <td>15994380.0</td>\n",
       "      <td>60232158.0</td>\n",
       "      <td>NaN</td>\n",
       "    </tr>\n",
       "    <tr>\n",
       "      <th>2013-07-05</th>\n",
       "      <td>1342331.0</td>\n",
       "      <td>1985323.0</td>\n",
       "      <td>26085831.0</td>\n",
       "      <td>68505794.0</td>\n",
       "      <td>NaN</td>\n",
       "    </tr>\n",
       "    <tr>\n",
       "      <th>2013-07-08</th>\n",
       "      <td>1574845.0</td>\n",
       "      <td>3046664.0</td>\n",
       "      <td>32396842.0</td>\n",
       "      <td>74521398.0</td>\n",
       "      <td>NaN</td>\n",
       "    </tr>\n",
       "    <tr>\n",
       "      <th>2013-07-09</th>\n",
       "      <td>1354033.0</td>\n",
       "      <td>2749006.0</td>\n",
       "      <td>25318501.0</td>\n",
       "      <td>88142026.0</td>\n",
       "      <td>NaN</td>\n",
       "    </tr>\n",
       "    <tr>\n",
       "      <th>2013-07-10</th>\n",
       "      <td>2011164.0</td>\n",
       "      <td>1822877.0</td>\n",
       "      <td>29863085.0</td>\n",
       "      <td>70107226.0</td>\n",
       "      <td>NaN</td>\n",
       "    </tr>\n",
       "    <tr>\n",
       "      <th>2013-07-11</th>\n",
       "      <td>2563751.0</td>\n",
       "      <td>4007201.0</td>\n",
       "      <td>53618047.0</td>\n",
       "      <td>81571665.0</td>\n",
       "      <td>NaN</td>\n",
       "    </tr>\n",
       "    <tr>\n",
       "      <th>2013-07-12</th>\n",
       "      <td>2231292.0</td>\n",
       "      <td>4538473.0</td>\n",
       "      <td>35501154.0</td>\n",
       "      <td>69882694.0</td>\n",
       "      <td>NaN</td>\n",
       "    </tr>\n",
       "    <tr>\n",
       "      <th>2013-07-15</th>\n",
       "      <td>2419316.0</td>\n",
       "      <td>2245387.0</td>\n",
       "      <td>34142125.0</td>\n",
       "      <td>60478033.0</td>\n",
       "      <td>NaN</td>\n",
       "    </tr>\n",
       "    <tr>\n",
       "      <th>...</th>\n",
       "      <td>...</td>\n",
       "      <td>...</td>\n",
       "      <td>...</td>\n",
       "      <td>...</td>\n",
       "      <td>...</td>\n",
       "    </tr>\n",
       "    <tr>\n",
       "      <th>2018-02-15</th>\n",
       "      <td>4692204.0</td>\n",
       "      <td>5652736.0</td>\n",
       "      <td>27823866.0</td>\n",
       "      <td>51147171.0</td>\n",
       "      <td>1843442.0</td>\n",
       "    </tr>\n",
       "    <tr>\n",
       "      <th>2018-02-16</th>\n",
       "      <td>2648605.0</td>\n",
       "      <td>4472564.0</td>\n",
       "      <td>30596919.0</td>\n",
       "      <td>40176091.0</td>\n",
       "      <td>1681612.0</td>\n",
       "    </tr>\n",
       "    <tr>\n",
       "      <th>2018-02-20</th>\n",
       "      <td>3354648.0</td>\n",
       "      <td>6499228.0</td>\n",
       "      <td>30911725.0</td>\n",
       "      <td>33930540.0</td>\n",
       "      <td>1423145.0</td>\n",
       "    </tr>\n",
       "    <tr>\n",
       "      <th>2018-02-21</th>\n",
       "      <td>2331953.0</td>\n",
       "      <td>6304351.0</td>\n",
       "      <td>26922503.0</td>\n",
       "      <td>37471623.0</td>\n",
       "      <td>1512910.0</td>\n",
       "    </tr>\n",
       "    <tr>\n",
       "      <th>2018-02-22</th>\n",
       "      <td>2518687.0</td>\n",
       "      <td>4858063.0</td>\n",
       "      <td>24392753.0</td>\n",
       "      <td>30991940.0</td>\n",
       "      <td>1317166.0</td>\n",
       "    </tr>\n",
       "    <tr>\n",
       "      <th>2018-02-23</th>\n",
       "      <td>5650096.0</td>\n",
       "      <td>4418103.0</td>\n",
       "      <td>26329226.0</td>\n",
       "      <td>33812360.0</td>\n",
       "      <td>1260968.0</td>\n",
       "    </tr>\n",
       "    <tr>\n",
       "      <th>2018-02-26</th>\n",
       "      <td>5141347.0</td>\n",
       "      <td>4954988.0</td>\n",
       "      <td>30199846.0</td>\n",
       "      <td>38162174.0</td>\n",
       "      <td>1559079.0</td>\n",
       "    </tr>\n",
       "    <tr>\n",
       "      <th>2018-02-27</th>\n",
       "      <td>6363071.0</td>\n",
       "      <td>4808776.0</td>\n",
       "      <td>25869119.0</td>\n",
       "      <td>38928125.0</td>\n",
       "      <td>1774080.0</td>\n",
       "    </tr>\n",
       "    <tr>\n",
       "      <th>2018-02-28</th>\n",
       "      <td>6612976.0</td>\n",
       "      <td>4515023.0</td>\n",
       "      <td>31167338.0</td>\n",
       "      <td>37782138.0</td>\n",
       "      <td>1882600.0</td>\n",
       "    </tr>\n",
       "    <tr>\n",
       "      <th>2018-03-01</th>\n",
       "      <td>4277260.0</td>\n",
       "      <td>6835230.0</td>\n",
       "      <td>37135561.0</td>\n",
       "      <td>48801970.0</td>\n",
       "      <td>2515910.0</td>\n",
       "    </tr>\n",
       "    <tr>\n",
       "      <th>2018-03-02</th>\n",
       "      <td>2266083.0</td>\n",
       "      <td>6587564.0</td>\n",
       "      <td>32830389.0</td>\n",
       "      <td>38453950.0</td>\n",
       "      <td>2271551.0</td>\n",
       "    </tr>\n",
       "    <tr>\n",
       "      <th>2018-03-05</th>\n",
       "      <td>2451177.0</td>\n",
       "      <td>5233934.0</td>\n",
       "      <td>23901578.0</td>\n",
       "      <td>28401366.0</td>\n",
       "      <td>1202174.0</td>\n",
       "    </tr>\n",
       "    <tr>\n",
       "      <th>2018-03-06</th>\n",
       "      <td>4204828.0</td>\n",
       "      <td>4561718.0</td>\n",
       "      <td>22175776.0</td>\n",
       "      <td>23788506.0</td>\n",
       "      <td>1532783.0</td>\n",
       "    </tr>\n",
       "    <tr>\n",
       "      <th>2018-03-07</th>\n",
       "      <td>3979956.0</td>\n",
       "      <td>4174123.0</td>\n",
       "      <td>26716127.0</td>\n",
       "      <td>31703462.0</td>\n",
       "      <td>1292537.0</td>\n",
       "    </tr>\n",
       "    <tr>\n",
       "      <th>2018-03-08</th>\n",
       "      <td>5484399.0</td>\n",
       "      <td>3862615.0</td>\n",
       "      <td>25887828.0</td>\n",
       "      <td>23774107.0</td>\n",
       "      <td>1355125.0</td>\n",
       "    </tr>\n",
       "    <tr>\n",
       "      <th>2018-03-09</th>\n",
       "      <td>1722112.0</td>\n",
       "      <td>4534250.0</td>\n",
       "      <td>36937254.0</td>\n",
       "      <td>32185162.0</td>\n",
       "      <td>2128038.0</td>\n",
       "    </tr>\n",
       "    <tr>\n",
       "      <th>2018-03-12</th>\n",
       "      <td>2568420.0</td>\n",
       "      <td>5174211.0</td>\n",
       "      <td>26073742.0</td>\n",
       "      <td>32207081.0</td>\n",
       "      <td>2172272.0</td>\n",
       "    </tr>\n",
       "    <tr>\n",
       "      <th>2018-03-13</th>\n",
       "      <td>3310536.0</td>\n",
       "      <td>6531892.0</td>\n",
       "      <td>35387817.0</td>\n",
       "      <td>31693529.0</td>\n",
       "      <td>1907171.0</td>\n",
       "    </tr>\n",
       "    <tr>\n",
       "      <th>2018-03-14</th>\n",
       "      <td>7400986.0</td>\n",
       "      <td>4259443.0</td>\n",
       "      <td>32131981.0</td>\n",
       "      <td>29368356.0</td>\n",
       "      <td>1291415.0</td>\n",
       "    </tr>\n",
       "    <tr>\n",
       "      <th>2018-03-15</th>\n",
       "      <td>14505929.0</td>\n",
       "      <td>4069701.0</td>\n",
       "      <td>27610998.0</td>\n",
       "      <td>22743798.0</td>\n",
       "      <td>1472226.0</td>\n",
       "    </tr>\n",
       "    <tr>\n",
       "      <th>2018-03-16</th>\n",
       "      <td>6584937.0</td>\n",
       "      <td>5425012.0</td>\n",
       "      <td>49081279.0</td>\n",
       "      <td>39404688.0</td>\n",
       "      <td>3091954.0</td>\n",
       "    </tr>\n",
       "    <tr>\n",
       "      <th>2018-03-19</th>\n",
       "      <td>10482989.0</td>\n",
       "      <td>6580766.0</td>\n",
       "      <td>33344085.0</td>\n",
       "      <td>33446771.0</td>\n",
       "      <td>2805937.0</td>\n",
       "    </tr>\n",
       "    <tr>\n",
       "      <th>2018-03-20</th>\n",
       "      <td>3126738.0</td>\n",
       "      <td>4581568.0</td>\n",
       "      <td>23075240.0</td>\n",
       "      <td>19649350.0</td>\n",
       "      <td>1831896.0</td>\n",
       "    </tr>\n",
       "    <tr>\n",
       "      <th>2018-03-21</th>\n",
       "      <td>2383804.0</td>\n",
       "      <td>4750771.0</td>\n",
       "      <td>24457082.0</td>\n",
       "      <td>37054935.0</td>\n",
       "      <td>1878873.0</td>\n",
       "    </tr>\n",
       "    <tr>\n",
       "      <th>2018-03-22</th>\n",
       "      <td>3108053.0</td>\n",
       "      <td>6320551.0</td>\n",
       "      <td>38604715.0</td>\n",
       "      <td>41490767.0</td>\n",
       "      <td>2666964.0</td>\n",
       "    </tr>\n",
       "    <tr>\n",
       "      <th>2018-03-23</th>\n",
       "      <td>4099330.0</td>\n",
       "      <td>8006033.0</td>\n",
       "      <td>44068949.0</td>\n",
       "      <td>41028784.0</td>\n",
       "      <td>2156672.0</td>\n",
       "    </tr>\n",
       "    <tr>\n",
       "      <th>2018-03-26</th>\n",
       "      <td>4900332.0</td>\n",
       "      <td>5624700.0</td>\n",
       "      <td>56396780.0</td>\n",
       "      <td>37541236.0</td>\n",
       "      <td>2665131.0</td>\n",
       "    </tr>\n",
       "    <tr>\n",
       "      <th>2018-03-27</th>\n",
       "      <td>2080054.0</td>\n",
       "      <td>6999631.0</td>\n",
       "      <td>56569011.0</td>\n",
       "      <td>40922579.0</td>\n",
       "      <td>3095315.0</td>\n",
       "    </tr>\n",
       "    <tr>\n",
       "      <th>2018-03-28</th>\n",
       "      <td>4607185.0</td>\n",
       "      <td>13705317.0</td>\n",
       "      <td>52501146.0</td>\n",
       "      <td>41668545.0</td>\n",
       "      <td>3369275.0</td>\n",
       "    </tr>\n",
       "    <tr>\n",
       "      <th>2018-03-29</th>\n",
       "      <td>3100910.0</td>\n",
       "      <td>12581121.0</td>\n",
       "      <td>45867548.0</td>\n",
       "      <td>38398505.0</td>\n",
       "      <td>2726830.0</td>\n",
       "    </tr>\n",
       "  </tbody>\n",
       "</table>\n",
       "<p>1216 rows × 5 columns</p>\n",
       "</div>"
      ],
      "text/plain": [
       "                  ERIC        AMZN        MSFT         AAPL       GOOG\n",
       "2013-06-03   4815167.0   2543880.0  51249396.0   92926932.0        NaN\n",
       "2013-06-04   2635364.0   2088072.0  65529399.0   72860221.0        NaN\n",
       "2013-06-05   2730180.0   3511955.0  46023857.0   72545760.0        NaN\n",
       "2013-06-06   4083654.0   2468970.0  37617747.0  104230322.0        NaN\n",
       "2013-06-07   2327465.0   4632239.0  40757245.0  101120551.0        NaN\n",
       "2013-06-10   2631069.0   3084405.0  35991809.0  112522179.0        NaN\n",
       "2013-06-11   2239112.0   3097745.0  39435445.0   71526560.0        NaN\n",
       "2013-06-12   1885323.0   2237998.0  37371982.0   66295887.0        NaN\n",
       "2013-06-13   2452041.0   2649715.0  45635878.0   71456693.0        NaN\n",
       "2013-06-14   3672599.0   2150543.0  53191609.0   67962419.0        NaN\n",
       "2013-06-17   1396433.0   2883867.0  49670032.0   64818670.0        NaN\n",
       "2013-06-18   1894706.0   2146005.0  28614869.0   48753768.0        NaN\n",
       "2013-06-19   2218054.0   2827248.0  30816008.0   77715057.0        NaN\n",
       "2013-06-20   4470808.0   2983983.0  54493643.0   89327210.0        NaN\n",
       "2013-06-21   2626637.0   4202058.0  85337340.0  120286768.0        NaN\n",
       "2013-06-24   8314064.0   3863764.0  56108988.0  120104964.0        NaN\n",
       "2013-06-25   4173687.0   2449510.0  44051085.0   78534687.0        NaN\n",
       "2013-06-26   2798942.0   3029016.0  48665592.0   91924994.0        NaN\n",
       "2013-06-27   2965900.0   2519422.0  28993042.0   84297955.0        NaN\n",
       "2013-06-28   3414851.0   3193262.0  65545445.0  144619734.0        NaN\n",
       "2013-07-01   1598365.0   2888140.0  31054868.0   97743408.0        NaN\n",
       "2013-07-02   3835199.0   3238108.0  37629522.0  117442150.0        NaN\n",
       "2013-07-03   1216664.0   1380205.0  15994380.0   60232158.0        NaN\n",
       "2013-07-05   1342331.0   1985323.0  26085831.0   68505794.0        NaN\n",
       "2013-07-08   1574845.0   3046664.0  32396842.0   74521398.0        NaN\n",
       "2013-07-09   1354033.0   2749006.0  25318501.0   88142026.0        NaN\n",
       "2013-07-10   2011164.0   1822877.0  29863085.0   70107226.0        NaN\n",
       "2013-07-11   2563751.0   4007201.0  53618047.0   81571665.0        NaN\n",
       "2013-07-12   2231292.0   4538473.0  35501154.0   69882694.0        NaN\n",
       "2013-07-15   2419316.0   2245387.0  34142125.0   60478033.0        NaN\n",
       "...                ...         ...         ...          ...        ...\n",
       "2018-02-15   4692204.0   5652736.0  27823866.0   51147171.0  1843442.0\n",
       "2018-02-16   2648605.0   4472564.0  30596919.0   40176091.0  1681612.0\n",
       "2018-02-20   3354648.0   6499228.0  30911725.0   33930540.0  1423145.0\n",
       "2018-02-21   2331953.0   6304351.0  26922503.0   37471623.0  1512910.0\n",
       "2018-02-22   2518687.0   4858063.0  24392753.0   30991940.0  1317166.0\n",
       "2018-02-23   5650096.0   4418103.0  26329226.0   33812360.0  1260968.0\n",
       "2018-02-26   5141347.0   4954988.0  30199846.0   38162174.0  1559079.0\n",
       "2018-02-27   6363071.0   4808776.0  25869119.0   38928125.0  1774080.0\n",
       "2018-02-28   6612976.0   4515023.0  31167338.0   37782138.0  1882600.0\n",
       "2018-03-01   4277260.0   6835230.0  37135561.0   48801970.0  2515910.0\n",
       "2018-03-02   2266083.0   6587564.0  32830389.0   38453950.0  2271551.0\n",
       "2018-03-05   2451177.0   5233934.0  23901578.0   28401366.0  1202174.0\n",
       "2018-03-06   4204828.0   4561718.0  22175776.0   23788506.0  1532783.0\n",
       "2018-03-07   3979956.0   4174123.0  26716127.0   31703462.0  1292537.0\n",
       "2018-03-08   5484399.0   3862615.0  25887828.0   23774107.0  1355125.0\n",
       "2018-03-09   1722112.0   4534250.0  36937254.0   32185162.0  2128038.0\n",
       "2018-03-12   2568420.0   5174211.0  26073742.0   32207081.0  2172272.0\n",
       "2018-03-13   3310536.0   6531892.0  35387817.0   31693529.0  1907171.0\n",
       "2018-03-14   7400986.0   4259443.0  32131981.0   29368356.0  1291415.0\n",
       "2018-03-15  14505929.0   4069701.0  27610998.0   22743798.0  1472226.0\n",
       "2018-03-16   6584937.0   5425012.0  49081279.0   39404688.0  3091954.0\n",
       "2018-03-19  10482989.0   6580766.0  33344085.0   33446771.0  2805937.0\n",
       "2018-03-20   3126738.0   4581568.0  23075240.0   19649350.0  1831896.0\n",
       "2018-03-21   2383804.0   4750771.0  24457082.0   37054935.0  1878873.0\n",
       "2018-03-22   3108053.0   6320551.0  38604715.0   41490767.0  2666964.0\n",
       "2018-03-23   4099330.0   8006033.0  44068949.0   41028784.0  2156672.0\n",
       "2018-03-26   4900332.0   5624700.0  56396780.0   37541236.0  2665131.0\n",
       "2018-03-27   2080054.0   6999631.0  56569011.0   40922579.0  3095315.0\n",
       "2018-03-28   4607185.0  13705317.0  52501146.0   41668545.0  3369275.0\n",
       "2018-03-29   3100910.0  12581121.0  45867548.0   38398505.0  2726830.0\n",
       "\n",
       "[1216 rows x 5 columns]"
      ]
     },
     "execution_count": 30,
     "metadata": {},
     "output_type": "execute_result"
    }
   ],
   "source": [
    "p[\"volume\"]"
   ]
  },
  {
   "cell_type": "markdown",
   "metadata": {},
   "source": [
    "## Extracting with the `.loc[]`, `.iloc[]`, and `.ix[]` Methods"
   ]
  },
  {
   "cell_type": "code",
   "execution_count": 48,
   "metadata": {},
   "outputs": [
    {
     "data": {
      "text/plain": [
       "Index(['Open', 'High', 'Low', 'Close', 'Volume'], dtype='object')"
      ]
     },
     "execution_count": 48,
     "metadata": {},
     "output_type": "execute_result"
    }
   ],
   "source": [
    "p.items"
   ]
  },
  {
   "cell_type": "code",
   "execution_count": 31,
   "metadata": {},
   "outputs": [
    {
     "data": {
      "text/plain": [
       "541.61"
      ]
     },
     "execution_count": 31,
     "metadata": {},
     "output_type": "execute_result"
    }
   ],
   "source": [
    "p.loc[\"low\", \"2014-04-08\", \"GOOG\"]"
   ]
  },
  {
   "cell_type": "code",
   "execution_count": 32,
   "metadata": {},
   "outputs": [
    {
     "data": {
      "text/plain": [
       "70.6946"
      ]
     },
     "execution_count": 32,
     "metadata": {},
     "output_type": "execute_result"
    }
   ],
   "source": [
    "p.iloc[3, 200, 3]"
   ]
  },
  {
   "cell_type": "markdown",
   "metadata": {},
   "source": [
    "## Convert `Panel` to a `MultiIndex DataFrame` (and Vice Versa)"
   ]
  },
  {
   "cell_type": "code",
   "execution_count": 34,
   "metadata": {},
   "outputs": [
    {
     "data": {
      "text/html": [
       "<div>\n",
       "<style scoped>\n",
       "    .dataframe tbody tr th:only-of-type {\n",
       "        vertical-align: middle;\n",
       "    }\n",
       "\n",
       "    .dataframe tbody tr th {\n",
       "        vertical-align: top;\n",
       "    }\n",
       "\n",
       "    .dataframe thead th {\n",
       "        text-align: right;\n",
       "    }\n",
       "</style>\n",
       "<table border=\"1\" class=\"dataframe\">\n",
       "  <thead>\n",
       "    <tr style=\"text-align: right;\">\n",
       "      <th></th>\n",
       "      <th></th>\n",
       "      <th>close</th>\n",
       "      <th>high</th>\n",
       "      <th>low</th>\n",
       "      <th>open</th>\n",
       "      <th>volume</th>\n",
       "    </tr>\n",
       "    <tr>\n",
       "      <th>major</th>\n",
       "      <th>minor</th>\n",
       "      <th></th>\n",
       "      <th></th>\n",
       "      <th></th>\n",
       "      <th></th>\n",
       "      <th></th>\n",
       "    </tr>\n",
       "  </thead>\n",
       "  <tbody>\n",
       "    <tr>\n",
       "      <th rowspan=\"4\" valign=\"top\">2013-06-03</th>\n",
       "      <th>ERIC</th>\n",
       "      <td>10.6324</td>\n",
       "      <td>10.6324</td>\n",
       "      <td>10.5163</td>\n",
       "      <td>10.5967</td>\n",
       "      <td>4815167.0</td>\n",
       "    </tr>\n",
       "    <tr>\n",
       "      <th>AMZN</th>\n",
       "      <td>266.8800</td>\n",
       "      <td>269.1100</td>\n",
       "      <td>262.9500</td>\n",
       "      <td>268.9600</td>\n",
       "      <td>2543880.0</td>\n",
       "    </tr>\n",
       "    <tr>\n",
       "      <th>MSFT</th>\n",
       "      <td>31.3573</td>\n",
       "      <td>31.3926</td>\n",
       "      <td>30.6877</td>\n",
       "      <td>30.7670</td>\n",
       "      <td>51249396.0</td>\n",
       "    </tr>\n",
       "    <tr>\n",
       "      <th>AAPL</th>\n",
       "      <td>58.7748</td>\n",
       "      <td>58.9886</td>\n",
       "      <td>57.7003</td>\n",
       "      <td>58.7761</td>\n",
       "      <td>92926932.0</td>\n",
       "    </tr>\n",
       "    <tr>\n",
       "      <th>2013-06-04</th>\n",
       "      <th>ERIC</th>\n",
       "      <td>10.6056</td>\n",
       "      <td>10.6770</td>\n",
       "      <td>10.5431</td>\n",
       "      <td>10.6234</td>\n",
       "      <td>2635364.0</td>\n",
       "    </tr>\n",
       "  </tbody>\n",
       "</table>\n",
       "</div>"
      ],
      "text/plain": [
       "                     close      high       low      open      volume\n",
       "major      minor                                                    \n",
       "2013-06-03 ERIC    10.6324   10.6324   10.5163   10.5967   4815167.0\n",
       "           AMZN   266.8800  269.1100  262.9500  268.9600   2543880.0\n",
       "           MSFT    31.3573   31.3926   30.6877   30.7670  51249396.0\n",
       "           AAPL    58.7748   58.9886   57.7003   58.7761  92926932.0\n",
       "2013-06-04 ERIC    10.6056   10.6770   10.5431   10.6234   2635364.0"
      ]
     },
     "execution_count": 34,
     "metadata": {},
     "output_type": "execute_result"
    }
   ],
   "source": [
    "df = p.to_frame()\n",
    "df.head()"
   ]
  },
  {
   "cell_type": "code",
   "execution_count": 35,
   "metadata": {},
   "outputs": [
    {
     "name": "stderr",
     "output_type": "stream",
     "text": [
      "/Users/KunWuYao/anaconda/lib/python3.5/site-packages/ipykernel/__main__.py:1: FutureWarning: \n",
      "Panel is deprecated and will be removed in a future version.\n",
      "The recommended way to represent these types of 3-dimensional data are with a MultiIndex on a DataFrame, via the Panel.to_frame() method\n",
      "Alternatively, you can use the xarray package http://xarray.pydata.org/en/stable/.\n",
      "Pandas provides a `.to_xarray()` method to help automate this conversion.\n",
      "\n",
      "  if __name__ == '__main__':\n"
     ]
    },
    {
     "data": {
      "text/plain": [
       "<class 'pandas.core.panel.Panel'>\n",
       "Dimensions: 5 (items) x 1216 (major_axis) x 5 (minor_axis)\n",
       "Items axis: close to volume\n",
       "Major_axis axis: 2013-06-03 to 2018-03-29\n",
       "Minor_axis axis: ERIC to GOOG"
      ]
     },
     "execution_count": 35,
     "metadata": {},
     "output_type": "execute_result"
    }
   ],
   "source": [
    "p2 = df.to_panel()\n",
    "p2"
   ]
  },
  {
   "cell_type": "markdown",
   "metadata": {},
   "source": [
    "## The `.major_xs()` Method"
   ]
  },
  {
   "cell_type": "code",
   "execution_count": 36,
   "metadata": {},
   "outputs": [
    {
     "data": {
      "text/html": [
       "<div>\n",
       "<style scoped>\n",
       "    .dataframe tbody tr th:only-of-type {\n",
       "        vertical-align: middle;\n",
       "    }\n",
       "\n",
       "    .dataframe tbody tr th {\n",
       "        vertical-align: top;\n",
       "    }\n",
       "\n",
       "    .dataframe thead th {\n",
       "        text-align: right;\n",
       "    }\n",
       "</style>\n",
       "<table border=\"1\" class=\"dataframe\">\n",
       "  <thead>\n",
       "    <tr style=\"text-align: right;\">\n",
       "      <th></th>\n",
       "      <th>ERIC</th>\n",
       "      <th>AMZN</th>\n",
       "      <th>MSFT</th>\n",
       "      <th>AAPL</th>\n",
       "      <th>GOOG</th>\n",
       "    </tr>\n",
       "  </thead>\n",
       "  <tbody>\n",
       "    <tr>\n",
       "      <th>2013-06-03</th>\n",
       "      <td>4815167.0</td>\n",
       "      <td>2543880.0</td>\n",
       "      <td>51249396.0</td>\n",
       "      <td>92926932.0</td>\n",
       "      <td>NaN</td>\n",
       "    </tr>\n",
       "    <tr>\n",
       "      <th>2013-06-04</th>\n",
       "      <td>2635364.0</td>\n",
       "      <td>2088072.0</td>\n",
       "      <td>65529399.0</td>\n",
       "      <td>72860221.0</td>\n",
       "      <td>NaN</td>\n",
       "    </tr>\n",
       "    <tr>\n",
       "      <th>2013-06-05</th>\n",
       "      <td>2730180.0</td>\n",
       "      <td>3511955.0</td>\n",
       "      <td>46023857.0</td>\n",
       "      <td>72545760.0</td>\n",
       "      <td>NaN</td>\n",
       "    </tr>\n",
       "    <tr>\n",
       "      <th>2013-06-06</th>\n",
       "      <td>4083654.0</td>\n",
       "      <td>2468970.0</td>\n",
       "      <td>37617747.0</td>\n",
       "      <td>104230322.0</td>\n",
       "      <td>NaN</td>\n",
       "    </tr>\n",
       "    <tr>\n",
       "      <th>2013-06-07</th>\n",
       "      <td>2327465.0</td>\n",
       "      <td>4632239.0</td>\n",
       "      <td>40757245.0</td>\n",
       "      <td>101120551.0</td>\n",
       "      <td>NaN</td>\n",
       "    </tr>\n",
       "  </tbody>\n",
       "</table>\n",
       "</div>"
      ],
      "text/plain": [
       "                 ERIC       AMZN        MSFT         AAPL  GOOG\n",
       "2013-06-03  4815167.0  2543880.0  51249396.0   92926932.0   NaN\n",
       "2013-06-04  2635364.0  2088072.0  65529399.0   72860221.0   NaN\n",
       "2013-06-05  2730180.0  3511955.0  46023857.0   72545760.0   NaN\n",
       "2013-06-06  4083654.0  2468970.0  37617747.0  104230322.0   NaN\n",
       "2013-06-07  2327465.0  4632239.0  40757245.0  101120551.0   NaN"
      ]
     },
     "execution_count": 36,
     "metadata": {},
     "output_type": "execute_result"
    }
   ],
   "source": [
    "p.items\n",
    "p[\"volume\"].head()"
   ]
  },
  {
   "cell_type": "code",
   "execution_count": 37,
   "metadata": {},
   "outputs": [
    {
     "data": {
      "text/plain": [
       "Index(['2013-06-03', '2013-06-04', '2013-06-05', '2013-06-06', '2013-06-07',\n",
       "       '2013-06-10', '2013-06-11', '2013-06-12', '2013-06-13', '2013-06-14',\n",
       "       ...\n",
       "       '2018-03-16', '2018-03-19', '2018-03-20', '2018-03-21', '2018-03-22',\n",
       "       '2018-03-23', '2018-03-26', '2018-03-27', '2018-03-28', '2018-03-29'],\n",
       "      dtype='object', length=1216)"
      ]
     },
     "execution_count": 37,
     "metadata": {},
     "output_type": "execute_result"
    }
   ],
   "source": [
    "p.major_axis"
   ]
  },
  {
   "cell_type": "code",
   "execution_count": 39,
   "metadata": {},
   "outputs": [
    {
     "data": {
      "text/html": [
       "<div>\n",
       "<style scoped>\n",
       "    .dataframe tbody tr th:only-of-type {\n",
       "        vertical-align: middle;\n",
       "    }\n",
       "\n",
       "    .dataframe tbody tr th {\n",
       "        vertical-align: top;\n",
       "    }\n",
       "\n",
       "    .dataframe thead th {\n",
       "        text-align: right;\n",
       "    }\n",
       "</style>\n",
       "<table border=\"1\" class=\"dataframe\">\n",
       "  <thead>\n",
       "    <tr style=\"text-align: right;\">\n",
       "      <th></th>\n",
       "      <th>close</th>\n",
       "      <th>high</th>\n",
       "      <th>low</th>\n",
       "      <th>open</th>\n",
       "      <th>volume</th>\n",
       "    </tr>\n",
       "  </thead>\n",
       "  <tbody>\n",
       "    <tr>\n",
       "      <th>ERIC</th>\n",
       "      <td>10.5520</td>\n",
       "      <td>10.5788</td>\n",
       "      <td>10.4895</td>\n",
       "      <td>10.4985</td>\n",
       "      <td>3060763.0</td>\n",
       "    </tr>\n",
       "    <tr>\n",
       "      <th>AMZN</th>\n",
       "      <td>402.2000</td>\n",
       "      <td>404.7200</td>\n",
       "      <td>395.7800</td>\n",
       "      <td>396.5500</td>\n",
       "      <td>5038537.0</td>\n",
       "    </tr>\n",
       "    <tr>\n",
       "      <th>MSFT</th>\n",
       "      <td>32.8995</td>\n",
       "      <td>33.0157</td>\n",
       "      <td>32.3497</td>\n",
       "      <td>32.3631</td>\n",
       "      <td>62650324.0</td>\n",
       "    </tr>\n",
       "    <tr>\n",
       "      <th>AAPL</th>\n",
       "      <td>72.4867</td>\n",
       "      <td>72.8287</td>\n",
       "      <td>71.9319</td>\n",
       "      <td>72.0128</td>\n",
       "      <td>109103435.0</td>\n",
       "    </tr>\n",
       "    <tr>\n",
       "      <th>GOOG</th>\n",
       "      <td>NaN</td>\n",
       "      <td>NaN</td>\n",
       "      <td>NaN</td>\n",
       "      <td>NaN</td>\n",
       "      <td>NaN</td>\n",
       "    </tr>\n",
       "  </tbody>\n",
       "</table>\n",
       "</div>"
      ],
      "text/plain": [
       "         close      high       low      open       volume\n",
       "ERIC   10.5520   10.5788   10.4895   10.4985    3060763.0\n",
       "AMZN  402.2000  404.7200  395.7800  396.5500    5038537.0\n",
       "MSFT   32.8995   33.0157   32.3497   32.3631   62650324.0\n",
       "AAPL   72.4867   72.8287   71.9319   72.0128  109103435.0\n",
       "GOOG       NaN       NaN       NaN       NaN          NaN"
      ]
     },
     "execution_count": 39,
     "metadata": {},
     "output_type": "execute_result"
    }
   ],
   "source": [
    "p.major_xs(\"2013-12-20\")"
   ]
  },
  {
   "cell_type": "markdown",
   "metadata": {},
   "source": [
    "## The `.minor_xs()` Method"
   ]
  },
  {
   "cell_type": "code",
   "execution_count": 40,
   "metadata": {},
   "outputs": [
    {
     "data": {
      "text/plain": [
       "Index(['ERIC', 'AMZN', 'MSFT', 'AAPL', 'GOOG'], dtype='object')"
      ]
     },
     "execution_count": 40,
     "metadata": {},
     "output_type": "execute_result"
    }
   ],
   "source": [
    "p.minor_axis"
   ]
  },
  {
   "cell_type": "code",
   "execution_count": 41,
   "metadata": {},
   "outputs": [
    {
     "data": {
      "text/html": [
       "<div>\n",
       "<style scoped>\n",
       "    .dataframe tbody tr th:only-of-type {\n",
       "        vertical-align: middle;\n",
       "    }\n",
       "\n",
       "    .dataframe tbody tr th {\n",
       "        vertical-align: top;\n",
       "    }\n",
       "\n",
       "    .dataframe thead th {\n",
       "        text-align: right;\n",
       "    }\n",
       "</style>\n",
       "<table border=\"1\" class=\"dataframe\">\n",
       "  <thead>\n",
       "    <tr style=\"text-align: right;\">\n",
       "      <th></th>\n",
       "      <th>close</th>\n",
       "      <th>high</th>\n",
       "      <th>low</th>\n",
       "      <th>open</th>\n",
       "      <th>volume</th>\n",
       "    </tr>\n",
       "  </thead>\n",
       "  <tbody>\n",
       "    <tr>\n",
       "      <th>2013-06-03</th>\n",
       "      <td>NaN</td>\n",
       "      <td>NaN</td>\n",
       "      <td>NaN</td>\n",
       "      <td>NaN</td>\n",
       "      <td>NaN</td>\n",
       "    </tr>\n",
       "    <tr>\n",
       "      <th>2013-06-04</th>\n",
       "      <td>NaN</td>\n",
       "      <td>NaN</td>\n",
       "      <td>NaN</td>\n",
       "      <td>NaN</td>\n",
       "      <td>NaN</td>\n",
       "    </tr>\n",
       "    <tr>\n",
       "      <th>2013-06-05</th>\n",
       "      <td>NaN</td>\n",
       "      <td>NaN</td>\n",
       "      <td>NaN</td>\n",
       "      <td>NaN</td>\n",
       "      <td>NaN</td>\n",
       "    </tr>\n",
       "  </tbody>\n",
       "</table>\n",
       "</div>"
      ],
      "text/plain": [
       "            close  high  low  open  volume\n",
       "2013-06-03    NaN   NaN  NaN   NaN     NaN\n",
       "2013-06-04    NaN   NaN  NaN   NaN     NaN\n",
       "2013-06-05    NaN   NaN  NaN   NaN     NaN"
      ]
     },
     "execution_count": 41,
     "metadata": {},
     "output_type": "execute_result"
    }
   ],
   "source": [
    "#p.minor_xs(\"MSFT\")\n",
    "p.minor_xs(\"GOOG\").head(3)"
   ]
  },
  {
   "cell_type": "code",
   "execution_count": 43,
   "metadata": {},
   "outputs": [
    {
     "data": {
      "text/html": [
       "<div>\n",
       "<style scoped>\n",
       "    .dataframe tbody tr th:only-of-type {\n",
       "        vertical-align: middle;\n",
       "    }\n",
       "\n",
       "    .dataframe tbody tr th {\n",
       "        vertical-align: top;\n",
       "    }\n",
       "\n",
       "    .dataframe thead th {\n",
       "        text-align: right;\n",
       "    }\n",
       "</style>\n",
       "<table border=\"1\" class=\"dataframe\">\n",
       "  <thead>\n",
       "    <tr style=\"text-align: right;\">\n",
       "      <th></th>\n",
       "      <th>close</th>\n",
       "      <th>high</th>\n",
       "      <th>low</th>\n",
       "      <th>open</th>\n",
       "      <th>volume</th>\n",
       "    </tr>\n",
       "  </thead>\n",
       "  <tbody>\n",
       "    <tr>\n",
       "      <th>2013-06-03</th>\n",
       "      <td>58.7748</td>\n",
       "      <td>58.9886</td>\n",
       "      <td>57.7003</td>\n",
       "      <td>58.7761</td>\n",
       "      <td>92926932.0</td>\n",
       "    </tr>\n",
       "    <tr>\n",
       "      <th>2013-06-04</th>\n",
       "      <td>58.5909</td>\n",
       "      <td>59.2586</td>\n",
       "      <td>58.3405</td>\n",
       "      <td>59.1008</td>\n",
       "      <td>72860221.0</td>\n",
       "    </tr>\n",
       "    <tr>\n",
       "      <th>2013-06-05</th>\n",
       "      <td>58.0432</td>\n",
       "      <td>58.7748</td>\n",
       "      <td>57.8607</td>\n",
       "      <td>58.1136</td>\n",
       "      <td>72545760.0</td>\n",
       "    </tr>\n",
       "    <tr>\n",
       "      <th>2013-06-06</th>\n",
       "      <td>57.1760</td>\n",
       "      <td>58.2897</td>\n",
       "      <td>56.6010</td>\n",
       "      <td>58.0902</td>\n",
       "      <td>104230322.0</td>\n",
       "    </tr>\n",
       "    <tr>\n",
       "      <th>2013-06-07</th>\n",
       "      <td>57.6130</td>\n",
       "      <td>57.7994</td>\n",
       "      <td>56.4341</td>\n",
       "      <td>56.9205</td>\n",
       "      <td>101120551.0</td>\n",
       "    </tr>\n",
       "  </tbody>\n",
       "</table>\n",
       "</div>"
      ],
      "text/plain": [
       "              close     high      low     open       volume\n",
       "2013-06-03  58.7748  58.9886  57.7003  58.7761   92926932.0\n",
       "2013-06-04  58.5909  59.2586  58.3405  59.1008   72860221.0\n",
       "2013-06-05  58.0432  58.7748  57.8607  58.1136   72545760.0\n",
       "2013-06-06  57.1760  58.2897  56.6010  58.0902  104230322.0\n",
       "2013-06-07  57.6130  57.7994  56.4341  56.9205  101120551.0"
      ]
     },
     "execution_count": 43,
     "metadata": {},
     "output_type": "execute_result"
    }
   ],
   "source": [
    "p[\"open\"]\n",
    "p.major_xs(\"2016-09-16\").head()\n",
    "p.minor_xs(\"AAPL\").head()"
   ]
  },
  {
   "cell_type": "markdown",
   "metadata": {},
   "source": [
    "## Transpose a `Panel` with the `.transpose()` Method"
   ]
  },
  {
   "cell_type": "code",
   "execution_count": 44,
   "metadata": {},
   "outputs": [
    {
     "data": {
      "text/plain": [
       "[Index(['close', 'high', 'low', 'open', 'volume'], dtype='object'),\n",
       " Index(['2013-06-03', '2013-06-04', '2013-06-05', '2013-06-06', '2013-06-07',\n",
       "        '2013-06-10', '2013-06-11', '2013-06-12', '2013-06-13', '2013-06-14',\n",
       "        ...\n",
       "        '2018-03-16', '2018-03-19', '2018-03-20', '2018-03-21', '2018-03-22',\n",
       "        '2018-03-23', '2018-03-26', '2018-03-27', '2018-03-28', '2018-03-29'],\n",
       "       dtype='object', length=1216),\n",
       " Index(['ERIC', 'AMZN', 'MSFT', 'AAPL', 'GOOG'], dtype='object')]"
      ]
     },
     "execution_count": 44,
     "metadata": {},
     "output_type": "execute_result"
    }
   ],
   "source": [
    "p.axes"
   ]
  },
  {
   "cell_type": "code",
   "execution_count": 45,
   "metadata": {},
   "outputs": [
    {
     "name": "stderr",
     "output_type": "stream",
     "text": [
      "/Users/KunWuYao/anaconda/lib/python3.5/site-packages/pandas/core/panel.py:1255: FutureWarning: \n",
      "Panel is deprecated and will be removed in a future version.\n",
      "The recommended way to represent these types of 3-dimensional data are with a MultiIndex on a DataFrame, via the Panel.to_frame() method\n",
      "Alternatively, you can use the xarray package http://xarray.pydata.org/en/stable/.\n",
      "Pandas provides a `.to_xarray()` method to help automate this conversion.\n",
      "\n",
      "  return super(Panel, self).transpose(*axes, **kwargs)\n"
     ]
    }
   ],
   "source": [
    "p2 = p.transpose(2, 1, 0)"
   ]
  },
  {
   "cell_type": "code",
   "execution_count": 46,
   "metadata": {},
   "outputs": [
    {
     "data": {
      "text/plain": [
       "<class 'pandas.core.panel.Panel'>\n",
       "Dimensions: 5 (items) x 1216 (major_axis) x 5 (minor_axis)\n",
       "Items axis: close to volume\n",
       "Major_axis axis: 2013-06-03 to 2018-03-29\n",
       "Minor_axis axis: ERIC to GOOG"
      ]
     },
     "execution_count": 46,
     "metadata": {},
     "output_type": "execute_result"
    }
   ],
   "source": [
    "p"
   ]
  },
  {
   "cell_type": "code",
   "execution_count": 48,
   "metadata": {},
   "outputs": [
    {
     "data": {
      "text/html": [
       "<div>\n",
       "<style scoped>\n",
       "    .dataframe tbody tr th:only-of-type {\n",
       "        vertical-align: middle;\n",
       "    }\n",
       "\n",
       "    .dataframe tbody tr th {\n",
       "        vertical-align: top;\n",
       "    }\n",
       "\n",
       "    .dataframe thead th {\n",
       "        text-align: right;\n",
       "    }\n",
       "</style>\n",
       "<table border=\"1\" class=\"dataframe\">\n",
       "  <thead>\n",
       "    <tr style=\"text-align: right;\">\n",
       "      <th></th>\n",
       "      <th>close</th>\n",
       "      <th>high</th>\n",
       "      <th>low</th>\n",
       "      <th>open</th>\n",
       "      <th>volume</th>\n",
       "    </tr>\n",
       "  </thead>\n",
       "  <tbody>\n",
       "    <tr>\n",
       "      <th>2013-06-03</th>\n",
       "      <td>NaN</td>\n",
       "      <td>NaN</td>\n",
       "      <td>NaN</td>\n",
       "      <td>NaN</td>\n",
       "      <td>NaN</td>\n",
       "    </tr>\n",
       "    <tr>\n",
       "      <th>2013-06-04</th>\n",
       "      <td>NaN</td>\n",
       "      <td>NaN</td>\n",
       "      <td>NaN</td>\n",
       "      <td>NaN</td>\n",
       "      <td>NaN</td>\n",
       "    </tr>\n",
       "    <tr>\n",
       "      <th>2013-06-05</th>\n",
       "      <td>NaN</td>\n",
       "      <td>NaN</td>\n",
       "      <td>NaN</td>\n",
       "      <td>NaN</td>\n",
       "      <td>NaN</td>\n",
       "    </tr>\n",
       "    <tr>\n",
       "      <th>2013-06-06</th>\n",
       "      <td>NaN</td>\n",
       "      <td>NaN</td>\n",
       "      <td>NaN</td>\n",
       "      <td>NaN</td>\n",
       "      <td>NaN</td>\n",
       "    </tr>\n",
       "    <tr>\n",
       "      <th>2013-06-07</th>\n",
       "      <td>NaN</td>\n",
       "      <td>NaN</td>\n",
       "      <td>NaN</td>\n",
       "      <td>NaN</td>\n",
       "      <td>NaN</td>\n",
       "    </tr>\n",
       "  </tbody>\n",
       "</table>\n",
       "</div>"
      ],
      "text/plain": [
       "            close  high  low  open  volume\n",
       "2013-06-03    NaN   NaN  NaN   NaN     NaN\n",
       "2013-06-04    NaN   NaN  NaN   NaN     NaN\n",
       "2013-06-05    NaN   NaN  NaN   NaN     NaN\n",
       "2013-06-06    NaN   NaN  NaN   NaN     NaN\n",
       "2013-06-07    NaN   NaN  NaN   NaN     NaN"
      ]
     },
     "execution_count": 48,
     "metadata": {},
     "output_type": "execute_result"
    }
   ],
   "source": [
    "p2[\"GOOG\"].head()"
   ]
  },
  {
   "cell_type": "code",
   "execution_count": 53,
   "metadata": {},
   "outputs": [
    {
     "data": {
      "text/html": [
       "<div>\n",
       "<style scoped>\n",
       "    .dataframe tbody tr th:only-of-type {\n",
       "        vertical-align: middle;\n",
       "    }\n",
       "\n",
       "    .dataframe tbody tr th {\n",
       "        vertical-align: top;\n",
       "    }\n",
       "\n",
       "    .dataframe thead th {\n",
       "        text-align: right;\n",
       "    }\n",
       "</style>\n",
       "<table border=\"1\" class=\"dataframe\">\n",
       "  <thead>\n",
       "    <tr style=\"text-align: right;\">\n",
       "      <th></th>\n",
       "      <th>ERIC</th>\n",
       "      <th>AMZN</th>\n",
       "      <th>MSFT</th>\n",
       "      <th>AAPL</th>\n",
       "      <th>GOOG</th>\n",
       "    </tr>\n",
       "  </thead>\n",
       "  <tbody>\n",
       "    <tr>\n",
       "      <th>close</th>\n",
       "      <td>1.056990e+01</td>\n",
       "      <td>393.63</td>\n",
       "      <td>3.230050e+01</td>\n",
       "      <td>7.181470e+01</td>\n",
       "      <td>NaN</td>\n",
       "    </tr>\n",
       "    <tr>\n",
       "      <th>high</th>\n",
       "      <td>1.065910e+01</td>\n",
       "      <td>397.00</td>\n",
       "      <td>3.298000e+01</td>\n",
       "      <td>7.219360e+01</td>\n",
       "      <td>NaN</td>\n",
       "    </tr>\n",
       "    <tr>\n",
       "      <th>low</th>\n",
       "      <td>1.053420e+01</td>\n",
       "      <td>388.42</td>\n",
       "      <td>3.228270e+01</td>\n",
       "      <td>7.045090e+01</td>\n",
       "      <td>NaN</td>\n",
       "    </tr>\n",
       "    <tr>\n",
       "      <th>open</th>\n",
       "      <td>1.061450e+01</td>\n",
       "      <td>395.85</td>\n",
       "      <td>3.294420e+01</td>\n",
       "      <td>7.095920e+01</td>\n",
       "      <td>NaN</td>\n",
       "    </tr>\n",
       "    <tr>\n",
       "      <th>volume</th>\n",
       "      <td>2.154907e+06</td>\n",
       "      <td>3172207.00</td>\n",
       "      <td>4.361504e+07</td>\n",
       "      <td>1.033592e+08</td>\n",
       "      <td>NaN</td>\n",
       "    </tr>\n",
       "  </tbody>\n",
       "</table>\n",
       "</div>"
      ],
      "text/plain": [
       "                ERIC        AMZN          MSFT          AAPL  GOOG\n",
       "close   1.056990e+01      393.63  3.230050e+01  7.181470e+01   NaN\n",
       "high    1.065910e+01      397.00  3.298000e+01  7.219360e+01   NaN\n",
       "low     1.053420e+01      388.42  3.228270e+01  7.045090e+01   NaN\n",
       "open    1.061450e+01      395.85  3.294420e+01  7.095920e+01   NaN\n",
       "volume  2.154907e+06  3172207.00  4.361504e+07  1.033592e+08   NaN"
      ]
     },
     "execution_count": 53,
     "metadata": {},
     "output_type": "execute_result"
    }
   ],
   "source": [
    "p2.major_xs(\"2014-01-06\").head()"
   ]
  },
  {
   "cell_type": "code",
   "execution_count": 54,
   "metadata": {},
   "outputs": [
    {
     "data": {
      "text/html": [
       "<div>\n",
       "<style scoped>\n",
       "    .dataframe tbody tr th:only-of-type {\n",
       "        vertical-align: middle;\n",
       "    }\n",
       "\n",
       "    .dataframe tbody tr th {\n",
       "        vertical-align: top;\n",
       "    }\n",
       "\n",
       "    .dataframe thead th {\n",
       "        text-align: right;\n",
       "    }\n",
       "</style>\n",
       "<table border=\"1\" class=\"dataframe\">\n",
       "  <thead>\n",
       "    <tr style=\"text-align: right;\">\n",
       "      <th></th>\n",
       "      <th>ERIC</th>\n",
       "      <th>AMZN</th>\n",
       "      <th>MSFT</th>\n",
       "      <th>AAPL</th>\n",
       "      <th>GOOG</th>\n",
       "    </tr>\n",
       "  </thead>\n",
       "  <tbody>\n",
       "    <tr>\n",
       "      <th>2013-06-03</th>\n",
       "      <td>4815167.0</td>\n",
       "      <td>2543880.0</td>\n",
       "      <td>51249396.0</td>\n",
       "      <td>92926932.0</td>\n",
       "      <td>NaN</td>\n",
       "    </tr>\n",
       "    <tr>\n",
       "      <th>2013-06-04</th>\n",
       "      <td>2635364.0</td>\n",
       "      <td>2088072.0</td>\n",
       "      <td>65529399.0</td>\n",
       "      <td>72860221.0</td>\n",
       "      <td>NaN</td>\n",
       "    </tr>\n",
       "    <tr>\n",
       "      <th>2013-06-05</th>\n",
       "      <td>2730180.0</td>\n",
       "      <td>3511955.0</td>\n",
       "      <td>46023857.0</td>\n",
       "      <td>72545760.0</td>\n",
       "      <td>NaN</td>\n",
       "    </tr>\n",
       "    <tr>\n",
       "      <th>2013-06-06</th>\n",
       "      <td>4083654.0</td>\n",
       "      <td>2468970.0</td>\n",
       "      <td>37617747.0</td>\n",
       "      <td>104230322.0</td>\n",
       "      <td>NaN</td>\n",
       "    </tr>\n",
       "    <tr>\n",
       "      <th>2013-06-07</th>\n",
       "      <td>2327465.0</td>\n",
       "      <td>4632239.0</td>\n",
       "      <td>40757245.0</td>\n",
       "      <td>101120551.0</td>\n",
       "      <td>NaN</td>\n",
       "    </tr>\n",
       "  </tbody>\n",
       "</table>\n",
       "</div>"
      ],
      "text/plain": [
       "                 ERIC       AMZN        MSFT         AAPL  GOOG\n",
       "2013-06-03  4815167.0  2543880.0  51249396.0   92926932.0   NaN\n",
       "2013-06-04  2635364.0  2088072.0  65529399.0   72860221.0   NaN\n",
       "2013-06-05  2730180.0  3511955.0  46023857.0   72545760.0   NaN\n",
       "2013-06-06  4083654.0  2468970.0  37617747.0  104230322.0   NaN\n",
       "2013-06-07  2327465.0  4632239.0  40757245.0  101120551.0   NaN"
      ]
     },
     "execution_count": 54,
     "metadata": {},
     "output_type": "execute_result"
    }
   ],
   "source": [
    "p2.minor_xs(\"volume\").head()"
   ]
  },
  {
   "cell_type": "code",
   "execution_count": null,
   "metadata": {
    "collapsed": true
   },
   "outputs": [],
   "source": []
  },
  {
   "cell_type": "markdown",
   "metadata": {},
   "source": [
    "## The `.swapaxes()` Method"
   ]
  },
  {
   "cell_type": "code",
   "execution_count": 72,
   "metadata": {},
   "outputs": [
    {
     "name": "stderr",
     "output_type": "stream",
     "text": [
      "/Users/KunWuYao/anaconda/lib/python3.5/site-packages/ipykernel/__main__.py:1: FutureWarning: \n",
      "Panel is deprecated and will be removed in a future version.\n",
      "The recommended way to represent these types of 3-dimensional data are with a MultiIndex on a DataFrame, via the Panel.to_frame() method\n",
      "Alternatively, you can use the xarray package http://xarray.pydata.org/en/stable/.\n",
      "Pandas provides a `.to_xarray()` method to help automate this conversion.\n",
      "\n",
      "  if __name__ == '__main__':\n"
     ]
    }
   ],
   "source": [
    "p2 = p.swapaxes(\"items\", \"minor\")"
   ]
  },
  {
   "cell_type": "code",
   "execution_count": 73,
   "metadata": {},
   "outputs": [
    {
     "data": {
      "text/plain": [
       "[Index(['ERIC', 'AMZN', 'MSFT', 'AAPL', 'GOOG'], dtype='object'),\n",
       " Index(['2013-06-03', '2013-06-04', '2013-06-05', '2013-06-06', '2013-06-07',\n",
       "        '2013-06-10', '2013-06-11', '2013-06-12', '2013-06-13', '2013-06-14',\n",
       "        ...\n",
       "        '2018-03-16', '2018-03-19', '2018-03-20', '2018-03-21', '2018-03-22',\n",
       "        '2018-03-23', '2018-03-26', '2018-03-27', '2018-03-28', '2018-03-29'],\n",
       "       dtype='object', length=1216),\n",
       " Index(['close', 'high', 'low', 'open', 'volume'], dtype='object')]"
      ]
     },
     "execution_count": 73,
     "metadata": {},
     "output_type": "execute_result"
    }
   ],
   "source": [
    "p2.axes"
   ]
  },
  {
   "cell_type": "code",
   "execution_count": 74,
   "metadata": {},
   "outputs": [
    {
     "data": {
      "text/html": [
       "<div>\n",
       "<style scoped>\n",
       "    .dataframe tbody tr th:only-of-type {\n",
       "        vertical-align: middle;\n",
       "    }\n",
       "\n",
       "    .dataframe tbody tr th {\n",
       "        vertical-align: top;\n",
       "    }\n",
       "\n",
       "    .dataframe thead th {\n",
       "        text-align: right;\n",
       "    }\n",
       "</style>\n",
       "<table border=\"1\" class=\"dataframe\">\n",
       "  <thead>\n",
       "    <tr style=\"text-align: right;\">\n",
       "      <th></th>\n",
       "      <th>ERIC</th>\n",
       "      <th>AMZN</th>\n",
       "      <th>MSFT</th>\n",
       "      <th>AAPL</th>\n",
       "      <th>GOOG</th>\n",
       "    </tr>\n",
       "  </thead>\n",
       "  <tbody>\n",
       "    <tr>\n",
       "      <th>2013-06-03</th>\n",
       "      <td>10.6324</td>\n",
       "      <td>266.88</td>\n",
       "      <td>31.3573</td>\n",
       "      <td>58.7748</td>\n",
       "      <td>NaN</td>\n",
       "    </tr>\n",
       "    <tr>\n",
       "      <th>2013-06-04</th>\n",
       "      <td>10.6056</td>\n",
       "      <td>265.70</td>\n",
       "      <td>30.8287</td>\n",
       "      <td>58.5909</td>\n",
       "      <td>NaN</td>\n",
       "    </tr>\n",
       "    <tr>\n",
       "      <th>2013-06-05</th>\n",
       "      <td>10.4181</td>\n",
       "      <td>267.17</td>\n",
       "      <td>30.6437</td>\n",
       "      <td>58.0432</td>\n",
       "      <td>NaN</td>\n",
       "    </tr>\n",
       "    <tr>\n",
       "      <th>2013-06-06</th>\n",
       "      <td>10.5877</td>\n",
       "      <td>267.83</td>\n",
       "      <td>30.8023</td>\n",
       "      <td>57.1760</td>\n",
       "      <td>NaN</td>\n",
       "    </tr>\n",
       "    <tr>\n",
       "      <th>2013-06-07</th>\n",
       "      <td>10.5431</td>\n",
       "      <td>276.87</td>\n",
       "      <td>31.4278</td>\n",
       "      <td>57.6130</td>\n",
       "      <td>NaN</td>\n",
       "    </tr>\n",
       "  </tbody>\n",
       "</table>\n",
       "</div>"
      ],
      "text/plain": [
       "               ERIC    AMZN     MSFT     AAPL  GOOG\n",
       "2013-06-03  10.6324  266.88  31.3573  58.7748   NaN\n",
       "2013-06-04  10.6056  265.70  30.8287  58.5909   NaN\n",
       "2013-06-05  10.4181  267.17  30.6437  58.0432   NaN\n",
       "2013-06-06  10.5877  267.83  30.8023  57.1760   NaN\n",
       "2013-06-07  10.5431  276.87  31.4278  57.6130   NaN"
      ]
     },
     "execution_count": 74,
     "metadata": {},
     "output_type": "execute_result"
    }
   ],
   "source": [
    "p2[\"MSFT\"].head()\n",
    "p2.major_xs(\"2016-09-02\").head()\n",
    "p2.minor_xs(\"close\").head()"
   ]
  },
  {
   "cell_type": "code",
   "execution_count": null,
   "metadata": {
    "collapsed": true
   },
   "outputs": [],
   "source": []
  }
 ],
 "metadata": {
  "anaconda-cloud": {},
  "kernelspec": {
   "display_name": "Python [conda root]",
   "language": "python",
   "name": "conda-root-py"
  },
  "language_info": {
   "codemirror_mode": {
    "name": "ipython",
    "version": 3
   },
   "file_extension": ".py",
   "mimetype": "text/x-python",
   "name": "python",
   "nbconvert_exporter": "python",
   "pygments_lexer": "ipython3",
   "version": "3.5.4"
  }
 },
 "nbformat": 4,
 "nbformat_minor": 1
}
